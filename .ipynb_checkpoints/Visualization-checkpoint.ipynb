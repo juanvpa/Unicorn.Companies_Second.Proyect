{
 "cells": [
  {
   "cell_type": "markdown",
   "id": "ebaebbe7",
   "metadata": {},
   "source": [
    "### UNICORN COMPANIES DATA VISUALIZATION"
   ]
  },
  {
   "cell_type": "markdown",
   "id": "b7b9dfce",
   "metadata": {},
   "source": [
    "#### IMPORT LIBRERY"
   ]
  },
  {
   "cell_type": "code",
   "execution_count": 1,
   "id": "b30512af",
   "metadata": {},
   "outputs": [
    {
     "name": "stdout",
     "output_type": "stream",
     "text": [
      "Collecting package metadata (current_repodata.json): done\n",
      "Solving environment: done\n",
      "\n",
      "# All requested packages already installed.\n",
      "\n"
     ]
    }
   ],
   "source": [
    "import sys\n",
    "!conda install --yes --prefix {sys.prefix} plotly\n",
    "import pandas as pd\n",
    "import numpy as np\n",
    "import re\n",
    "import seaborn as sns\n",
    "import matplotlib.pyplot as plt\n",
    "import plotly.express as px\n",
    "import plotly.graph_objects as go"
   ]
  },
  {
   "cell_type": "code",
   "execution_count": 2,
   "id": "3c58cf04",
   "metadata": {},
   "outputs": [
    {
     "name": "stdout",
     "output_type": "stream",
     "text": [
      "Requirement already satisfied: plotly in /usr/local/Caskroom/miniconda/base/envs/ironhack/lib/python3.8/site-packages (5.3.1)\r\n",
      "Requirement already satisfied: tenacity>=6.2.0 in /usr/local/Caskroom/miniconda/base/envs/ironhack/lib/python3.8/site-packages (from plotly) (8.0.1)\r\n",
      "Requirement already satisfied: six in /usr/local/Caskroom/miniconda/base/envs/ironhack/lib/python3.8/site-packages (from plotly) (1.16.0)\r\n"
     ]
    }
   ],
   "source": [
    "!pip install plotly"
   ]
  },
  {
   "cell_type": "markdown",
   "id": "243f5f1f",
   "metadata": {},
   "source": [
    "#### IMPORT THE NEW DATAFRAME AS CSV, POST CLEANING"
   ]
  },
  {
   "cell_type": "code",
   "execution_count": 3,
   "id": "ac1bc079",
   "metadata": {},
   "outputs": [],
   "source": [
    "unicorn = pd.read_csv(\"data/Unicorn2.csv\",encoding = \"ISO-8859-1\")"
   ]
  },
  {
   "cell_type": "code",
   "execution_count": 4,
   "id": "eea398f1",
   "metadata": {},
   "outputs": [
    {
     "data": {
      "text/html": [
       "<div>\n",
       "<style scoped>\n",
       "    .dataframe tbody tr th:only-of-type {\n",
       "        vertical-align: middle;\n",
       "    }\n",
       "\n",
       "    .dataframe tbody tr th {\n",
       "        vertical-align: top;\n",
       "    }\n",
       "\n",
       "    .dataframe thead th {\n",
       "        text-align: right;\n",
       "    }\n",
       "</style>\n",
       "<table border=\"1\" class=\"dataframe\">\n",
       "  <thead>\n",
       "    <tr style=\"text-align: right;\">\n",
       "      <th></th>\n",
       "      <th>Unnamed: 0</th>\n",
       "      <th>Company name</th>\n",
       "      <th>Valuation (in $B)</th>\n",
       "      <th>Country of origin</th>\n",
       "      <th>City</th>\n",
       "      <th>Industry</th>\n",
       "      <th>Date</th>\n",
       "    </tr>\n",
       "  </thead>\n",
       "  <tbody>\n",
       "    <tr>\n",
       "      <th>293</th>\n",
       "      <td>293</td>\n",
       "      <td>Starling Bank</td>\n",
       "      <td>$1.95</td>\n",
       "      <td>United Kingdom</td>\n",
       "      <td>London</td>\n",
       "      <td>Fintech</td>\n",
       "      <td>2021</td>\n",
       "    </tr>\n",
       "    <tr>\n",
       "      <th>179</th>\n",
       "      <td>179</td>\n",
       "      <td>OpenAI</td>\n",
       "      <td>$2.92</td>\n",
       "      <td>United States</td>\n",
       "      <td>San Francisco</td>\n",
       "      <td>Artificial intelligence</td>\n",
       "      <td>2019</td>\n",
       "    </tr>\n",
       "    <tr>\n",
       "      <th>373</th>\n",
       "      <td>373</td>\n",
       "      <td>Podium</td>\n",
       "      <td>$1.5</td>\n",
       "      <td>United States</td>\n",
       "      <td>Lehi</td>\n",
       "      <td>Internet software &amp; services</td>\n",
       "      <td>2020</td>\n",
       "    </tr>\n",
       "    <tr>\n",
       "      <th>253</th>\n",
       "      <td>253</td>\n",
       "      <td>Quanergy Systems</td>\n",
       "      <td>$2</td>\n",
       "      <td>United States</td>\n",
       "      <td>Sunnyvale</td>\n",
       "      <td>Auto &amp; transportation</td>\n",
       "      <td>2016</td>\n",
       "    </tr>\n",
       "    <tr>\n",
       "      <th>680</th>\n",
       "      <td>680</td>\n",
       "      <td>Cameo</td>\n",
       "      <td>$1</td>\n",
       "      <td>United States</td>\n",
       "      <td>Chicago</td>\n",
       "      <td>Internet software &amp; services</td>\n",
       "      <td>2021</td>\n",
       "    </tr>\n",
       "    <tr>\n",
       "      <th>114</th>\n",
       "      <td>114</td>\n",
       "      <td>Kavak</td>\n",
       "      <td>$4</td>\n",
       "      <td>Mexico</td>\n",
       "      <td>Colonia Juarez</td>\n",
       "      <td>E-commerce &amp; direct-to-consumer</td>\n",
       "      <td>2020</td>\n",
       "    </tr>\n",
       "    <tr>\n",
       "      <th>565</th>\n",
       "      <td>565</td>\n",
       "      <td>Dxy.cn</td>\n",
       "      <td>$1</td>\n",
       "      <td>China</td>\n",
       "      <td>Hangzhou</td>\n",
       "      <td>Health</td>\n",
       "      <td>2018</td>\n",
       "    </tr>\n",
       "    <tr>\n",
       "      <th>219</th>\n",
       "      <td>219</td>\n",
       "      <td>Skydance Media</td>\n",
       "      <td>$2.3</td>\n",
       "      <td>United States</td>\n",
       "      <td>Santa Monica</td>\n",
       "      <td>Other</td>\n",
       "      <td>2020</td>\n",
       "    </tr>\n",
       "    <tr>\n",
       "      <th>693</th>\n",
       "      <td>693</td>\n",
       "      <td>HoneyBook</td>\n",
       "      <td>$1</td>\n",
       "      <td>United States</td>\n",
       "      <td>San Francisco</td>\n",
       "      <td>Internet software &amp; services</td>\n",
       "      <td>2021</td>\n",
       "    </tr>\n",
       "    <tr>\n",
       "      <th>607</th>\n",
       "      <td>607</td>\n",
       "      <td>Lightricks</td>\n",
       "      <td>$1</td>\n",
       "      <td>Israel</td>\n",
       "      <td>Jerusalem</td>\n",
       "      <td>Artificial intelligence</td>\n",
       "      <td>2019</td>\n",
       "    </tr>\n",
       "  </tbody>\n",
       "</table>\n",
       "</div>"
      ],
      "text/plain": [
       "     Unnamed: 0      Company name Valuation (in $B) Country of origin  \\\n",
       "293         293     Starling Bank             $1.95    United Kingdom   \n",
       "179         179            OpenAI             $2.92     United States   \n",
       "373         373            Podium              $1.5     United States   \n",
       "253         253  Quanergy Systems                $2     United States   \n",
       "680         680             Cameo                $1     United States   \n",
       "114         114             Kavak                $4            Mexico   \n",
       "565         565            Dxy.cn                $1             China   \n",
       "219         219    Skydance Media              $2.3     United States   \n",
       "693         693         HoneyBook                $1     United States   \n",
       "607         607        Lightricks                $1            Israel   \n",
       "\n",
       "               City                         Industry  Date  \n",
       "293          London                          Fintech  2021  \n",
       "179   San Francisco          Artificial intelligence  2019  \n",
       "373            Lehi     Internet software & services  2020  \n",
       "253       Sunnyvale            Auto & transportation  2016  \n",
       "680         Chicago     Internet software & services  2021  \n",
       "114  Colonia Juarez  E-commerce & direct-to-consumer  2020  \n",
       "565        Hangzhou                           Health  2018  \n",
       "219    Santa Monica                            Other  2020  \n",
       "693   San Francisco     Internet software & services  2021  \n",
       "607       Jerusalem          Artificial intelligence  2019  "
      ]
     },
     "metadata": {},
     "output_type": "display_data"
    }
   ],
   "source": [
    "display(unicorn.sample(10))"
   ]
  },
  {
   "cell_type": "markdown",
   "id": "8c802e39",
   "metadata": {},
   "source": [
    "***\n",
    "### HYPOTHESES I"
   ]
  },
  {
   "cell_type": "markdown",
   "id": "48f82a34",
   "metadata": {},
   "source": [
    "#### CREATE THE NEW DATAFRAME THAT WE WANT TO LATTER PLOT FILTERING BY THE LAST FOUR YEARS\n"
   ]
  },
  {
   "cell_type": "code",
   "execution_count": 5,
   "id": "acb007d1",
   "metadata": {},
   "outputs": [],
   "source": [
    "top4 = list(dict(unicorn[\"Date\"].value_counts()[0:4]).keys())\n",
    "unicorn2 = unicorn[unicorn[\"Date\"].isin(top4)]"
   ]
  },
  {
   "cell_type": "markdown",
   "id": "c3bd6d66",
   "metadata": {},
   "source": [
    "#### CREATE THE TABLE THAT WE WANT TO LATTER PLOT"
   ]
  },
  {
   "cell_type": "code",
   "execution_count": 87,
   "id": "5227c153",
   "metadata": {},
   "outputs": [],
   "source": [
    "best_industry = px.histogram(unicorn2, x=\"Industry\",color=\"Date\",title=\"AMOUNT OF UNICORNS PER INDUSTRY\")"
   ]
  },
  {
   "cell_type": "code",
   "execution_count": 88,
   "id": "d7361989",
   "metadata": {
    "scrolled": false
   },
   "outputs": [
    {
     "data": {
      "application/vnd.plotly.v1+json": {
       "config": {
        "plotlyServerURL": "https://plot.ly"
       },
       "data": [
        {
         "alignmentgroup": "True",
         "bingroup": "x",
         "hovertemplate": "Date=2018<br>Industry=%{x}<br>count=%{y}<extra></extra>",
         "legendgroup": "2018",
         "marker": {
          "color": "#636efa",
          "pattern": {
           "shape": ""
          }
         },
         "name": "2018",
         "offsetgroup": "2018",
         "orientation": "v",
         "showlegend": true,
         "type": "histogram",
         "x": [
          "Fintech",
          "Other",
          "Internet software & services",
          "E-commerce & direct-to-consumer",
          "Fintech",
          "Supply chain, logistics, & delivery",
          "Hardware",
          "Health",
          "Data management & analytics",
          "Internet software & services",
          "Travel",
          "Internet software & services",
          "Health",
          "Fintech",
          "Internet software & services",
          "Artificial intelligence",
          "E-commerce & direct-to-consumer",
          "Hardware",
          "Internet software & services",
          "Consumer & retail",
          "Internet software & services",
          "Fintech",
          "Artificial intelligence",
          "Internet software & services",
          "Auto & transportation",
          "Supply chain, logistics, & delivery",
          "Other",
          "Travel",
          "Fintech",
          "Auto & transportation",
          "Artificial intelligence",
          "Fintech",
          "Health",
          "Data management & analytics",
          "Internet software & services",
          "Supply chain, logistics, & delivery",
          "Auto & transportation",
          "Artificial intelligence",
          "Supply chain, logistics, & delivery",
          "Supply chain, logistics, & delivery",
          "Fintech",
          "Edtech",
          "Internet software & services",
          "Cybersecurity",
          "Auto & transportation",
          "Artificial intelligence",
          "Supply chain, logistics, & delivery",
          "Fintech",
          "Fintech",
          "Internet software & services",
          "Auto & transportation",
          "E-commerce & direct-to-consumer",
          "Internet software & services",
          "Consumer & retail",
          "Other",
          "Artificial intelligence",
          "Artificial intelligence",
          "Internet software & services",
          "Artificial intelligence",
          "Internet software & services",
          "Hardware",
          "Fintech",
          "Auto & transportation",
          "Consumer & retail",
          "E-commerce & direct-to-consumer",
          "Consumer & retail",
          "Data management & analytics",
          "Fintech",
          "Auto & transportation",
          "Consumer & retail",
          "Internet software & services",
          "E-commerce & direct-to-consumer",
          "Consumer & retail",
          "Mobile & telecommunications",
          "Hardware",
          "Supply chain, logistics, & delivery",
          "Auto & transportation",
          "Supply chain, logistics, & delivery",
          "Internet software & services",
          "Artificial intelligence",
          "Travel",
          "E-commerce & direct-to-consumer",
          "Other",
          "Mobile & telecommunications",
          "Internet software & services",
          "Internet software & services",
          "Auto & transportation",
          "Artificial intelligence",
          "Hardware",
          "Auto & transportation",
          "Internet software & services",
          "Artificial intelligence",
          "Auto & transportation",
          "Health",
          "Fintech",
          "Health",
          "Artificial intelligence",
          "Mobile & telecommunications",
          "Hardware",
          "Edtech",
          "Hardware",
          "Health",
          "Internet software & services",
          "Mobile & telecommunications",
          "Supply chain, logistics, & delivery",
          "Consumer & retail",
          "Mobile & telecommunications",
          "E-commerce & direct-to-consumer",
          "Health",
          "Supply chain, logistics, & delivery",
          "Mobile & telecommunications",
          "Auto & transportation",
          "Fintech",
          "Artificial intelligence",
          "E-commerce & direct-to-consumer",
          "Travel",
          "Hardware",
          "Hardware",
          "Internet software & services",
          "Supply chain, logistics, & delivery",
          "Hardware",
          "Supply chain, logistics, & delivery"
         ],
         "xaxis": "x",
         "yaxis": "y"
        },
        {
         "alignmentgroup": "True",
         "bingroup": "x",
         "hovertemplate": "Date=2019<br>Industry=%{x}<br>count=%{y}<extra></extra>",
         "legendgroup": "2019",
         "marker": {
          "color": "#EF553B",
          "pattern": {
           "shape": ""
          }
         },
         "name": "2019",
         "offsetgroup": "2019",
         "orientation": "v",
         "showlegend": true,
         "type": "histogram",
         "x": [
          "Data management & analytics",
          "Auto & transportation",
          "Fintech",
          "Fintech",
          "Auto & transportation",
          "Supply chain, logistics, & delivery",
          "Fintech",
          "Other",
          "Artificial intelligence",
          "Artificial intelligence",
          "Artificial intelligence",
          "Internet software & services",
          "Auto & transportation",
          "Auto & transportation",
          "Internet software & services",
          "E-commerce & direct-to-consumer",
          "Data management & analytics",
          "Internet software & services",
          "Consumer & retail",
          "Health",
          "Fintech",
          "E-commerce & direct-to-consumer",
          "E-commerce & direct-to-consumer",
          "Internet software & services",
          "Fintech",
          "Other",
          "Fintech",
          "Mobile & telecommunications",
          "Fintech",
          "Artificial intelligence",
          "Other",
          "Supply chain, logistics, & delivery",
          "Auto & transportation",
          "Fintech",
          "Artificial intelligence",
          "Fintech",
          "Internet software & services",
          "Artificial intelligence",
          "Artificial intelligence",
          "Fintech",
          "Fintech",
          "Cybersecurity",
          "Fintech",
          "Education",
          "Data management & analytics",
          "Other",
          "Health",
          "Internet software & services",
          "E-commerce & direct-to-consumer",
          "Mobile & telecommunications",
          "Consumer & retail",
          "Cybersecurity",
          "Travel",
          "Data management & analytics",
          "Artificial intelligence",
          "Internet software & services",
          "E-commerce & direct-to-consumer",
          "Internet software & services",
          "Artificial intelligence",
          "Auto & transportation",
          "Fintech",
          "Fintech",
          "Fintech",
          "Fintech",
          "Fintech",
          "E-commerce & direct-to-consumer",
          "Fintech",
          "E-commerce & direct-to-consumer",
          "Auto & transportation",
          "Internet software & services",
          "E-commerce & direct-to-consumer",
          "Cybersecurity",
          "Travel",
          "Artificial intelligence",
          "Other",
          "Other",
          "Supply chain, logistics, & delivery",
          "Supply chain, logistics, & delivery",
          "Consumer & retail",
          "Supply chain, logistics, & delivery",
          "Mobile & telecommunications",
          "Artificial intelligence",
          "Supply chain, logistics, & delivery",
          "Health",
          "Fintech",
          "Fintech",
          "Travel",
          "Fintech",
          "Artificial intelligence",
          "Supply chain, logistics, & delivery",
          "Internet software & services",
          "Data management & analytics",
          "Health",
          "Artificial intelligence",
          "Other",
          "Other",
          "Artificial intelligence",
          "Fintech",
          "Mobile & telecommunications",
          "Internet software & services",
          "Other",
          "Edtech",
          "Supply chain, logistics, & delivery",
          "Travel",
          "Internet software & services",
          "Artificial intelligence",
          "E-commerce & direct-to-consumer",
          "Auto & transportation",
          "Artificial intelligence",
          "Fintech",
          "Fintech",
          "Fintech",
          "Health",
          "Internet software & services",
          "Fintech",
          "Internet software & services",
          "E-commerce & direct-to-consumer",
          "Travel",
          "Cybersecurity",
          "Health",
          "Supply chain, logistics, & delivery",
          "Fintech"
         ],
         "xaxis": "x",
         "yaxis": "y"
        },
        {
         "alignmentgroup": "True",
         "bingroup": "x",
         "hovertemplate": "Date=2020<br>Industry=%{x}<br>count=%{y}<extra></extra>",
         "legendgroup": "2020",
         "marker": {
          "color": "#00cc96",
          "pattern": {
           "shape": ""
          }
         },
         "name": "2020",
         "offsetgroup": "2020",
         "orientation": "v",
         "showlegend": true,
         "type": "histogram",
         "x": [
          "Internet software & services",
          "E-commerce & direct-to-consumer",
          "E-commerce & direct-to-consumer",
          "Artificial intelligence",
          "Fintech",
          "Consumer & retail",
          "Other",
          "Fintech",
          "Internet software & services",
          "Health",
          "Other",
          "Cybersecurity",
          "Other",
          "Data management & analytics",
          "Internet software & services",
          "E-commerce & direct-to-consumer",
          "Mobile & telecommunications",
          "Data management & analytics",
          "Health",
          "Mobile & telecommunications",
          "Auto & transportation",
          "Edtech",
          "Fintech",
          "Cybersecurity",
          "Fintech",
          "Fintech",
          "Cybersecurity",
          "E-commerce & direct-to-consumer",
          "E-commerce & direct-to-consumer",
          "Other",
          "Health",
          "Fintech",
          "Auto & transportation",
          "Mobile & telecommunications",
          "E-commerce & direct-to-consumer",
          "Fintech",
          "Mobile & telecommunications",
          "Internet software & services",
          "Internet software & services",
          "E-commerce & direct-to-consumer",
          "Mobile & telecommunications",
          "Internet software & services",
          "Data management & analytics",
          "Edtech",
          "E-commerce & direct-to-consumer",
          "Fintech",
          "Fintech",
          "Fintech",
          "Health",
          "Supply chain, logistics, & delivery",
          "Other",
          "Other",
          "E-commerce & direct-to-consumer",
          "Fintech",
          "E-commerce & direct-to-consumer",
          "Cybersecurity",
          "Hardware",
          "Internet software & services",
          "Edtech",
          "E-commerce & direct-to-consumer",
          "Internet software & services",
          "Internet software & services",
          "Auto & transportation",
          "E-commerce & direct-to-consumer",
          "Internet software & services",
          "Other",
          "Internet software & services",
          "Internet software & services",
          "Health",
          "Health",
          "Cybersecurity",
          "E-commerce & direct-to-consumer",
          "Other",
          "Data management & analytics",
          "Cybersecurity",
          "Mobile & telecommunications",
          "Fintech",
          "Internet software & services",
          "Data management & analytics<",
          "Data management & analytics",
          "Internet software & services",
          "E-commerce & direct-to-consumer",
          "Cybersecurity",
          "Data management & analytics",
          "Edtech",
          "Health",
          "E-commerce & direct-to-consumer",
          "Hardware",
          "Artificial intelligence",
          "Supply chain, logistics, & delivery",
          "Internet software & services",
          "Health",
          "Artificial intelligence",
          "Other",
          "Edtech",
          "Other",
          "Other",
          "Health",
          "E-commerce & direct-to-consumer",
          "Health",
          "Fintech",
          "Hardware",
          "Mobile & telecommunications",
          "Fintech",
          "E-commerce & direct-to-consumer",
          "Other",
          "Auto & transportation",
          "Internet software & services",
          "Internet software & services",
          "Supply chain, logistics, & delivery",
          "Cybersecurity",
          "E-commerce & direct-to-consumer",
          "Health",
          "Internet software & services",
          "Internet software & services",
          "Other",
          "Artificial intelligence",
          "Fintech",
          "Internet software & services"
         ],
         "xaxis": "x",
         "yaxis": "y"
        },
        {
         "alignmentgroup": "True",
         "bingroup": "x",
         "hovertemplate": "Date=2021<br>Industry=%{x}<br>count=%{y}<extra></extra>",
         "legendgroup": "2021",
         "marker": {
          "color": "#ab63fa",
          "pattern": {
           "shape": ""
          }
         },
         "name": "2021",
         "offsetgroup": "2021",
         "orientation": "v",
         "showlegend": true,
         "type": "histogram",
         "x": [
          "E-commerce & direct-to-consumer",
          "Health",
          "Supply chain, logistics, & delivery",
          "Fintech",
          "Fintech",
          "Data management & analytics",
          "E-commerce & direct-to-consumer",
          "Internet software & services",
          "Internet software & services",
          "Mobile & telecommunications",
          "Internet software & services",
          "Internet software & services",
          "Health",
          "Fintech",
          "E-commerce & direct-to-consumer",
          "Health",
          "Internet software & services",
          "Fintech",
          "Internet software & services",
          "Internet software & services",
          "Supply chain, logistics, & delivery",
          "Edtech",
          "Fintech",
          "Auto & transportation",
          "Fintech",
          "Cybersecurity",
          "Fintech",
          "Internet software & services",
          "Other",
          "Fintech",
          "Fintech",
          "Fintech",
          "Data management & analytics",
          "Internet software & services",
          "Artificial intelligence",
          "Internet software & services",
          "Internet software & services",
          "Fintech",
          "Fintech",
          "Fintech",
          "Health",
          "Fintech",
          "Artificial intelligence",
          "Health",
          "E-commerce & direct-to-consumer",
          "Internet software & services",
          "Fintech",
          "Fintech",
          "Fintech",
          "Fintech",
          "Fintech",
          "Health",
          "Fintech",
          "Other",
          "Cybersecurity",
          "Internet software & services",
          "Internet software & services",
          "Artificial intelligence",
          "Internet software & services",
          "Health",
          "E-commerce & direct-to-consumer",
          "Cybersecurity",
          "Health",
          "Internet software & services",
          "Fintech",
          "Other",
          "Internet software & services",
          "Fintech",
          "E-commerce & direct-to-consumer",
          "E-commerce & direct-to-consumer",
          "Internet software & services",
          "Internet software & services",
          "Fintech",
          "Artificial Intelligence",
          "Data management & analytics",
          "Fintech",
          "Internet software & services",
          "Health",
          "Fintech",
          "Health",
          "Other",
          "Cybersecurity",
          "Internet software & services",
          "Fintech",
          "Fintech",
          "Hardware",
          "Health",
          "Fintech",
          "Data management & analytics",
          "Internet software & services",
          "Internet software & services",
          "Other",
          "Internet software & services",
          "Internet software & services",
          "Edtech",
          "Mobile & telecommunications",
          "Fintech",
          "Fintech",
          "Internet software & services",
          "Fintech",
          "Fintech",
          "Health",
          "Cybersecurity",
          "Cybersecurity",
          "Other",
          "Edtech",
          "Internet software & services",
          "Fintech",
          "Health",
          "Data management & analytics",
          "Internet software & services",
          "Fintech",
          "Cybersecurity",
          "E-commerce & direct-to-consumer",
          "Fintech",
          "Cybersecurity",
          "Fintech",
          "Fintech",
          "Other",
          "Artificial intelligence",
          "Artificial intelligence",
          "Other",
          "Supply chain, logistics, & delivery",
          "Internet software & services",
          "Cybersecurity",
          "Health",
          "Internet software & services",
          "Data management & analytics",
          "Fintech",
          "Health",
          "Health",
          "E-commerce & direct-to-consumer",
          "Fintech",
          "Mobile & telecommunications",
          "Data management & analytics",
          "Cybersecurity",
          "Data management & analytics",
          "E-commerce & direct-to-consumer",
          "Supply chain, logistics, & delivery",
          "Fintech",
          "Fintech",
          "Internet software & services",
          "Internet software & services",
          "Other",
          "Hardware",
          "Artificial intelligence",
          "Other",
          "Fintech",
          "Internet software & services",
          "E-commerce & direct-to-consumer",
          "Supply chain, logistics, & delivery",
          "E-commerce & direct-to-consumer",
          "Internet software & services",
          "Fintech",
          "Cybersecurity",
          "Internet software & services",
          "Internet software & services",
          "Health",
          "Internet software & services",
          "Artificial intelligence",
          "Travel",
          "Fintech",
          "E-commerce & direct-to-consumer",
          "Edtech",
          "Internet software & services",
          "E-commerce & direct-to-consumer",
          "Fintech",
          "E-commerce & direct-to-consumer",
          "Artificial intelligence",
          "Fintech",
          "Fintech",
          "Artificial intelligence",
          "Fintech",
          "Health",
          "Artificial intelligence",
          "Internet software & services",
          "Other",
          "Internet software & services",
          "Artificial intelligence",
          "Artificial intelligence",
          "Fintech",
          "Data management & analytics",
          "Fintech",
          "E-commerce & direct-to-consumer",
          "Fintech",
          "Other",
          "Supply chain, logistics, & delivery",
          "Supply chain, logistics, & delivery",
          "Health",
          "Health",
          "Artificial intelligence",
          "Cybersecurity"
         ],
         "xaxis": "x",
         "yaxis": "y"
        }
       ],
       "layout": {
        "barmode": "relative",
        "legend": {
         "title": {
          "text": "Date"
         },
         "tracegroupgap": 0
        },
        "template": {
         "data": {
          "bar": [
           {
            "error_x": {
             "color": "#2a3f5f"
            },
            "error_y": {
             "color": "#2a3f5f"
            },
            "marker": {
             "line": {
              "color": "#E5ECF6",
              "width": 0.5
             },
             "pattern": {
              "fillmode": "overlay",
              "size": 10,
              "solidity": 0.2
             }
            },
            "type": "bar"
           }
          ],
          "barpolar": [
           {
            "marker": {
             "line": {
              "color": "#E5ECF6",
              "width": 0.5
             },
             "pattern": {
              "fillmode": "overlay",
              "size": 10,
              "solidity": 0.2
             }
            },
            "type": "barpolar"
           }
          ],
          "carpet": [
           {
            "aaxis": {
             "endlinecolor": "#2a3f5f",
             "gridcolor": "white",
             "linecolor": "white",
             "minorgridcolor": "white",
             "startlinecolor": "#2a3f5f"
            },
            "baxis": {
             "endlinecolor": "#2a3f5f",
             "gridcolor": "white",
             "linecolor": "white",
             "minorgridcolor": "white",
             "startlinecolor": "#2a3f5f"
            },
            "type": "carpet"
           }
          ],
          "choropleth": [
           {
            "colorbar": {
             "outlinewidth": 0,
             "ticks": ""
            },
            "type": "choropleth"
           }
          ],
          "contour": [
           {
            "colorbar": {
             "outlinewidth": 0,
             "ticks": ""
            },
            "colorscale": [
             [
              0,
              "#0d0887"
             ],
             [
              0.1111111111111111,
              "#46039f"
             ],
             [
              0.2222222222222222,
              "#7201a8"
             ],
             [
              0.3333333333333333,
              "#9c179e"
             ],
             [
              0.4444444444444444,
              "#bd3786"
             ],
             [
              0.5555555555555556,
              "#d8576b"
             ],
             [
              0.6666666666666666,
              "#ed7953"
             ],
             [
              0.7777777777777778,
              "#fb9f3a"
             ],
             [
              0.8888888888888888,
              "#fdca26"
             ],
             [
              1,
              "#f0f921"
             ]
            ],
            "type": "contour"
           }
          ],
          "contourcarpet": [
           {
            "colorbar": {
             "outlinewidth": 0,
             "ticks": ""
            },
            "type": "contourcarpet"
           }
          ],
          "heatmap": [
           {
            "colorbar": {
             "outlinewidth": 0,
             "ticks": ""
            },
            "colorscale": [
             [
              0,
              "#0d0887"
             ],
             [
              0.1111111111111111,
              "#46039f"
             ],
             [
              0.2222222222222222,
              "#7201a8"
             ],
             [
              0.3333333333333333,
              "#9c179e"
             ],
             [
              0.4444444444444444,
              "#bd3786"
             ],
             [
              0.5555555555555556,
              "#d8576b"
             ],
             [
              0.6666666666666666,
              "#ed7953"
             ],
             [
              0.7777777777777778,
              "#fb9f3a"
             ],
             [
              0.8888888888888888,
              "#fdca26"
             ],
             [
              1,
              "#f0f921"
             ]
            ],
            "type": "heatmap"
           }
          ],
          "heatmapgl": [
           {
            "colorbar": {
             "outlinewidth": 0,
             "ticks": ""
            },
            "colorscale": [
             [
              0,
              "#0d0887"
             ],
             [
              0.1111111111111111,
              "#46039f"
             ],
             [
              0.2222222222222222,
              "#7201a8"
             ],
             [
              0.3333333333333333,
              "#9c179e"
             ],
             [
              0.4444444444444444,
              "#bd3786"
             ],
             [
              0.5555555555555556,
              "#d8576b"
             ],
             [
              0.6666666666666666,
              "#ed7953"
             ],
             [
              0.7777777777777778,
              "#fb9f3a"
             ],
             [
              0.8888888888888888,
              "#fdca26"
             ],
             [
              1,
              "#f0f921"
             ]
            ],
            "type": "heatmapgl"
           }
          ],
          "histogram": [
           {
            "marker": {
             "pattern": {
              "fillmode": "overlay",
              "size": 10,
              "solidity": 0.2
             }
            },
            "type": "histogram"
           }
          ],
          "histogram2d": [
           {
            "colorbar": {
             "outlinewidth": 0,
             "ticks": ""
            },
            "colorscale": [
             [
              0,
              "#0d0887"
             ],
             [
              0.1111111111111111,
              "#46039f"
             ],
             [
              0.2222222222222222,
              "#7201a8"
             ],
             [
              0.3333333333333333,
              "#9c179e"
             ],
             [
              0.4444444444444444,
              "#bd3786"
             ],
             [
              0.5555555555555556,
              "#d8576b"
             ],
             [
              0.6666666666666666,
              "#ed7953"
             ],
             [
              0.7777777777777778,
              "#fb9f3a"
             ],
             [
              0.8888888888888888,
              "#fdca26"
             ],
             [
              1,
              "#f0f921"
             ]
            ],
            "type": "histogram2d"
           }
          ],
          "histogram2dcontour": [
           {
            "colorbar": {
             "outlinewidth": 0,
             "ticks": ""
            },
            "colorscale": [
             [
              0,
              "#0d0887"
             ],
             [
              0.1111111111111111,
              "#46039f"
             ],
             [
              0.2222222222222222,
              "#7201a8"
             ],
             [
              0.3333333333333333,
              "#9c179e"
             ],
             [
              0.4444444444444444,
              "#bd3786"
             ],
             [
              0.5555555555555556,
              "#d8576b"
             ],
             [
              0.6666666666666666,
              "#ed7953"
             ],
             [
              0.7777777777777778,
              "#fb9f3a"
             ],
             [
              0.8888888888888888,
              "#fdca26"
             ],
             [
              1,
              "#f0f921"
             ]
            ],
            "type": "histogram2dcontour"
           }
          ],
          "mesh3d": [
           {
            "colorbar": {
             "outlinewidth": 0,
             "ticks": ""
            },
            "type": "mesh3d"
           }
          ],
          "parcoords": [
           {
            "line": {
             "colorbar": {
              "outlinewidth": 0,
              "ticks": ""
             }
            },
            "type": "parcoords"
           }
          ],
          "pie": [
           {
            "automargin": true,
            "type": "pie"
           }
          ],
          "scatter": [
           {
            "marker": {
             "colorbar": {
              "outlinewidth": 0,
              "ticks": ""
             }
            },
            "type": "scatter"
           }
          ],
          "scatter3d": [
           {
            "line": {
             "colorbar": {
              "outlinewidth": 0,
              "ticks": ""
             }
            },
            "marker": {
             "colorbar": {
              "outlinewidth": 0,
              "ticks": ""
             }
            },
            "type": "scatter3d"
           }
          ],
          "scattercarpet": [
           {
            "marker": {
             "colorbar": {
              "outlinewidth": 0,
              "ticks": ""
             }
            },
            "type": "scattercarpet"
           }
          ],
          "scattergeo": [
           {
            "marker": {
             "colorbar": {
              "outlinewidth": 0,
              "ticks": ""
             }
            },
            "type": "scattergeo"
           }
          ],
          "scattergl": [
           {
            "marker": {
             "colorbar": {
              "outlinewidth": 0,
              "ticks": ""
             }
            },
            "type": "scattergl"
           }
          ],
          "scattermapbox": [
           {
            "marker": {
             "colorbar": {
              "outlinewidth": 0,
              "ticks": ""
             }
            },
            "type": "scattermapbox"
           }
          ],
          "scatterpolar": [
           {
            "marker": {
             "colorbar": {
              "outlinewidth": 0,
              "ticks": ""
             }
            },
            "type": "scatterpolar"
           }
          ],
          "scatterpolargl": [
           {
            "marker": {
             "colorbar": {
              "outlinewidth": 0,
              "ticks": ""
             }
            },
            "type": "scatterpolargl"
           }
          ],
          "scatterternary": [
           {
            "marker": {
             "colorbar": {
              "outlinewidth": 0,
              "ticks": ""
             }
            },
            "type": "scatterternary"
           }
          ],
          "surface": [
           {
            "colorbar": {
             "outlinewidth": 0,
             "ticks": ""
            },
            "colorscale": [
             [
              0,
              "#0d0887"
             ],
             [
              0.1111111111111111,
              "#46039f"
             ],
             [
              0.2222222222222222,
              "#7201a8"
             ],
             [
              0.3333333333333333,
              "#9c179e"
             ],
             [
              0.4444444444444444,
              "#bd3786"
             ],
             [
              0.5555555555555556,
              "#d8576b"
             ],
             [
              0.6666666666666666,
              "#ed7953"
             ],
             [
              0.7777777777777778,
              "#fb9f3a"
             ],
             [
              0.8888888888888888,
              "#fdca26"
             ],
             [
              1,
              "#f0f921"
             ]
            ],
            "type": "surface"
           }
          ],
          "table": [
           {
            "cells": {
             "fill": {
              "color": "#EBF0F8"
             },
             "line": {
              "color": "white"
             }
            },
            "header": {
             "fill": {
              "color": "#C8D4E3"
             },
             "line": {
              "color": "white"
             }
            },
            "type": "table"
           }
          ]
         },
         "layout": {
          "annotationdefaults": {
           "arrowcolor": "#2a3f5f",
           "arrowhead": 0,
           "arrowwidth": 1
          },
          "autotypenumbers": "strict",
          "coloraxis": {
           "colorbar": {
            "outlinewidth": 0,
            "ticks": ""
           }
          },
          "colorscale": {
           "diverging": [
            [
             0,
             "#8e0152"
            ],
            [
             0.1,
             "#c51b7d"
            ],
            [
             0.2,
             "#de77ae"
            ],
            [
             0.3,
             "#f1b6da"
            ],
            [
             0.4,
             "#fde0ef"
            ],
            [
             0.5,
             "#f7f7f7"
            ],
            [
             0.6,
             "#e6f5d0"
            ],
            [
             0.7,
             "#b8e186"
            ],
            [
             0.8,
             "#7fbc41"
            ],
            [
             0.9,
             "#4d9221"
            ],
            [
             1,
             "#276419"
            ]
           ],
           "sequential": [
            [
             0,
             "#0d0887"
            ],
            [
             0.1111111111111111,
             "#46039f"
            ],
            [
             0.2222222222222222,
             "#7201a8"
            ],
            [
             0.3333333333333333,
             "#9c179e"
            ],
            [
             0.4444444444444444,
             "#bd3786"
            ],
            [
             0.5555555555555556,
             "#d8576b"
            ],
            [
             0.6666666666666666,
             "#ed7953"
            ],
            [
             0.7777777777777778,
             "#fb9f3a"
            ],
            [
             0.8888888888888888,
             "#fdca26"
            ],
            [
             1,
             "#f0f921"
            ]
           ],
           "sequentialminus": [
            [
             0,
             "#0d0887"
            ],
            [
             0.1111111111111111,
             "#46039f"
            ],
            [
             0.2222222222222222,
             "#7201a8"
            ],
            [
             0.3333333333333333,
             "#9c179e"
            ],
            [
             0.4444444444444444,
             "#bd3786"
            ],
            [
             0.5555555555555556,
             "#d8576b"
            ],
            [
             0.6666666666666666,
             "#ed7953"
            ],
            [
             0.7777777777777778,
             "#fb9f3a"
            ],
            [
             0.8888888888888888,
             "#fdca26"
            ],
            [
             1,
             "#f0f921"
            ]
           ]
          },
          "colorway": [
           "#636efa",
           "#EF553B",
           "#00cc96",
           "#ab63fa",
           "#FFA15A",
           "#19d3f3",
           "#FF6692",
           "#B6E880",
           "#FF97FF",
           "#FECB52"
          ],
          "font": {
           "color": "#2a3f5f"
          },
          "geo": {
           "bgcolor": "white",
           "lakecolor": "white",
           "landcolor": "#E5ECF6",
           "showlakes": true,
           "showland": true,
           "subunitcolor": "white"
          },
          "hoverlabel": {
           "align": "left"
          },
          "hovermode": "closest",
          "mapbox": {
           "style": "light"
          },
          "paper_bgcolor": "white",
          "plot_bgcolor": "#E5ECF6",
          "polar": {
           "angularaxis": {
            "gridcolor": "white",
            "linecolor": "white",
            "ticks": ""
           },
           "bgcolor": "#E5ECF6",
           "radialaxis": {
            "gridcolor": "white",
            "linecolor": "white",
            "ticks": ""
           }
          },
          "scene": {
           "xaxis": {
            "backgroundcolor": "#E5ECF6",
            "gridcolor": "white",
            "gridwidth": 2,
            "linecolor": "white",
            "showbackground": true,
            "ticks": "",
            "zerolinecolor": "white"
           },
           "yaxis": {
            "backgroundcolor": "#E5ECF6",
            "gridcolor": "white",
            "gridwidth": 2,
            "linecolor": "white",
            "showbackground": true,
            "ticks": "",
            "zerolinecolor": "white"
           },
           "zaxis": {
            "backgroundcolor": "#E5ECF6",
            "gridcolor": "white",
            "gridwidth": 2,
            "linecolor": "white",
            "showbackground": true,
            "ticks": "",
            "zerolinecolor": "white"
           }
          },
          "shapedefaults": {
           "line": {
            "color": "#2a3f5f"
           }
          },
          "ternary": {
           "aaxis": {
            "gridcolor": "white",
            "linecolor": "white",
            "ticks": ""
           },
           "baxis": {
            "gridcolor": "white",
            "linecolor": "white",
            "ticks": ""
           },
           "bgcolor": "#E5ECF6",
           "caxis": {
            "gridcolor": "white",
            "linecolor": "white",
            "ticks": ""
           }
          },
          "title": {
           "x": 0.05
          },
          "xaxis": {
           "automargin": true,
           "gridcolor": "white",
           "linecolor": "white",
           "ticks": "",
           "title": {
            "standoff": 15
           },
           "zerolinecolor": "white",
           "zerolinewidth": 2
          },
          "yaxis": {
           "automargin": true,
           "gridcolor": "white",
           "linecolor": "white",
           "ticks": "",
           "title": {
            "standoff": 15
           },
           "zerolinecolor": "white",
           "zerolinewidth": 2
          }
         }
        },
        "title": {
         "text": "AMOUNT OF UNICORNS PER INDUSTRY"
        },
        "xaxis": {
         "anchor": "y",
         "domain": [
          0,
          1
         ],
         "title": {
          "text": "Industry"
         }
        },
        "yaxis": {
         "anchor": "x",
         "domain": [
          0,
          1
         ],
         "title": {
          "text": "count"
         }
        }
       }
      },
      "text/html": [
       "<div>                            <div id=\"51976bd4-11e2-493d-bbb1-9700f8533881\" class=\"plotly-graph-div\" style=\"height:525px; width:100%;\"></div>            <script type=\"text/javascript\">                require([\"plotly\"], function(Plotly) {                    window.PLOTLYENV=window.PLOTLYENV || {};                                    if (document.getElementById(\"51976bd4-11e2-493d-bbb1-9700f8533881\")) {                    Plotly.newPlot(                        \"51976bd4-11e2-493d-bbb1-9700f8533881\",                        [{\"alignmentgroup\":\"True\",\"bingroup\":\"x\",\"hovertemplate\":\"Date=2018<br>Industry=%{x}<br>count=%{y}<extra></extra>\",\"legendgroup\":\"2018\",\"marker\":{\"color\":\"#636efa\",\"pattern\":{\"shape\":\"\"}},\"name\":\"2018\",\"offsetgroup\":\"2018\",\"orientation\":\"v\",\"showlegend\":true,\"type\":\"histogram\",\"x\":[\"Fintech\",\"Other\",\"Internet software & services\",\"E-commerce & direct-to-consumer\",\"Fintech\",\"Supply chain, logistics, & delivery\",\"Hardware\",\"Health\",\"Data management & analytics\",\"Internet software & services\",\"Travel\",\"Internet software & services\",\"Health\",\"Fintech\",\"Internet software & services\",\"Artificial intelligence\",\"E-commerce & direct-to-consumer\",\"Hardware\",\"Internet software & services\",\"Consumer & retail\",\"Internet software & services\",\"Fintech\",\"Artificial intelligence\",\"Internet software & services\",\"Auto & transportation\",\"Supply chain, logistics, & delivery\",\"Other\",\"Travel\",\"Fintech\",\"Auto & transportation\",\"Artificial intelligence\",\"Fintech\",\"Health\",\"Data management & analytics\",\"Internet software & services\",\"Supply chain, logistics, & delivery\",\"Auto & transportation\",\"Artificial intelligence\",\"Supply chain, logistics, & delivery\",\"Supply chain, logistics, & delivery\",\"Fintech\",\"Edtech\",\"Internet software & services\",\"Cybersecurity\",\"Auto & transportation\",\"Artificial intelligence\",\"Supply chain, logistics, & delivery\",\"Fintech\",\"Fintech\",\"Internet software & services\",\"Auto & transportation\",\"E-commerce & direct-to-consumer\",\"Internet software & services\",\"Consumer & retail\",\"Other\",\"Artificial intelligence\",\"Artificial intelligence\",\"Internet software & services\",\"Artificial intelligence\",\"Internet software & services\",\"Hardware\",\"Fintech\",\"Auto & transportation\",\"Consumer & retail\",\"E-commerce & direct-to-consumer\",\"Consumer & retail\",\"Data management & analytics\",\"Fintech\",\"Auto & transportation\",\"Consumer & retail\",\"Internet software & services\",\"E-commerce & direct-to-consumer\",\"Consumer & retail\",\"Mobile & telecommunications\",\"Hardware\",\"Supply chain, logistics, & delivery\",\"Auto & transportation\",\"Supply chain, logistics, & delivery\",\"Internet software & services\",\"Artificial intelligence\",\"Travel\",\"E-commerce & direct-to-consumer\",\"Other\",\"Mobile & telecommunications\",\"Internet software & services\",\"Internet software & services\",\"Auto & transportation\",\"Artificial intelligence\",\"Hardware\",\"Auto & transportation\",\"Internet software & services\",\"Artificial intelligence\",\"Auto & transportation\",\"Health\",\"Fintech\",\"Health\",\"Artificial intelligence\",\"Mobile & telecommunications\",\"Hardware\",\"Edtech\",\"Hardware\",\"Health\",\"Internet software & services\",\"Mobile & telecommunications\",\"Supply chain, logistics, & delivery\",\"Consumer & retail\",\"Mobile & telecommunications\",\"E-commerce & direct-to-consumer\",\"Health\",\"Supply chain, logistics, & delivery\",\"Mobile & telecommunications\",\"Auto & transportation\",\"Fintech\",\"Artificial intelligence\",\"E-commerce & direct-to-consumer\",\"Travel\",\"Hardware\",\"Hardware\",\"Internet software & services\",\"Supply chain, logistics, & delivery\",\"Hardware\",\"Supply chain, logistics, & delivery\"],\"xaxis\":\"x\",\"yaxis\":\"y\"},{\"alignmentgroup\":\"True\",\"bingroup\":\"x\",\"hovertemplate\":\"Date=2019<br>Industry=%{x}<br>count=%{y}<extra></extra>\",\"legendgroup\":\"2019\",\"marker\":{\"color\":\"#EF553B\",\"pattern\":{\"shape\":\"\"}},\"name\":\"2019\",\"offsetgroup\":\"2019\",\"orientation\":\"v\",\"showlegend\":true,\"type\":\"histogram\",\"x\":[\"Data management & analytics\",\"Auto & transportation\",\"Fintech\",\"Fintech\",\"Auto & transportation\",\"Supply chain, logistics, & delivery\",\"Fintech\",\"Other\",\"Artificial intelligence\",\"Artificial intelligence\",\"Artificial intelligence\",\"Internet software & services\",\"Auto & transportation\",\"Auto & transportation\",\"Internet software & services\",\"E-commerce & direct-to-consumer\",\"Data management & analytics\",\"Internet software & services\",\"Consumer & retail\",\"Health\",\"Fintech\",\"E-commerce & direct-to-consumer\",\"E-commerce & direct-to-consumer\",\"Internet software & services\",\"Fintech\",\"Other\",\"Fintech\",\"Mobile & telecommunications\",\"Fintech\",\"Artificial intelligence\",\"Other\",\"Supply chain, logistics, & delivery\",\"Auto & transportation\",\"Fintech\",\"Artificial intelligence\",\"Fintech\",\"Internet software & services\",\"Artificial intelligence\",\"Artificial intelligence\",\"Fintech\",\"Fintech\",\"Cybersecurity\",\"Fintech\",\"Education\",\"Data management & analytics\",\"Other\",\"Health\",\"Internet software & services\",\"E-commerce & direct-to-consumer\",\"Mobile & telecommunications\",\"Consumer & retail\",\"Cybersecurity\",\"Travel\",\"Data management & analytics\",\"Artificial intelligence\",\"Internet software & services\",\"E-commerce & direct-to-consumer\",\"Internet software & services\",\"Artificial intelligence\",\"Auto & transportation\",\"Fintech\",\"Fintech\",\"Fintech\",\"Fintech\",\"Fintech\",\"E-commerce & direct-to-consumer\",\"Fintech\",\"E-commerce & direct-to-consumer\",\"Auto & transportation\",\"Internet software & services\",\"E-commerce & direct-to-consumer\",\"Cybersecurity\",\"Travel\",\"Artificial intelligence\",\"Other\",\"Other\",\"Supply chain, logistics, & delivery\",\"Supply chain, logistics, & delivery\",\"Consumer & retail\",\"Supply chain, logistics, & delivery\",\"Mobile & telecommunications\",\"Artificial intelligence\",\"Supply chain, logistics, & delivery\",\"Health\",\"Fintech\",\"Fintech\",\"Travel\",\"Fintech\",\"Artificial intelligence\",\"Supply chain, logistics, & delivery\",\"Internet software & services\",\"Data management & analytics\",\"Health\",\"Artificial intelligence\",\"Other\",\"Other\",\"Artificial intelligence\",\"Fintech\",\"Mobile & telecommunications\",\"Internet software & services\",\"Other\",\"Edtech\",\"Supply chain, logistics, & delivery\",\"Travel\",\"Internet software & services\",\"Artificial intelligence\",\"E-commerce & direct-to-consumer\",\"Auto & transportation\",\"Artificial intelligence\",\"Fintech\",\"Fintech\",\"Fintech\",\"Health\",\"Internet software & services\",\"Fintech\",\"Internet software & services\",\"E-commerce & direct-to-consumer\",\"Travel\",\"Cybersecurity\",\"Health\",\"Supply chain, logistics, & delivery\",\"Fintech\"],\"xaxis\":\"x\",\"yaxis\":\"y\"},{\"alignmentgroup\":\"True\",\"bingroup\":\"x\",\"hovertemplate\":\"Date=2020<br>Industry=%{x}<br>count=%{y}<extra></extra>\",\"legendgroup\":\"2020\",\"marker\":{\"color\":\"#00cc96\",\"pattern\":{\"shape\":\"\"}},\"name\":\"2020\",\"offsetgroup\":\"2020\",\"orientation\":\"v\",\"showlegend\":true,\"type\":\"histogram\",\"x\":[\"Internet software & services\",\"E-commerce & direct-to-consumer\",\"E-commerce & direct-to-consumer\",\"Artificial intelligence\",\"Fintech\",\"Consumer & retail\",\"Other\",\"Fintech\",\"Internet software & services\",\"Health\",\"Other\",\"Cybersecurity\",\"Other\",\"Data management & analytics\",\"Internet software & services\",\"E-commerce & direct-to-consumer\",\"Mobile & telecommunications\",\"Data management & analytics\",\"Health\",\"Mobile & telecommunications\",\"Auto & transportation\",\"Edtech\",\"Fintech\",\"Cybersecurity\",\"Fintech\",\"Fintech\",\"Cybersecurity\",\"E-commerce & direct-to-consumer\",\"E-commerce & direct-to-consumer\",\"Other\",\"Health\",\"Fintech\",\"Auto & transportation\",\"Mobile & telecommunications\",\"E-commerce & direct-to-consumer\",\"Fintech\",\"Mobile & telecommunications\",\"Internet software & services\",\"Internet software & services\",\"E-commerce & direct-to-consumer\",\"Mobile & telecommunications\",\"Internet software & services\",\"Data management & analytics\",\"Edtech\",\"E-commerce & direct-to-consumer\",\"Fintech\",\"Fintech\",\"Fintech\",\"Health\",\"Supply chain, logistics, & delivery\",\"Other\",\"Other\",\"E-commerce & direct-to-consumer\",\"Fintech\",\"E-commerce & direct-to-consumer\",\"Cybersecurity\",\"Hardware\",\"Internet software & services\",\"Edtech\",\"E-commerce & direct-to-consumer\",\"Internet software & services\",\"Internet software & services\",\"Auto & transportation\",\"E-commerce & direct-to-consumer\",\"Internet software & services\",\"Other\",\"Internet software & services\",\"Internet software & services\",\"Health\",\"Health\",\"Cybersecurity\",\"E-commerce & direct-to-consumer\",\"Other\",\"Data management & analytics\",\"Cybersecurity\",\"Mobile & telecommunications\",\"Fintech\",\"Internet software & services\",\"Data management & analytics<\",\"Data management & analytics\",\"Internet software & services\",\"E-commerce & direct-to-consumer\",\"Cybersecurity\",\"Data management & analytics\",\"Edtech\",\"Health\",\"E-commerce & direct-to-consumer\",\"Hardware\",\"Artificial intelligence\",\"Supply chain, logistics, & delivery\",\"Internet software & services\",\"Health\",\"Artificial intelligence\",\"Other\",\"Edtech\",\"Other\",\"Other\",\"Health\",\"E-commerce & direct-to-consumer\",\"Health\",\"Fintech\",\"Hardware\",\"Mobile & telecommunications\",\"Fintech\",\"E-commerce & direct-to-consumer\",\"Other\",\"Auto & transportation\",\"Internet software & services\",\"Internet software & services\",\"Supply chain, logistics, & delivery\",\"Cybersecurity\",\"E-commerce & direct-to-consumer\",\"Health\",\"Internet software & services\",\"Internet software & services\",\"Other\",\"Artificial intelligence\",\"Fintech\",\"Internet software & services\"],\"xaxis\":\"x\",\"yaxis\":\"y\"},{\"alignmentgroup\":\"True\",\"bingroup\":\"x\",\"hovertemplate\":\"Date=2021<br>Industry=%{x}<br>count=%{y}<extra></extra>\",\"legendgroup\":\"2021\",\"marker\":{\"color\":\"#ab63fa\",\"pattern\":{\"shape\":\"\"}},\"name\":\"2021\",\"offsetgroup\":\"2021\",\"orientation\":\"v\",\"showlegend\":true,\"type\":\"histogram\",\"x\":[\"E-commerce & direct-to-consumer\",\"Health\",\"Supply chain, logistics, & delivery\",\"Fintech\",\"Fintech\",\"Data management & analytics\",\"E-commerce & direct-to-consumer\",\"Internet software & services\",\"Internet software & services\",\"Mobile & telecommunications\",\"Internet software & services\",\"Internet software & services\",\"Health\",\"Fintech\",\"E-commerce & direct-to-consumer\",\"Health\",\"Internet software & services\",\"Fintech\",\"Internet software & services\",\"Internet software & services\",\"Supply chain, logistics, & delivery\",\"Edtech\",\"Fintech\",\"Auto & transportation\",\"Fintech\",\"Cybersecurity\",\"Fintech\",\"Internet software & services\",\"Other\",\"Fintech\",\"Fintech\",\"Fintech\",\"Data management & analytics\",\"Internet software & services\",\"Artificial intelligence\",\"Internet software & services\",\"Internet software & services\",\"Fintech\",\"Fintech\",\"Fintech\",\"Health\",\"Fintech\",\"Artificial intelligence\",\"Health\",\"E-commerce & direct-to-consumer\",\"Internet software & services\",\"Fintech\",\"Fintech\",\"Fintech\",\"Fintech\",\"Fintech\",\"Health\",\"Fintech\",\"Other\",\"Cybersecurity\",\"Internet software & services\",\"Internet software & services\",\"Artificial intelligence\",\"Internet software & services\",\"Health\",\"E-commerce & direct-to-consumer\",\"Cybersecurity\",\"Health\",\"Internet software & services\",\"Fintech\",\"Other\",\"Internet software & services\",\"Fintech\",\"E-commerce & direct-to-consumer\",\"E-commerce & direct-to-consumer\",\"Internet software & services\",\"Internet software & services\",\"Fintech\",\"Artificial Intelligence\",\"Data management & analytics\",\"Fintech\",\"Internet software & services\",\"Health\",\"Fintech\",\"Health\",\"Other\",\"Cybersecurity\",\"Internet software & services\",\"Fintech\",\"Fintech\",\"Hardware\",\"Health\",\"Fintech\",\"Data management & analytics\",\"Internet software & services\",\"Internet software & services\",\"Other\",\"Internet software & services\",\"Internet software & services\",\"Edtech\",\"Mobile & telecommunications\",\"Fintech\",\"Fintech\",\"Internet software & services\",\"Fintech\",\"Fintech\",\"Health\",\"Cybersecurity\",\"Cybersecurity\",\"Other\",\"Edtech\",\"Internet software & services\",\"Fintech\",\"Health\",\"Data management & analytics\",\"Internet software & services\",\"Fintech\",\"Cybersecurity\",\"E-commerce & direct-to-consumer\",\"Fintech\",\"Cybersecurity\",\"Fintech\",\"Fintech\",\"Other\",\"Artificial intelligence\",\"Artificial intelligence\",\"Other\",\"Supply chain, logistics, & delivery\",\"Internet software & services\",\"Cybersecurity\",\"Health\",\"Internet software & services\",\"Data management & analytics\",\"Fintech\",\"Health\",\"Health\",\"E-commerce & direct-to-consumer\",\"Fintech\",\"Mobile & telecommunications\",\"Data management & analytics\",\"Cybersecurity\",\"Data management & analytics\",\"E-commerce & direct-to-consumer\",\"Supply chain, logistics, & delivery\",\"Fintech\",\"Fintech\",\"Internet software & services\",\"Internet software & services\",\"Other\",\"Hardware\",\"Artificial intelligence\",\"Other\",\"Fintech\",\"Internet software & services\",\"E-commerce & direct-to-consumer\",\"Supply chain, logistics, & delivery\",\"E-commerce & direct-to-consumer\",\"Internet software & services\",\"Fintech\",\"Cybersecurity\",\"Internet software & services\",\"Internet software & services\",\"Health\",\"Internet software & services\",\"Artificial intelligence\",\"Travel\",\"Fintech\",\"E-commerce & direct-to-consumer\",\"Edtech\",\"Internet software & services\",\"E-commerce & direct-to-consumer\",\"Fintech\",\"E-commerce & direct-to-consumer\",\"Artificial intelligence\",\"Fintech\",\"Fintech\",\"Artificial intelligence\",\"Fintech\",\"Health\",\"Artificial intelligence\",\"Internet software & services\",\"Other\",\"Internet software & services\",\"Artificial intelligence\",\"Artificial intelligence\",\"Fintech\",\"Data management & analytics\",\"Fintech\",\"E-commerce & direct-to-consumer\",\"Fintech\",\"Other\",\"Supply chain, logistics, & delivery\",\"Supply chain, logistics, & delivery\",\"Health\",\"Health\",\"Artificial intelligence\",\"Cybersecurity\"],\"xaxis\":\"x\",\"yaxis\":\"y\"}],                        {\"barmode\":\"relative\",\"legend\":{\"title\":{\"text\":\"Date\"},\"tracegroupgap\":0},\"template\":{\"data\":{\"bar\":[{\"error_x\":{\"color\":\"#2a3f5f\"},\"error_y\":{\"color\":\"#2a3f5f\"},\"marker\":{\"line\":{\"color\":\"#E5ECF6\",\"width\":0.5},\"pattern\":{\"fillmode\":\"overlay\",\"size\":10,\"solidity\":0.2}},\"type\":\"bar\"}],\"barpolar\":[{\"marker\":{\"line\":{\"color\":\"#E5ECF6\",\"width\":0.5},\"pattern\":{\"fillmode\":\"overlay\",\"size\":10,\"solidity\":0.2}},\"type\":\"barpolar\"}],\"carpet\":[{\"aaxis\":{\"endlinecolor\":\"#2a3f5f\",\"gridcolor\":\"white\",\"linecolor\":\"white\",\"minorgridcolor\":\"white\",\"startlinecolor\":\"#2a3f5f\"},\"baxis\":{\"endlinecolor\":\"#2a3f5f\",\"gridcolor\":\"white\",\"linecolor\":\"white\",\"minorgridcolor\":\"white\",\"startlinecolor\":\"#2a3f5f\"},\"type\":\"carpet\"}],\"choropleth\":[{\"colorbar\":{\"outlinewidth\":0,\"ticks\":\"\"},\"type\":\"choropleth\"}],\"contour\":[{\"colorbar\":{\"outlinewidth\":0,\"ticks\":\"\"},\"colorscale\":[[0.0,\"#0d0887\"],[0.1111111111111111,\"#46039f\"],[0.2222222222222222,\"#7201a8\"],[0.3333333333333333,\"#9c179e\"],[0.4444444444444444,\"#bd3786\"],[0.5555555555555556,\"#d8576b\"],[0.6666666666666666,\"#ed7953\"],[0.7777777777777778,\"#fb9f3a\"],[0.8888888888888888,\"#fdca26\"],[1.0,\"#f0f921\"]],\"type\":\"contour\"}],\"contourcarpet\":[{\"colorbar\":{\"outlinewidth\":0,\"ticks\":\"\"},\"type\":\"contourcarpet\"}],\"heatmap\":[{\"colorbar\":{\"outlinewidth\":0,\"ticks\":\"\"},\"colorscale\":[[0.0,\"#0d0887\"],[0.1111111111111111,\"#46039f\"],[0.2222222222222222,\"#7201a8\"],[0.3333333333333333,\"#9c179e\"],[0.4444444444444444,\"#bd3786\"],[0.5555555555555556,\"#d8576b\"],[0.6666666666666666,\"#ed7953\"],[0.7777777777777778,\"#fb9f3a\"],[0.8888888888888888,\"#fdca26\"],[1.0,\"#f0f921\"]],\"type\":\"heatmap\"}],\"heatmapgl\":[{\"colorbar\":{\"outlinewidth\":0,\"ticks\":\"\"},\"colorscale\":[[0.0,\"#0d0887\"],[0.1111111111111111,\"#46039f\"],[0.2222222222222222,\"#7201a8\"],[0.3333333333333333,\"#9c179e\"],[0.4444444444444444,\"#bd3786\"],[0.5555555555555556,\"#d8576b\"],[0.6666666666666666,\"#ed7953\"],[0.7777777777777778,\"#fb9f3a\"],[0.8888888888888888,\"#fdca26\"],[1.0,\"#f0f921\"]],\"type\":\"heatmapgl\"}],\"histogram\":[{\"marker\":{\"pattern\":{\"fillmode\":\"overlay\",\"size\":10,\"solidity\":0.2}},\"type\":\"histogram\"}],\"histogram2d\":[{\"colorbar\":{\"outlinewidth\":0,\"ticks\":\"\"},\"colorscale\":[[0.0,\"#0d0887\"],[0.1111111111111111,\"#46039f\"],[0.2222222222222222,\"#7201a8\"],[0.3333333333333333,\"#9c179e\"],[0.4444444444444444,\"#bd3786\"],[0.5555555555555556,\"#d8576b\"],[0.6666666666666666,\"#ed7953\"],[0.7777777777777778,\"#fb9f3a\"],[0.8888888888888888,\"#fdca26\"],[1.0,\"#f0f921\"]],\"type\":\"histogram2d\"}],\"histogram2dcontour\":[{\"colorbar\":{\"outlinewidth\":0,\"ticks\":\"\"},\"colorscale\":[[0.0,\"#0d0887\"],[0.1111111111111111,\"#46039f\"],[0.2222222222222222,\"#7201a8\"],[0.3333333333333333,\"#9c179e\"],[0.4444444444444444,\"#bd3786\"],[0.5555555555555556,\"#d8576b\"],[0.6666666666666666,\"#ed7953\"],[0.7777777777777778,\"#fb9f3a\"],[0.8888888888888888,\"#fdca26\"],[1.0,\"#f0f921\"]],\"type\":\"histogram2dcontour\"}],\"mesh3d\":[{\"colorbar\":{\"outlinewidth\":0,\"ticks\":\"\"},\"type\":\"mesh3d\"}],\"parcoords\":[{\"line\":{\"colorbar\":{\"outlinewidth\":0,\"ticks\":\"\"}},\"type\":\"parcoords\"}],\"pie\":[{\"automargin\":true,\"type\":\"pie\"}],\"scatter\":[{\"marker\":{\"colorbar\":{\"outlinewidth\":0,\"ticks\":\"\"}},\"type\":\"scatter\"}],\"scatter3d\":[{\"line\":{\"colorbar\":{\"outlinewidth\":0,\"ticks\":\"\"}},\"marker\":{\"colorbar\":{\"outlinewidth\":0,\"ticks\":\"\"}},\"type\":\"scatter3d\"}],\"scattercarpet\":[{\"marker\":{\"colorbar\":{\"outlinewidth\":0,\"ticks\":\"\"}},\"type\":\"scattercarpet\"}],\"scattergeo\":[{\"marker\":{\"colorbar\":{\"outlinewidth\":0,\"ticks\":\"\"}},\"type\":\"scattergeo\"}],\"scattergl\":[{\"marker\":{\"colorbar\":{\"outlinewidth\":0,\"ticks\":\"\"}},\"type\":\"scattergl\"}],\"scattermapbox\":[{\"marker\":{\"colorbar\":{\"outlinewidth\":0,\"ticks\":\"\"}},\"type\":\"scattermapbox\"}],\"scatterpolar\":[{\"marker\":{\"colorbar\":{\"outlinewidth\":0,\"ticks\":\"\"}},\"type\":\"scatterpolar\"}],\"scatterpolargl\":[{\"marker\":{\"colorbar\":{\"outlinewidth\":0,\"ticks\":\"\"}},\"type\":\"scatterpolargl\"}],\"scatterternary\":[{\"marker\":{\"colorbar\":{\"outlinewidth\":0,\"ticks\":\"\"}},\"type\":\"scatterternary\"}],\"surface\":[{\"colorbar\":{\"outlinewidth\":0,\"ticks\":\"\"},\"colorscale\":[[0.0,\"#0d0887\"],[0.1111111111111111,\"#46039f\"],[0.2222222222222222,\"#7201a8\"],[0.3333333333333333,\"#9c179e\"],[0.4444444444444444,\"#bd3786\"],[0.5555555555555556,\"#d8576b\"],[0.6666666666666666,\"#ed7953\"],[0.7777777777777778,\"#fb9f3a\"],[0.8888888888888888,\"#fdca26\"],[1.0,\"#f0f921\"]],\"type\":\"surface\"}],\"table\":[{\"cells\":{\"fill\":{\"color\":\"#EBF0F8\"},\"line\":{\"color\":\"white\"}},\"header\":{\"fill\":{\"color\":\"#C8D4E3\"},\"line\":{\"color\":\"white\"}},\"type\":\"table\"}]},\"layout\":{\"annotationdefaults\":{\"arrowcolor\":\"#2a3f5f\",\"arrowhead\":0,\"arrowwidth\":1},\"autotypenumbers\":\"strict\",\"coloraxis\":{\"colorbar\":{\"outlinewidth\":0,\"ticks\":\"\"}},\"colorscale\":{\"diverging\":[[0,\"#8e0152\"],[0.1,\"#c51b7d\"],[0.2,\"#de77ae\"],[0.3,\"#f1b6da\"],[0.4,\"#fde0ef\"],[0.5,\"#f7f7f7\"],[0.6,\"#e6f5d0\"],[0.7,\"#b8e186\"],[0.8,\"#7fbc41\"],[0.9,\"#4d9221\"],[1,\"#276419\"]],\"sequential\":[[0.0,\"#0d0887\"],[0.1111111111111111,\"#46039f\"],[0.2222222222222222,\"#7201a8\"],[0.3333333333333333,\"#9c179e\"],[0.4444444444444444,\"#bd3786\"],[0.5555555555555556,\"#d8576b\"],[0.6666666666666666,\"#ed7953\"],[0.7777777777777778,\"#fb9f3a\"],[0.8888888888888888,\"#fdca26\"],[1.0,\"#f0f921\"]],\"sequentialminus\":[[0.0,\"#0d0887\"],[0.1111111111111111,\"#46039f\"],[0.2222222222222222,\"#7201a8\"],[0.3333333333333333,\"#9c179e\"],[0.4444444444444444,\"#bd3786\"],[0.5555555555555556,\"#d8576b\"],[0.6666666666666666,\"#ed7953\"],[0.7777777777777778,\"#fb9f3a\"],[0.8888888888888888,\"#fdca26\"],[1.0,\"#f0f921\"]]},\"colorway\":[\"#636efa\",\"#EF553B\",\"#00cc96\",\"#ab63fa\",\"#FFA15A\",\"#19d3f3\",\"#FF6692\",\"#B6E880\",\"#FF97FF\",\"#FECB52\"],\"font\":{\"color\":\"#2a3f5f\"},\"geo\":{\"bgcolor\":\"white\",\"lakecolor\":\"white\",\"landcolor\":\"#E5ECF6\",\"showlakes\":true,\"showland\":true,\"subunitcolor\":\"white\"},\"hoverlabel\":{\"align\":\"left\"},\"hovermode\":\"closest\",\"mapbox\":{\"style\":\"light\"},\"paper_bgcolor\":\"white\",\"plot_bgcolor\":\"#E5ECF6\",\"polar\":{\"angularaxis\":{\"gridcolor\":\"white\",\"linecolor\":\"white\",\"ticks\":\"\"},\"bgcolor\":\"#E5ECF6\",\"radialaxis\":{\"gridcolor\":\"white\",\"linecolor\":\"white\",\"ticks\":\"\"}},\"scene\":{\"xaxis\":{\"backgroundcolor\":\"#E5ECF6\",\"gridcolor\":\"white\",\"gridwidth\":2,\"linecolor\":\"white\",\"showbackground\":true,\"ticks\":\"\",\"zerolinecolor\":\"white\"},\"yaxis\":{\"backgroundcolor\":\"#E5ECF6\",\"gridcolor\":\"white\",\"gridwidth\":2,\"linecolor\":\"white\",\"showbackground\":true,\"ticks\":\"\",\"zerolinecolor\":\"white\"},\"zaxis\":{\"backgroundcolor\":\"#E5ECF6\",\"gridcolor\":\"white\",\"gridwidth\":2,\"linecolor\":\"white\",\"showbackground\":true,\"ticks\":\"\",\"zerolinecolor\":\"white\"}},\"shapedefaults\":{\"line\":{\"color\":\"#2a3f5f\"}},\"ternary\":{\"aaxis\":{\"gridcolor\":\"white\",\"linecolor\":\"white\",\"ticks\":\"\"},\"baxis\":{\"gridcolor\":\"white\",\"linecolor\":\"white\",\"ticks\":\"\"},\"bgcolor\":\"#E5ECF6\",\"caxis\":{\"gridcolor\":\"white\",\"linecolor\":\"white\",\"ticks\":\"\"}},\"title\":{\"x\":0.05},\"xaxis\":{\"automargin\":true,\"gridcolor\":\"white\",\"linecolor\":\"white\",\"ticks\":\"\",\"title\":{\"standoff\":15},\"zerolinecolor\":\"white\",\"zerolinewidth\":2},\"yaxis\":{\"automargin\":true,\"gridcolor\":\"white\",\"linecolor\":\"white\",\"ticks\":\"\",\"title\":{\"standoff\":15},\"zerolinecolor\":\"white\",\"zerolinewidth\":2}}},\"title\":{\"text\":\"AMOUNT OF UNICORNS PER INDUSTRY\"},\"xaxis\":{\"anchor\":\"y\",\"domain\":[0.0,1.0],\"title\":{\"text\":\"Industry\"}},\"yaxis\":{\"anchor\":\"x\",\"domain\":[0.0,1.0],\"title\":{\"text\":\"count\"}}},                        {\"responsive\": true}                    ).then(function(){\n",
       "                            \n",
       "var gd = document.getElementById('51976bd4-11e2-493d-bbb1-9700f8533881');\n",
       "var x = new MutationObserver(function (mutations, observer) {{\n",
       "        var display = window.getComputedStyle(gd).display;\n",
       "        if (!display || display === 'none') {{\n",
       "            console.log([gd, 'removed!']);\n",
       "            Plotly.purge(gd);\n",
       "            observer.disconnect();\n",
       "        }}\n",
       "}});\n",
       "\n",
       "// Listen for the removal of the full notebook cells\n",
       "var notebookContainer = gd.closest('#notebook-container');\n",
       "if (notebookContainer) {{\n",
       "    x.observe(notebookContainer, {childList: true});\n",
       "}}\n",
       "\n",
       "// Listen for the clearing of the current output cell\n",
       "var outputEl = gd.closest('.output');\n",
       "if (outputEl) {{\n",
       "    x.observe(outputEl, {childList: true});\n",
       "}}\n",
       "\n",
       "                        })                };                });            </script>        </div>"
      ]
     },
     "metadata": {},
     "output_type": "display_data"
    }
   ],
   "source": [
    "best_industry.show()"
   ]
  },
  {
   "cell_type": "markdown",
   "id": "ba931b22",
   "metadata": {},
   "source": [
    "#### FOR THE LAST FOUR YEARS, THE INDUSTRY WITH THE HIGHEST NUMBER OF UNICORNS HAS BEEN \"FINTECH\"\n",
    "+ ######  CORRECT, THE HIGHEST NUMBER OF FINTECH UNICORNS APPEARS DURING 2021\n",
    "+ ######  TOP 5 INDUSTRIES (FINTECH | INTERNET SERVICES | E-COMMERCE | ARTIFICIAL INTELLIGENCE | HEALTH)"
   ]
  },
  {
   "cell_type": "markdown",
   "id": "89a412ff",
   "metadata": {},
   "source": [
    "***\n",
    "### HYPOTHESES II"
   ]
  },
  {
   "cell_type": "markdown",
   "id": "35508835",
   "metadata": {},
   "source": [
    "#### CREATE THE NEW DF THAT WE WANT TO LATTER PLOT FILTERING BY THE LAST TEN YEARS"
   ]
  },
  {
   "cell_type": "code",
   "execution_count": 8,
   "id": "67304cc9",
   "metadata": {},
   "outputs": [],
   "source": [
    "top15 = list(dict(unicorn[\"Date\"].value_counts()[0:15]).keys())\n",
    "unicorn3 = unicorn[unicorn[\"Date\"].isin(top15)]"
   ]
  },
  {
   "cell_type": "markdown",
   "id": "f330b071",
   "metadata": {},
   "source": [
    "#### CREATE THE TABLE THAT WE WANT TO LATTER PLOT"
   ]
  },
  {
   "cell_type": "code",
   "execution_count": 9,
   "id": "b107c0da",
   "metadata": {},
   "outputs": [],
   "source": [
    "ttone = px.histogram(unicorn3, x=\"Date\",color=\"Date\",title=\"AMOUNT OF UNICORNS PER YEAR\")"
   ]
  },
  {
   "cell_type": "code",
   "execution_count": 10,
   "id": "39a1c675",
   "metadata": {
    "scrolled": false
   },
   "outputs": [
    {
     "data": {
      "application/vnd.plotly.v1+json": {
       "config": {
        "plotlyServerURL": "https://plot.ly"
       },
       "data": [
        {
         "alignmentgroup": "True",
         "bingroup": "x",
         "hovertemplate": "Date=%{x}<br>count=%{y}<extra></extra>",
         "legendgroup": "2017",
         "marker": {
          "color": "#636efa",
          "pattern": {
           "shape": ""
          }
         },
         "name": "2017",
         "offsetgroup": "2017",
         "orientation": "v",
         "showlegend": true,
         "type": "histogram",
         "x": [
          2017,
          2017,
          2017,
          2017,
          2017,
          2017,
          2017,
          2017,
          2017,
          2017,
          2017,
          2017,
          2017,
          2017,
          2017,
          2017,
          2017,
          2017,
          2017,
          2017,
          2017,
          2017,
          2017,
          2017,
          2017,
          2017,
          2017,
          2017,
          2017,
          2017,
          2017,
          2017,
          2017,
          2017,
          2017,
          2017,
          2017,
          2017,
          2017,
          2017,
          2017,
          2017,
          2017,
          2017,
          2017,
          2017,
          2017,
          2017,
          2017,
          2017,
          2017,
          2017,
          2017,
          2017,
          2017
         ],
         "xaxis": "x",
         "yaxis": "y"
        },
        {
         "alignmentgroup": "True",
         "bingroup": "x",
         "hovertemplate": "Date=%{x}<br>count=%{y}<extra></extra>",
         "legendgroup": "2014",
         "marker": {
          "color": "#EF553B",
          "pattern": {
           "shape": ""
          }
         },
         "name": "2014",
         "offsetgroup": "2014",
         "orientation": "v",
         "showlegend": true,
         "type": "histogram",
         "x": [
          2014,
          2014,
          2014,
          2014,
          2014,
          2014,
          2014,
          2014,
          2014,
          2014,
          2014,
          2014,
          2014,
          2014,
          2014,
          2014
         ],
         "xaxis": "x",
         "yaxis": "y"
        },
        {
         "alignmentgroup": "True",
         "bingroup": "x",
         "hovertemplate": "Date=%{x}<br>count=%{y}<extra></extra>",
         "legendgroup": "2012",
         "marker": {
          "color": "#00cc96",
          "pattern": {
           "shape": ""
          }
         },
         "name": "2012",
         "offsetgroup": "2012",
         "orientation": "v",
         "showlegend": true,
         "type": "histogram",
         "x": [
          2012,
          2012,
          2012,
          2012,
          2012
         ],
         "xaxis": "x",
         "yaxis": "y"
        },
        {
         "alignmentgroup": "True",
         "bingroup": "x",
         "hovertemplate": "Date=%{x}<br>count=%{y}<extra></extra>",
         "legendgroup": "2015",
         "marker": {
          "color": "#ab63fa",
          "pattern": {
           "shape": ""
          }
         },
         "name": "2015",
         "offsetgroup": "2015",
         "orientation": "v",
         "showlegend": true,
         "type": "histogram",
         "x": [
          2015,
          2015,
          2015,
          2015,
          2015,
          2015,
          2015,
          2015,
          2015,
          2015,
          2015,
          2015,
          2015,
          2015,
          2015,
          2015,
          2015,
          2015,
          2015,
          2015,
          2015,
          2015,
          2015,
          2015,
          2015,
          2015,
          2015,
          2015,
          2015,
          2015,
          2015,
          2015,
          2015,
          2015,
          2015,
          2015,
          2015,
          2015,
          2015,
          2015,
          2015,
          2015,
          2015,
          2015,
          2015,
          2015,
          2015
         ],
         "xaxis": "x",
         "yaxis": "y"
        },
        {
         "alignmentgroup": "True",
         "bingroup": "x",
         "hovertemplate": "Date=%{x}<br>count=%{y}<extra></extra>",
         "legendgroup": "2011",
         "marker": {
          "color": "#FFA15A",
          "pattern": {
           "shape": ""
          }
         },
         "name": "2011",
         "offsetgroup": "2011",
         "orientation": "v",
         "showlegend": true,
         "type": "histogram",
         "x": [
          2011,
          2011
         ],
         "xaxis": "x",
         "yaxis": "y"
        },
        {
         "alignmentgroup": "True",
         "bingroup": "x",
         "hovertemplate": "Date=%{x}<br>count=%{y}<extra></extra>",
         "legendgroup": "2018",
         "marker": {
          "color": "#19d3f3",
          "pattern": {
           "shape": ""
          }
         },
         "name": "2018",
         "offsetgroup": "2018",
         "orientation": "v",
         "showlegend": true,
         "type": "histogram",
         "x": [
          2018,
          2018,
          2018,
          2018,
          2018,
          2018,
          2018,
          2018,
          2018,
          2018,
          2018,
          2018,
          2018,
          2018,
          2018,
          2018,
          2018,
          2018,
          2018,
          2018,
          2018,
          2018,
          2018,
          2018,
          2018,
          2018,
          2018,
          2018,
          2018,
          2018,
          2018,
          2018,
          2018,
          2018,
          2018,
          2018,
          2018,
          2018,
          2018,
          2018,
          2018,
          2018,
          2018,
          2018,
          2018,
          2018,
          2018,
          2018,
          2018,
          2018,
          2018,
          2018,
          2018,
          2018,
          2018,
          2018,
          2018,
          2018,
          2018,
          2018,
          2018,
          2018,
          2018,
          2018,
          2018,
          2018,
          2018,
          2018,
          2018,
          2018,
          2018,
          2018,
          2018,
          2018,
          2018,
          2018,
          2018,
          2018,
          2018,
          2018,
          2018,
          2018,
          2018,
          2018,
          2018,
          2018,
          2018,
          2018,
          2018,
          2018,
          2018,
          2018,
          2018,
          2018,
          2018,
          2018,
          2018,
          2018,
          2018,
          2018,
          2018,
          2018,
          2018,
          2018,
          2018,
          2018,
          2018,
          2018,
          2018,
          2018,
          2018,
          2018,
          2018,
          2018,
          2018,
          2018,
          2018,
          2018,
          2018,
          2018,
          2018,
          2018
         ],
         "xaxis": "x",
         "yaxis": "y"
        },
        {
         "alignmentgroup": "True",
         "bingroup": "x",
         "hovertemplate": "Date=%{x}<br>count=%{y}<extra></extra>",
         "legendgroup": "2019",
         "marker": {
          "color": "#FF6692",
          "pattern": {
           "shape": ""
          }
         },
         "name": "2019",
         "offsetgroup": "2019",
         "orientation": "v",
         "showlegend": true,
         "type": "histogram",
         "x": [
          2019,
          2019,
          2019,
          2019,
          2019,
          2019,
          2019,
          2019,
          2019,
          2019,
          2019,
          2019,
          2019,
          2019,
          2019,
          2019,
          2019,
          2019,
          2019,
          2019,
          2019,
          2019,
          2019,
          2019,
          2019,
          2019,
          2019,
          2019,
          2019,
          2019,
          2019,
          2019,
          2019,
          2019,
          2019,
          2019,
          2019,
          2019,
          2019,
          2019,
          2019,
          2019,
          2019,
          2019,
          2019,
          2019,
          2019,
          2019,
          2019,
          2019,
          2019,
          2019,
          2019,
          2019,
          2019,
          2019,
          2019,
          2019,
          2019,
          2019,
          2019,
          2019,
          2019,
          2019,
          2019,
          2019,
          2019,
          2019,
          2019,
          2019,
          2019,
          2019,
          2019,
          2019,
          2019,
          2019,
          2019,
          2019,
          2019,
          2019,
          2019,
          2019,
          2019,
          2019,
          2019,
          2019,
          2019,
          2019,
          2019,
          2019,
          2019,
          2019,
          2019,
          2019,
          2019,
          2019,
          2019,
          2019,
          2019,
          2019,
          2019,
          2019,
          2019,
          2019,
          2019,
          2019,
          2019,
          2019,
          2019,
          2019,
          2019,
          2019,
          2019,
          2019,
          2019,
          2019,
          2019,
          2019,
          2019,
          2019,
          2019,
          2019
         ],
         "xaxis": "x",
         "yaxis": "y"
        },
        {
         "alignmentgroup": "True",
         "bingroup": "x",
         "hovertemplate": "Date=%{x}<br>count=%{y}<extra></extra>",
         "legendgroup": "2016",
         "marker": {
          "color": "#B6E880",
          "pattern": {
           "shape": ""
          }
         },
         "name": "2016",
         "offsetgroup": "2016",
         "orientation": "v",
         "showlegend": true,
         "type": "histogram",
         "x": [
          2016,
          2016,
          2016,
          2016,
          2016,
          2016,
          2016,
          2016,
          2016,
          2016,
          2016,
          2016,
          2016,
          2016,
          2016,
          2016,
          2016,
          2016,
          2016,
          2016,
          2016,
          2016,
          2016
         ],
         "xaxis": "x",
         "yaxis": "y"
        },
        {
         "alignmentgroup": "True",
         "bingroup": "x",
         "hovertemplate": "Date=%{x}<br>count=%{y}<extra></extra>",
         "legendgroup": "2020",
         "marker": {
          "color": "#FF97FF",
          "pattern": {
           "shape": ""
          }
         },
         "name": "2020",
         "offsetgroup": "2020",
         "orientation": "v",
         "showlegend": true,
         "type": "histogram",
         "x": [
          2020,
          2020,
          2020,
          2020,
          2020,
          2020,
          2020,
          2020,
          2020,
          2020,
          2020,
          2020,
          2020,
          2020,
          2020,
          2020,
          2020,
          2020,
          2020,
          2020,
          2020,
          2020,
          2020,
          2020,
          2020,
          2020,
          2020,
          2020,
          2020,
          2020,
          2020,
          2020,
          2020,
          2020,
          2020,
          2020,
          2020,
          2020,
          2020,
          2020,
          2020,
          2020,
          2020,
          2020,
          2020,
          2020,
          2020,
          2020,
          2020,
          2020,
          2020,
          2020,
          2020,
          2020,
          2020,
          2020,
          2020,
          2020,
          2020,
          2020,
          2020,
          2020,
          2020,
          2020,
          2020,
          2020,
          2020,
          2020,
          2020,
          2020,
          2020,
          2020,
          2020,
          2020,
          2020,
          2020,
          2020,
          2020,
          2020,
          2020,
          2020,
          2020,
          2020,
          2020,
          2020,
          2020,
          2020,
          2020,
          2020,
          2020,
          2020,
          2020,
          2020,
          2020,
          2020,
          2020,
          2020,
          2020,
          2020,
          2020,
          2020,
          2020,
          2020,
          2020,
          2020,
          2020,
          2020,
          2020,
          2020,
          2020,
          2020,
          2020,
          2020,
          2020,
          2020,
          2020,
          2020,
          2020,
          2020
         ],
         "xaxis": "x",
         "yaxis": "y"
        },
        {
         "alignmentgroup": "True",
         "bingroup": "x",
         "hovertemplate": "Date=%{x}<br>count=%{y}<extra></extra>",
         "legendgroup": "2021",
         "marker": {
          "color": "#FECB52",
          "pattern": {
           "shape": ""
          }
         },
         "name": "2021",
         "offsetgroup": "2021",
         "orientation": "v",
         "showlegend": true,
         "type": "histogram",
         "x": [
          2021,
          2021,
          2021,
          2021,
          2021,
          2021,
          2021,
          2021,
          2021,
          2021,
          2021,
          2021,
          2021,
          2021,
          2021,
          2021,
          2021,
          2021,
          2021,
          2021,
          2021,
          2021,
          2021,
          2021,
          2021,
          2021,
          2021,
          2021,
          2021,
          2021,
          2021,
          2021,
          2021,
          2021,
          2021,
          2021,
          2021,
          2021,
          2021,
          2021,
          2021,
          2021,
          2021,
          2021,
          2021,
          2021,
          2021,
          2021,
          2021,
          2021,
          2021,
          2021,
          2021,
          2021,
          2021,
          2021,
          2021,
          2021,
          2021,
          2021,
          2021,
          2021,
          2021,
          2021,
          2021,
          2021,
          2021,
          2021,
          2021,
          2021,
          2021,
          2021,
          2021,
          2021,
          2021,
          2021,
          2021,
          2021,
          2021,
          2021,
          2021,
          2021,
          2021,
          2021,
          2021,
          2021,
          2021,
          2021,
          2021,
          2021,
          2021,
          2021,
          2021,
          2021,
          2021,
          2021,
          2021,
          2021,
          2021,
          2021,
          2021,
          2021,
          2021,
          2021,
          2021,
          2021,
          2021,
          2021,
          2021,
          2021,
          2021,
          2021,
          2021,
          2021,
          2021,
          2021,
          2021,
          2021,
          2021,
          2021,
          2021,
          2021,
          2021,
          2021,
          2021,
          2021,
          2021,
          2021,
          2021,
          2021,
          2021,
          2021,
          2021,
          2021,
          2021,
          2021,
          2021,
          2021,
          2021,
          2021,
          2021,
          2021,
          2021,
          2021,
          2021,
          2021,
          2021,
          2021,
          2021,
          2021,
          2021,
          2021,
          2021,
          2021,
          2021,
          2021,
          2021,
          2021,
          2021,
          2021,
          2021,
          2021,
          2021,
          2021,
          2021,
          2021,
          2021,
          2021,
          2021,
          2021,
          2021,
          2021,
          2021,
          2021,
          2021,
          2021,
          2021,
          2021,
          2021,
          2021,
          2021,
          2021,
          2021,
          2021,
          2021,
          2021,
          2021,
          2021,
          2021,
          2021,
          2021,
          2021
         ],
         "xaxis": "x",
         "yaxis": "y"
        },
        {
         "alignmentgroup": "True",
         "bingroup": "x",
         "hovertemplate": "Date=%{x}<br>count=%{y}<extra></extra>",
         "legendgroup": "2010",
         "marker": {
          "color": "#636efa",
          "pattern": {
           "shape": ""
          }
         },
         "name": "2010",
         "offsetgroup": "2010",
         "orientation": "v",
         "showlegend": true,
         "type": "histogram",
         "x": [
          2010
         ],
         "xaxis": "x",
         "yaxis": "y"
        },
        {
         "alignmentgroup": "True",
         "bingroup": "x",
         "hovertemplate": "Date=%{x}<br>count=%{y}<extra></extra>",
         "legendgroup": "2013",
         "marker": {
          "color": "#EF553B",
          "pattern": {
           "shape": ""
          }
         },
         "name": "2013",
         "offsetgroup": "2013",
         "orientation": "v",
         "showlegend": true,
         "type": "histogram",
         "x": [
          2013,
          2013,
          2013
         ],
         "xaxis": "x",
         "yaxis": "y"
        },
        {
         "alignmentgroup": "True",
         "bingroup": "x",
         "hovertemplate": "Date=%{x}<br>count=%{y}<extra></extra>",
         "legendgroup": "2007",
         "marker": {
          "color": "#00cc96",
          "pattern": {
           "shape": ""
          }
         },
         "name": "2007",
         "offsetgroup": "2007",
         "orientation": "v",
         "showlegend": true,
         "type": "histogram",
         "x": [
          2007
         ],
         "xaxis": "x",
         "yaxis": "y"
        }
       ],
       "layout": {
        "barmode": "relative",
        "legend": {
         "title": {
          "text": "Date"
         },
         "tracegroupgap": 0
        },
        "template": {
         "data": {
          "bar": [
           {
            "error_x": {
             "color": "#2a3f5f"
            },
            "error_y": {
             "color": "#2a3f5f"
            },
            "marker": {
             "line": {
              "color": "#E5ECF6",
              "width": 0.5
             },
             "pattern": {
              "fillmode": "overlay",
              "size": 10,
              "solidity": 0.2
             }
            },
            "type": "bar"
           }
          ],
          "barpolar": [
           {
            "marker": {
             "line": {
              "color": "#E5ECF6",
              "width": 0.5
             },
             "pattern": {
              "fillmode": "overlay",
              "size": 10,
              "solidity": 0.2
             }
            },
            "type": "barpolar"
           }
          ],
          "carpet": [
           {
            "aaxis": {
             "endlinecolor": "#2a3f5f",
             "gridcolor": "white",
             "linecolor": "white",
             "minorgridcolor": "white",
             "startlinecolor": "#2a3f5f"
            },
            "baxis": {
             "endlinecolor": "#2a3f5f",
             "gridcolor": "white",
             "linecolor": "white",
             "minorgridcolor": "white",
             "startlinecolor": "#2a3f5f"
            },
            "type": "carpet"
           }
          ],
          "choropleth": [
           {
            "colorbar": {
             "outlinewidth": 0,
             "ticks": ""
            },
            "type": "choropleth"
           }
          ],
          "contour": [
           {
            "colorbar": {
             "outlinewidth": 0,
             "ticks": ""
            },
            "colorscale": [
             [
              0,
              "#0d0887"
             ],
             [
              0.1111111111111111,
              "#46039f"
             ],
             [
              0.2222222222222222,
              "#7201a8"
             ],
             [
              0.3333333333333333,
              "#9c179e"
             ],
             [
              0.4444444444444444,
              "#bd3786"
             ],
             [
              0.5555555555555556,
              "#d8576b"
             ],
             [
              0.6666666666666666,
              "#ed7953"
             ],
             [
              0.7777777777777778,
              "#fb9f3a"
             ],
             [
              0.8888888888888888,
              "#fdca26"
             ],
             [
              1,
              "#f0f921"
             ]
            ],
            "type": "contour"
           }
          ],
          "contourcarpet": [
           {
            "colorbar": {
             "outlinewidth": 0,
             "ticks": ""
            },
            "type": "contourcarpet"
           }
          ],
          "heatmap": [
           {
            "colorbar": {
             "outlinewidth": 0,
             "ticks": ""
            },
            "colorscale": [
             [
              0,
              "#0d0887"
             ],
             [
              0.1111111111111111,
              "#46039f"
             ],
             [
              0.2222222222222222,
              "#7201a8"
             ],
             [
              0.3333333333333333,
              "#9c179e"
             ],
             [
              0.4444444444444444,
              "#bd3786"
             ],
             [
              0.5555555555555556,
              "#d8576b"
             ],
             [
              0.6666666666666666,
              "#ed7953"
             ],
             [
              0.7777777777777778,
              "#fb9f3a"
             ],
             [
              0.8888888888888888,
              "#fdca26"
             ],
             [
              1,
              "#f0f921"
             ]
            ],
            "type": "heatmap"
           }
          ],
          "heatmapgl": [
           {
            "colorbar": {
             "outlinewidth": 0,
             "ticks": ""
            },
            "colorscale": [
             [
              0,
              "#0d0887"
             ],
             [
              0.1111111111111111,
              "#46039f"
             ],
             [
              0.2222222222222222,
              "#7201a8"
             ],
             [
              0.3333333333333333,
              "#9c179e"
             ],
             [
              0.4444444444444444,
              "#bd3786"
             ],
             [
              0.5555555555555556,
              "#d8576b"
             ],
             [
              0.6666666666666666,
              "#ed7953"
             ],
             [
              0.7777777777777778,
              "#fb9f3a"
             ],
             [
              0.8888888888888888,
              "#fdca26"
             ],
             [
              1,
              "#f0f921"
             ]
            ],
            "type": "heatmapgl"
           }
          ],
          "histogram": [
           {
            "marker": {
             "pattern": {
              "fillmode": "overlay",
              "size": 10,
              "solidity": 0.2
             }
            },
            "type": "histogram"
           }
          ],
          "histogram2d": [
           {
            "colorbar": {
             "outlinewidth": 0,
             "ticks": ""
            },
            "colorscale": [
             [
              0,
              "#0d0887"
             ],
             [
              0.1111111111111111,
              "#46039f"
             ],
             [
              0.2222222222222222,
              "#7201a8"
             ],
             [
              0.3333333333333333,
              "#9c179e"
             ],
             [
              0.4444444444444444,
              "#bd3786"
             ],
             [
              0.5555555555555556,
              "#d8576b"
             ],
             [
              0.6666666666666666,
              "#ed7953"
             ],
             [
              0.7777777777777778,
              "#fb9f3a"
             ],
             [
              0.8888888888888888,
              "#fdca26"
             ],
             [
              1,
              "#f0f921"
             ]
            ],
            "type": "histogram2d"
           }
          ],
          "histogram2dcontour": [
           {
            "colorbar": {
             "outlinewidth": 0,
             "ticks": ""
            },
            "colorscale": [
             [
              0,
              "#0d0887"
             ],
             [
              0.1111111111111111,
              "#46039f"
             ],
             [
              0.2222222222222222,
              "#7201a8"
             ],
             [
              0.3333333333333333,
              "#9c179e"
             ],
             [
              0.4444444444444444,
              "#bd3786"
             ],
             [
              0.5555555555555556,
              "#d8576b"
             ],
             [
              0.6666666666666666,
              "#ed7953"
             ],
             [
              0.7777777777777778,
              "#fb9f3a"
             ],
             [
              0.8888888888888888,
              "#fdca26"
             ],
             [
              1,
              "#f0f921"
             ]
            ],
            "type": "histogram2dcontour"
           }
          ],
          "mesh3d": [
           {
            "colorbar": {
             "outlinewidth": 0,
             "ticks": ""
            },
            "type": "mesh3d"
           }
          ],
          "parcoords": [
           {
            "line": {
             "colorbar": {
              "outlinewidth": 0,
              "ticks": ""
             }
            },
            "type": "parcoords"
           }
          ],
          "pie": [
           {
            "automargin": true,
            "type": "pie"
           }
          ],
          "scatter": [
           {
            "marker": {
             "colorbar": {
              "outlinewidth": 0,
              "ticks": ""
             }
            },
            "type": "scatter"
           }
          ],
          "scatter3d": [
           {
            "line": {
             "colorbar": {
              "outlinewidth": 0,
              "ticks": ""
             }
            },
            "marker": {
             "colorbar": {
              "outlinewidth": 0,
              "ticks": ""
             }
            },
            "type": "scatter3d"
           }
          ],
          "scattercarpet": [
           {
            "marker": {
             "colorbar": {
              "outlinewidth": 0,
              "ticks": ""
             }
            },
            "type": "scattercarpet"
           }
          ],
          "scattergeo": [
           {
            "marker": {
             "colorbar": {
              "outlinewidth": 0,
              "ticks": ""
             }
            },
            "type": "scattergeo"
           }
          ],
          "scattergl": [
           {
            "marker": {
             "colorbar": {
              "outlinewidth": 0,
              "ticks": ""
             }
            },
            "type": "scattergl"
           }
          ],
          "scattermapbox": [
           {
            "marker": {
             "colorbar": {
              "outlinewidth": 0,
              "ticks": ""
             }
            },
            "type": "scattermapbox"
           }
          ],
          "scatterpolar": [
           {
            "marker": {
             "colorbar": {
              "outlinewidth": 0,
              "ticks": ""
             }
            },
            "type": "scatterpolar"
           }
          ],
          "scatterpolargl": [
           {
            "marker": {
             "colorbar": {
              "outlinewidth": 0,
              "ticks": ""
             }
            },
            "type": "scatterpolargl"
           }
          ],
          "scatterternary": [
           {
            "marker": {
             "colorbar": {
              "outlinewidth": 0,
              "ticks": ""
             }
            },
            "type": "scatterternary"
           }
          ],
          "surface": [
           {
            "colorbar": {
             "outlinewidth": 0,
             "ticks": ""
            },
            "colorscale": [
             [
              0,
              "#0d0887"
             ],
             [
              0.1111111111111111,
              "#46039f"
             ],
             [
              0.2222222222222222,
              "#7201a8"
             ],
             [
              0.3333333333333333,
              "#9c179e"
             ],
             [
              0.4444444444444444,
              "#bd3786"
             ],
             [
              0.5555555555555556,
              "#d8576b"
             ],
             [
              0.6666666666666666,
              "#ed7953"
             ],
             [
              0.7777777777777778,
              "#fb9f3a"
             ],
             [
              0.8888888888888888,
              "#fdca26"
             ],
             [
              1,
              "#f0f921"
             ]
            ],
            "type": "surface"
           }
          ],
          "table": [
           {
            "cells": {
             "fill": {
              "color": "#EBF0F8"
             },
             "line": {
              "color": "white"
             }
            },
            "header": {
             "fill": {
              "color": "#C8D4E3"
             },
             "line": {
              "color": "white"
             }
            },
            "type": "table"
           }
          ]
         },
         "layout": {
          "annotationdefaults": {
           "arrowcolor": "#2a3f5f",
           "arrowhead": 0,
           "arrowwidth": 1
          },
          "autotypenumbers": "strict",
          "coloraxis": {
           "colorbar": {
            "outlinewidth": 0,
            "ticks": ""
           }
          },
          "colorscale": {
           "diverging": [
            [
             0,
             "#8e0152"
            ],
            [
             0.1,
             "#c51b7d"
            ],
            [
             0.2,
             "#de77ae"
            ],
            [
             0.3,
             "#f1b6da"
            ],
            [
             0.4,
             "#fde0ef"
            ],
            [
             0.5,
             "#f7f7f7"
            ],
            [
             0.6,
             "#e6f5d0"
            ],
            [
             0.7,
             "#b8e186"
            ],
            [
             0.8,
             "#7fbc41"
            ],
            [
             0.9,
             "#4d9221"
            ],
            [
             1,
             "#276419"
            ]
           ],
           "sequential": [
            [
             0,
             "#0d0887"
            ],
            [
             0.1111111111111111,
             "#46039f"
            ],
            [
             0.2222222222222222,
             "#7201a8"
            ],
            [
             0.3333333333333333,
             "#9c179e"
            ],
            [
             0.4444444444444444,
             "#bd3786"
            ],
            [
             0.5555555555555556,
             "#d8576b"
            ],
            [
             0.6666666666666666,
             "#ed7953"
            ],
            [
             0.7777777777777778,
             "#fb9f3a"
            ],
            [
             0.8888888888888888,
             "#fdca26"
            ],
            [
             1,
             "#f0f921"
            ]
           ],
           "sequentialminus": [
            [
             0,
             "#0d0887"
            ],
            [
             0.1111111111111111,
             "#46039f"
            ],
            [
             0.2222222222222222,
             "#7201a8"
            ],
            [
             0.3333333333333333,
             "#9c179e"
            ],
            [
             0.4444444444444444,
             "#bd3786"
            ],
            [
             0.5555555555555556,
             "#d8576b"
            ],
            [
             0.6666666666666666,
             "#ed7953"
            ],
            [
             0.7777777777777778,
             "#fb9f3a"
            ],
            [
             0.8888888888888888,
             "#fdca26"
            ],
            [
             1,
             "#f0f921"
            ]
           ]
          },
          "colorway": [
           "#636efa",
           "#EF553B",
           "#00cc96",
           "#ab63fa",
           "#FFA15A",
           "#19d3f3",
           "#FF6692",
           "#B6E880",
           "#FF97FF",
           "#FECB52"
          ],
          "font": {
           "color": "#2a3f5f"
          },
          "geo": {
           "bgcolor": "white",
           "lakecolor": "white",
           "landcolor": "#E5ECF6",
           "showlakes": true,
           "showland": true,
           "subunitcolor": "white"
          },
          "hoverlabel": {
           "align": "left"
          },
          "hovermode": "closest",
          "mapbox": {
           "style": "light"
          },
          "paper_bgcolor": "white",
          "plot_bgcolor": "#E5ECF6",
          "polar": {
           "angularaxis": {
            "gridcolor": "white",
            "linecolor": "white",
            "ticks": ""
           },
           "bgcolor": "#E5ECF6",
           "radialaxis": {
            "gridcolor": "white",
            "linecolor": "white",
            "ticks": ""
           }
          },
          "scene": {
           "xaxis": {
            "backgroundcolor": "#E5ECF6",
            "gridcolor": "white",
            "gridwidth": 2,
            "linecolor": "white",
            "showbackground": true,
            "ticks": "",
            "zerolinecolor": "white"
           },
           "yaxis": {
            "backgroundcolor": "#E5ECF6",
            "gridcolor": "white",
            "gridwidth": 2,
            "linecolor": "white",
            "showbackground": true,
            "ticks": "",
            "zerolinecolor": "white"
           },
           "zaxis": {
            "backgroundcolor": "#E5ECF6",
            "gridcolor": "white",
            "gridwidth": 2,
            "linecolor": "white",
            "showbackground": true,
            "ticks": "",
            "zerolinecolor": "white"
           }
          },
          "shapedefaults": {
           "line": {
            "color": "#2a3f5f"
           }
          },
          "ternary": {
           "aaxis": {
            "gridcolor": "white",
            "linecolor": "white",
            "ticks": ""
           },
           "baxis": {
            "gridcolor": "white",
            "linecolor": "white",
            "ticks": ""
           },
           "bgcolor": "#E5ECF6",
           "caxis": {
            "gridcolor": "white",
            "linecolor": "white",
            "ticks": ""
           }
          },
          "title": {
           "x": 0.05
          },
          "xaxis": {
           "automargin": true,
           "gridcolor": "white",
           "linecolor": "white",
           "ticks": "",
           "title": {
            "standoff": 15
           },
           "zerolinecolor": "white",
           "zerolinewidth": 2
          },
          "yaxis": {
           "automargin": true,
           "gridcolor": "white",
           "linecolor": "white",
           "ticks": "",
           "title": {
            "standoff": 15
           },
           "zerolinecolor": "white",
           "zerolinewidth": 2
          }
         }
        },
        "title": {
         "text": "AMOUNT OF UNICORNS PER YEAR"
        },
        "xaxis": {
         "anchor": "y",
         "categoryarray": [
          2017,
          2014,
          2012,
          2015,
          2011,
          2018,
          2019,
          2016,
          2020,
          2021,
          2010,
          2013,
          2007
         ],
         "categoryorder": "array",
         "domain": [
          0,
          1
         ],
         "title": {
          "text": "Date"
         }
        },
        "yaxis": {
         "anchor": "x",
         "domain": [
          0,
          1
         ],
         "title": {
          "text": "count"
         }
        }
       }
      },
      "text/html": [
       "<div>                            <div id=\"0beba9cc-4f19-4951-8fad-0897a711b601\" class=\"plotly-graph-div\" style=\"height:525px; width:100%;\"></div>            <script type=\"text/javascript\">                require([\"plotly\"], function(Plotly) {                    window.PLOTLYENV=window.PLOTLYENV || {};                                    if (document.getElementById(\"0beba9cc-4f19-4951-8fad-0897a711b601\")) {                    Plotly.newPlot(                        \"0beba9cc-4f19-4951-8fad-0897a711b601\",                        [{\"alignmentgroup\":\"True\",\"bingroup\":\"x\",\"hovertemplate\":\"Date=%{x}<br>count=%{y}<extra></extra>\",\"legendgroup\":\"2017\",\"marker\":{\"color\":\"#636efa\",\"pattern\":{\"shape\":\"\"}},\"name\":\"2017\",\"offsetgroup\":\"2017\",\"orientation\":\"v\",\"showlegend\":true,\"type\":\"histogram\",\"x\":[2017,2017,2017,2017,2017,2017,2017,2017,2017,2017,2017,2017,2017,2017,2017,2017,2017,2017,2017,2017,2017,2017,2017,2017,2017,2017,2017,2017,2017,2017,2017,2017,2017,2017,2017,2017,2017,2017,2017,2017,2017,2017,2017,2017,2017,2017,2017,2017,2017,2017,2017,2017,2017,2017,2017],\"xaxis\":\"x\",\"yaxis\":\"y\"},{\"alignmentgroup\":\"True\",\"bingroup\":\"x\",\"hovertemplate\":\"Date=%{x}<br>count=%{y}<extra></extra>\",\"legendgroup\":\"2014\",\"marker\":{\"color\":\"#EF553B\",\"pattern\":{\"shape\":\"\"}},\"name\":\"2014\",\"offsetgroup\":\"2014\",\"orientation\":\"v\",\"showlegend\":true,\"type\":\"histogram\",\"x\":[2014,2014,2014,2014,2014,2014,2014,2014,2014,2014,2014,2014,2014,2014,2014,2014],\"xaxis\":\"x\",\"yaxis\":\"y\"},{\"alignmentgroup\":\"True\",\"bingroup\":\"x\",\"hovertemplate\":\"Date=%{x}<br>count=%{y}<extra></extra>\",\"legendgroup\":\"2012\",\"marker\":{\"color\":\"#00cc96\",\"pattern\":{\"shape\":\"\"}},\"name\":\"2012\",\"offsetgroup\":\"2012\",\"orientation\":\"v\",\"showlegend\":true,\"type\":\"histogram\",\"x\":[2012,2012,2012,2012,2012],\"xaxis\":\"x\",\"yaxis\":\"y\"},{\"alignmentgroup\":\"True\",\"bingroup\":\"x\",\"hovertemplate\":\"Date=%{x}<br>count=%{y}<extra></extra>\",\"legendgroup\":\"2015\",\"marker\":{\"color\":\"#ab63fa\",\"pattern\":{\"shape\":\"\"}},\"name\":\"2015\",\"offsetgroup\":\"2015\",\"orientation\":\"v\",\"showlegend\":true,\"type\":\"histogram\",\"x\":[2015,2015,2015,2015,2015,2015,2015,2015,2015,2015,2015,2015,2015,2015,2015,2015,2015,2015,2015,2015,2015,2015,2015,2015,2015,2015,2015,2015,2015,2015,2015,2015,2015,2015,2015,2015,2015,2015,2015,2015,2015,2015,2015,2015,2015,2015,2015],\"xaxis\":\"x\",\"yaxis\":\"y\"},{\"alignmentgroup\":\"True\",\"bingroup\":\"x\",\"hovertemplate\":\"Date=%{x}<br>count=%{y}<extra></extra>\",\"legendgroup\":\"2011\",\"marker\":{\"color\":\"#FFA15A\",\"pattern\":{\"shape\":\"\"}},\"name\":\"2011\",\"offsetgroup\":\"2011\",\"orientation\":\"v\",\"showlegend\":true,\"type\":\"histogram\",\"x\":[2011,2011],\"xaxis\":\"x\",\"yaxis\":\"y\"},{\"alignmentgroup\":\"True\",\"bingroup\":\"x\",\"hovertemplate\":\"Date=%{x}<br>count=%{y}<extra></extra>\",\"legendgroup\":\"2018\",\"marker\":{\"color\":\"#19d3f3\",\"pattern\":{\"shape\":\"\"}},\"name\":\"2018\",\"offsetgroup\":\"2018\",\"orientation\":\"v\",\"showlegend\":true,\"type\":\"histogram\",\"x\":[2018,2018,2018,2018,2018,2018,2018,2018,2018,2018,2018,2018,2018,2018,2018,2018,2018,2018,2018,2018,2018,2018,2018,2018,2018,2018,2018,2018,2018,2018,2018,2018,2018,2018,2018,2018,2018,2018,2018,2018,2018,2018,2018,2018,2018,2018,2018,2018,2018,2018,2018,2018,2018,2018,2018,2018,2018,2018,2018,2018,2018,2018,2018,2018,2018,2018,2018,2018,2018,2018,2018,2018,2018,2018,2018,2018,2018,2018,2018,2018,2018,2018,2018,2018,2018,2018,2018,2018,2018,2018,2018,2018,2018,2018,2018,2018,2018,2018,2018,2018,2018,2018,2018,2018,2018,2018,2018,2018,2018,2018,2018,2018,2018,2018,2018,2018,2018,2018,2018,2018,2018,2018],\"xaxis\":\"x\",\"yaxis\":\"y\"},{\"alignmentgroup\":\"True\",\"bingroup\":\"x\",\"hovertemplate\":\"Date=%{x}<br>count=%{y}<extra></extra>\",\"legendgroup\":\"2019\",\"marker\":{\"color\":\"#FF6692\",\"pattern\":{\"shape\":\"\"}},\"name\":\"2019\",\"offsetgroup\":\"2019\",\"orientation\":\"v\",\"showlegend\":true,\"type\":\"histogram\",\"x\":[2019,2019,2019,2019,2019,2019,2019,2019,2019,2019,2019,2019,2019,2019,2019,2019,2019,2019,2019,2019,2019,2019,2019,2019,2019,2019,2019,2019,2019,2019,2019,2019,2019,2019,2019,2019,2019,2019,2019,2019,2019,2019,2019,2019,2019,2019,2019,2019,2019,2019,2019,2019,2019,2019,2019,2019,2019,2019,2019,2019,2019,2019,2019,2019,2019,2019,2019,2019,2019,2019,2019,2019,2019,2019,2019,2019,2019,2019,2019,2019,2019,2019,2019,2019,2019,2019,2019,2019,2019,2019,2019,2019,2019,2019,2019,2019,2019,2019,2019,2019,2019,2019,2019,2019,2019,2019,2019,2019,2019,2019,2019,2019,2019,2019,2019,2019,2019,2019,2019,2019,2019,2019],\"xaxis\":\"x\",\"yaxis\":\"y\"},{\"alignmentgroup\":\"True\",\"bingroup\":\"x\",\"hovertemplate\":\"Date=%{x}<br>count=%{y}<extra></extra>\",\"legendgroup\":\"2016\",\"marker\":{\"color\":\"#B6E880\",\"pattern\":{\"shape\":\"\"}},\"name\":\"2016\",\"offsetgroup\":\"2016\",\"orientation\":\"v\",\"showlegend\":true,\"type\":\"histogram\",\"x\":[2016,2016,2016,2016,2016,2016,2016,2016,2016,2016,2016,2016,2016,2016,2016,2016,2016,2016,2016,2016,2016,2016,2016],\"xaxis\":\"x\",\"yaxis\":\"y\"},{\"alignmentgroup\":\"True\",\"bingroup\":\"x\",\"hovertemplate\":\"Date=%{x}<br>count=%{y}<extra></extra>\",\"legendgroup\":\"2020\",\"marker\":{\"color\":\"#FF97FF\",\"pattern\":{\"shape\":\"\"}},\"name\":\"2020\",\"offsetgroup\":\"2020\",\"orientation\":\"v\",\"showlegend\":true,\"type\":\"histogram\",\"x\":[2020,2020,2020,2020,2020,2020,2020,2020,2020,2020,2020,2020,2020,2020,2020,2020,2020,2020,2020,2020,2020,2020,2020,2020,2020,2020,2020,2020,2020,2020,2020,2020,2020,2020,2020,2020,2020,2020,2020,2020,2020,2020,2020,2020,2020,2020,2020,2020,2020,2020,2020,2020,2020,2020,2020,2020,2020,2020,2020,2020,2020,2020,2020,2020,2020,2020,2020,2020,2020,2020,2020,2020,2020,2020,2020,2020,2020,2020,2020,2020,2020,2020,2020,2020,2020,2020,2020,2020,2020,2020,2020,2020,2020,2020,2020,2020,2020,2020,2020,2020,2020,2020,2020,2020,2020,2020,2020,2020,2020,2020,2020,2020,2020,2020,2020,2020,2020,2020,2020],\"xaxis\":\"x\",\"yaxis\":\"y\"},{\"alignmentgroup\":\"True\",\"bingroup\":\"x\",\"hovertemplate\":\"Date=%{x}<br>count=%{y}<extra></extra>\",\"legendgroup\":\"2021\",\"marker\":{\"color\":\"#FECB52\",\"pattern\":{\"shape\":\"\"}},\"name\":\"2021\",\"offsetgroup\":\"2021\",\"orientation\":\"v\",\"showlegend\":true,\"type\":\"histogram\",\"x\":[2021,2021,2021,2021,2021,2021,2021,2021,2021,2021,2021,2021,2021,2021,2021,2021,2021,2021,2021,2021,2021,2021,2021,2021,2021,2021,2021,2021,2021,2021,2021,2021,2021,2021,2021,2021,2021,2021,2021,2021,2021,2021,2021,2021,2021,2021,2021,2021,2021,2021,2021,2021,2021,2021,2021,2021,2021,2021,2021,2021,2021,2021,2021,2021,2021,2021,2021,2021,2021,2021,2021,2021,2021,2021,2021,2021,2021,2021,2021,2021,2021,2021,2021,2021,2021,2021,2021,2021,2021,2021,2021,2021,2021,2021,2021,2021,2021,2021,2021,2021,2021,2021,2021,2021,2021,2021,2021,2021,2021,2021,2021,2021,2021,2021,2021,2021,2021,2021,2021,2021,2021,2021,2021,2021,2021,2021,2021,2021,2021,2021,2021,2021,2021,2021,2021,2021,2021,2021,2021,2021,2021,2021,2021,2021,2021,2021,2021,2021,2021,2021,2021,2021,2021,2021,2021,2021,2021,2021,2021,2021,2021,2021,2021,2021,2021,2021,2021,2021,2021,2021,2021,2021,2021,2021,2021,2021,2021,2021,2021,2021,2021,2021,2021,2021,2021,2021,2021,2021,2021,2021,2021,2021],\"xaxis\":\"x\",\"yaxis\":\"y\"},{\"alignmentgroup\":\"True\",\"bingroup\":\"x\",\"hovertemplate\":\"Date=%{x}<br>count=%{y}<extra></extra>\",\"legendgroup\":\"2010\",\"marker\":{\"color\":\"#636efa\",\"pattern\":{\"shape\":\"\"}},\"name\":\"2010\",\"offsetgroup\":\"2010\",\"orientation\":\"v\",\"showlegend\":true,\"type\":\"histogram\",\"x\":[2010],\"xaxis\":\"x\",\"yaxis\":\"y\"},{\"alignmentgroup\":\"True\",\"bingroup\":\"x\",\"hovertemplate\":\"Date=%{x}<br>count=%{y}<extra></extra>\",\"legendgroup\":\"2013\",\"marker\":{\"color\":\"#EF553B\",\"pattern\":{\"shape\":\"\"}},\"name\":\"2013\",\"offsetgroup\":\"2013\",\"orientation\":\"v\",\"showlegend\":true,\"type\":\"histogram\",\"x\":[2013,2013,2013],\"xaxis\":\"x\",\"yaxis\":\"y\"},{\"alignmentgroup\":\"True\",\"bingroup\":\"x\",\"hovertemplate\":\"Date=%{x}<br>count=%{y}<extra></extra>\",\"legendgroup\":\"2007\",\"marker\":{\"color\":\"#00cc96\",\"pattern\":{\"shape\":\"\"}},\"name\":\"2007\",\"offsetgroup\":\"2007\",\"orientation\":\"v\",\"showlegend\":true,\"type\":\"histogram\",\"x\":[2007],\"xaxis\":\"x\",\"yaxis\":\"y\"}],                        {\"barmode\":\"relative\",\"legend\":{\"title\":{\"text\":\"Date\"},\"tracegroupgap\":0},\"template\":{\"data\":{\"bar\":[{\"error_x\":{\"color\":\"#2a3f5f\"},\"error_y\":{\"color\":\"#2a3f5f\"},\"marker\":{\"line\":{\"color\":\"#E5ECF6\",\"width\":0.5},\"pattern\":{\"fillmode\":\"overlay\",\"size\":10,\"solidity\":0.2}},\"type\":\"bar\"}],\"barpolar\":[{\"marker\":{\"line\":{\"color\":\"#E5ECF6\",\"width\":0.5},\"pattern\":{\"fillmode\":\"overlay\",\"size\":10,\"solidity\":0.2}},\"type\":\"barpolar\"}],\"carpet\":[{\"aaxis\":{\"endlinecolor\":\"#2a3f5f\",\"gridcolor\":\"white\",\"linecolor\":\"white\",\"minorgridcolor\":\"white\",\"startlinecolor\":\"#2a3f5f\"},\"baxis\":{\"endlinecolor\":\"#2a3f5f\",\"gridcolor\":\"white\",\"linecolor\":\"white\",\"minorgridcolor\":\"white\",\"startlinecolor\":\"#2a3f5f\"},\"type\":\"carpet\"}],\"choropleth\":[{\"colorbar\":{\"outlinewidth\":0,\"ticks\":\"\"},\"type\":\"choropleth\"}],\"contour\":[{\"colorbar\":{\"outlinewidth\":0,\"ticks\":\"\"},\"colorscale\":[[0.0,\"#0d0887\"],[0.1111111111111111,\"#46039f\"],[0.2222222222222222,\"#7201a8\"],[0.3333333333333333,\"#9c179e\"],[0.4444444444444444,\"#bd3786\"],[0.5555555555555556,\"#d8576b\"],[0.6666666666666666,\"#ed7953\"],[0.7777777777777778,\"#fb9f3a\"],[0.8888888888888888,\"#fdca26\"],[1.0,\"#f0f921\"]],\"type\":\"contour\"}],\"contourcarpet\":[{\"colorbar\":{\"outlinewidth\":0,\"ticks\":\"\"},\"type\":\"contourcarpet\"}],\"heatmap\":[{\"colorbar\":{\"outlinewidth\":0,\"ticks\":\"\"},\"colorscale\":[[0.0,\"#0d0887\"],[0.1111111111111111,\"#46039f\"],[0.2222222222222222,\"#7201a8\"],[0.3333333333333333,\"#9c179e\"],[0.4444444444444444,\"#bd3786\"],[0.5555555555555556,\"#d8576b\"],[0.6666666666666666,\"#ed7953\"],[0.7777777777777778,\"#fb9f3a\"],[0.8888888888888888,\"#fdca26\"],[1.0,\"#f0f921\"]],\"type\":\"heatmap\"}],\"heatmapgl\":[{\"colorbar\":{\"outlinewidth\":0,\"ticks\":\"\"},\"colorscale\":[[0.0,\"#0d0887\"],[0.1111111111111111,\"#46039f\"],[0.2222222222222222,\"#7201a8\"],[0.3333333333333333,\"#9c179e\"],[0.4444444444444444,\"#bd3786\"],[0.5555555555555556,\"#d8576b\"],[0.6666666666666666,\"#ed7953\"],[0.7777777777777778,\"#fb9f3a\"],[0.8888888888888888,\"#fdca26\"],[1.0,\"#f0f921\"]],\"type\":\"heatmapgl\"}],\"histogram\":[{\"marker\":{\"pattern\":{\"fillmode\":\"overlay\",\"size\":10,\"solidity\":0.2}},\"type\":\"histogram\"}],\"histogram2d\":[{\"colorbar\":{\"outlinewidth\":0,\"ticks\":\"\"},\"colorscale\":[[0.0,\"#0d0887\"],[0.1111111111111111,\"#46039f\"],[0.2222222222222222,\"#7201a8\"],[0.3333333333333333,\"#9c179e\"],[0.4444444444444444,\"#bd3786\"],[0.5555555555555556,\"#d8576b\"],[0.6666666666666666,\"#ed7953\"],[0.7777777777777778,\"#fb9f3a\"],[0.8888888888888888,\"#fdca26\"],[1.0,\"#f0f921\"]],\"type\":\"histogram2d\"}],\"histogram2dcontour\":[{\"colorbar\":{\"outlinewidth\":0,\"ticks\":\"\"},\"colorscale\":[[0.0,\"#0d0887\"],[0.1111111111111111,\"#46039f\"],[0.2222222222222222,\"#7201a8\"],[0.3333333333333333,\"#9c179e\"],[0.4444444444444444,\"#bd3786\"],[0.5555555555555556,\"#d8576b\"],[0.6666666666666666,\"#ed7953\"],[0.7777777777777778,\"#fb9f3a\"],[0.8888888888888888,\"#fdca26\"],[1.0,\"#f0f921\"]],\"type\":\"histogram2dcontour\"}],\"mesh3d\":[{\"colorbar\":{\"outlinewidth\":0,\"ticks\":\"\"},\"type\":\"mesh3d\"}],\"parcoords\":[{\"line\":{\"colorbar\":{\"outlinewidth\":0,\"ticks\":\"\"}},\"type\":\"parcoords\"}],\"pie\":[{\"automargin\":true,\"type\":\"pie\"}],\"scatter\":[{\"marker\":{\"colorbar\":{\"outlinewidth\":0,\"ticks\":\"\"}},\"type\":\"scatter\"}],\"scatter3d\":[{\"line\":{\"colorbar\":{\"outlinewidth\":0,\"ticks\":\"\"}},\"marker\":{\"colorbar\":{\"outlinewidth\":0,\"ticks\":\"\"}},\"type\":\"scatter3d\"}],\"scattercarpet\":[{\"marker\":{\"colorbar\":{\"outlinewidth\":0,\"ticks\":\"\"}},\"type\":\"scattercarpet\"}],\"scattergeo\":[{\"marker\":{\"colorbar\":{\"outlinewidth\":0,\"ticks\":\"\"}},\"type\":\"scattergeo\"}],\"scattergl\":[{\"marker\":{\"colorbar\":{\"outlinewidth\":0,\"ticks\":\"\"}},\"type\":\"scattergl\"}],\"scattermapbox\":[{\"marker\":{\"colorbar\":{\"outlinewidth\":0,\"ticks\":\"\"}},\"type\":\"scattermapbox\"}],\"scatterpolar\":[{\"marker\":{\"colorbar\":{\"outlinewidth\":0,\"ticks\":\"\"}},\"type\":\"scatterpolar\"}],\"scatterpolargl\":[{\"marker\":{\"colorbar\":{\"outlinewidth\":0,\"ticks\":\"\"}},\"type\":\"scatterpolargl\"}],\"scatterternary\":[{\"marker\":{\"colorbar\":{\"outlinewidth\":0,\"ticks\":\"\"}},\"type\":\"scatterternary\"}],\"surface\":[{\"colorbar\":{\"outlinewidth\":0,\"ticks\":\"\"},\"colorscale\":[[0.0,\"#0d0887\"],[0.1111111111111111,\"#46039f\"],[0.2222222222222222,\"#7201a8\"],[0.3333333333333333,\"#9c179e\"],[0.4444444444444444,\"#bd3786\"],[0.5555555555555556,\"#d8576b\"],[0.6666666666666666,\"#ed7953\"],[0.7777777777777778,\"#fb9f3a\"],[0.8888888888888888,\"#fdca26\"],[1.0,\"#f0f921\"]],\"type\":\"surface\"}],\"table\":[{\"cells\":{\"fill\":{\"color\":\"#EBF0F8\"},\"line\":{\"color\":\"white\"}},\"header\":{\"fill\":{\"color\":\"#C8D4E3\"},\"line\":{\"color\":\"white\"}},\"type\":\"table\"}]},\"layout\":{\"annotationdefaults\":{\"arrowcolor\":\"#2a3f5f\",\"arrowhead\":0,\"arrowwidth\":1},\"autotypenumbers\":\"strict\",\"coloraxis\":{\"colorbar\":{\"outlinewidth\":0,\"ticks\":\"\"}},\"colorscale\":{\"diverging\":[[0,\"#8e0152\"],[0.1,\"#c51b7d\"],[0.2,\"#de77ae\"],[0.3,\"#f1b6da\"],[0.4,\"#fde0ef\"],[0.5,\"#f7f7f7\"],[0.6,\"#e6f5d0\"],[0.7,\"#b8e186\"],[0.8,\"#7fbc41\"],[0.9,\"#4d9221\"],[1,\"#276419\"]],\"sequential\":[[0.0,\"#0d0887\"],[0.1111111111111111,\"#46039f\"],[0.2222222222222222,\"#7201a8\"],[0.3333333333333333,\"#9c179e\"],[0.4444444444444444,\"#bd3786\"],[0.5555555555555556,\"#d8576b\"],[0.6666666666666666,\"#ed7953\"],[0.7777777777777778,\"#fb9f3a\"],[0.8888888888888888,\"#fdca26\"],[1.0,\"#f0f921\"]],\"sequentialminus\":[[0.0,\"#0d0887\"],[0.1111111111111111,\"#46039f\"],[0.2222222222222222,\"#7201a8\"],[0.3333333333333333,\"#9c179e\"],[0.4444444444444444,\"#bd3786\"],[0.5555555555555556,\"#d8576b\"],[0.6666666666666666,\"#ed7953\"],[0.7777777777777778,\"#fb9f3a\"],[0.8888888888888888,\"#fdca26\"],[1.0,\"#f0f921\"]]},\"colorway\":[\"#636efa\",\"#EF553B\",\"#00cc96\",\"#ab63fa\",\"#FFA15A\",\"#19d3f3\",\"#FF6692\",\"#B6E880\",\"#FF97FF\",\"#FECB52\"],\"font\":{\"color\":\"#2a3f5f\"},\"geo\":{\"bgcolor\":\"white\",\"lakecolor\":\"white\",\"landcolor\":\"#E5ECF6\",\"showlakes\":true,\"showland\":true,\"subunitcolor\":\"white\"},\"hoverlabel\":{\"align\":\"left\"},\"hovermode\":\"closest\",\"mapbox\":{\"style\":\"light\"},\"paper_bgcolor\":\"white\",\"plot_bgcolor\":\"#E5ECF6\",\"polar\":{\"angularaxis\":{\"gridcolor\":\"white\",\"linecolor\":\"white\",\"ticks\":\"\"},\"bgcolor\":\"#E5ECF6\",\"radialaxis\":{\"gridcolor\":\"white\",\"linecolor\":\"white\",\"ticks\":\"\"}},\"scene\":{\"xaxis\":{\"backgroundcolor\":\"#E5ECF6\",\"gridcolor\":\"white\",\"gridwidth\":2,\"linecolor\":\"white\",\"showbackground\":true,\"ticks\":\"\",\"zerolinecolor\":\"white\"},\"yaxis\":{\"backgroundcolor\":\"#E5ECF6\",\"gridcolor\":\"white\",\"gridwidth\":2,\"linecolor\":\"white\",\"showbackground\":true,\"ticks\":\"\",\"zerolinecolor\":\"white\"},\"zaxis\":{\"backgroundcolor\":\"#E5ECF6\",\"gridcolor\":\"white\",\"gridwidth\":2,\"linecolor\":\"white\",\"showbackground\":true,\"ticks\":\"\",\"zerolinecolor\":\"white\"}},\"shapedefaults\":{\"line\":{\"color\":\"#2a3f5f\"}},\"ternary\":{\"aaxis\":{\"gridcolor\":\"white\",\"linecolor\":\"white\",\"ticks\":\"\"},\"baxis\":{\"gridcolor\":\"white\",\"linecolor\":\"white\",\"ticks\":\"\"},\"bgcolor\":\"#E5ECF6\",\"caxis\":{\"gridcolor\":\"white\",\"linecolor\":\"white\",\"ticks\":\"\"}},\"title\":{\"x\":0.05},\"xaxis\":{\"automargin\":true,\"gridcolor\":\"white\",\"linecolor\":\"white\",\"ticks\":\"\",\"title\":{\"standoff\":15},\"zerolinecolor\":\"white\",\"zerolinewidth\":2},\"yaxis\":{\"automargin\":true,\"gridcolor\":\"white\",\"linecolor\":\"white\",\"ticks\":\"\",\"title\":{\"standoff\":15},\"zerolinecolor\":\"white\",\"zerolinewidth\":2}}},\"title\":{\"text\":\"AMOUNT OF UNICORNS PER YEAR\"},\"xaxis\":{\"anchor\":\"y\",\"categoryarray\":[2017,2014,2012,2015,2011,2018,2019,2016,2020,2021,2010,2013,2007],\"categoryorder\":\"array\",\"domain\":[0.0,1.0],\"title\":{\"text\":\"Date\"}},\"yaxis\":{\"anchor\":\"x\",\"domain\":[0.0,1.0],\"title\":{\"text\":\"count\"}}},                        {\"responsive\": true}                    ).then(function(){\n",
       "                            \n",
       "var gd = document.getElementById('0beba9cc-4f19-4951-8fad-0897a711b601');\n",
       "var x = new MutationObserver(function (mutations, observer) {{\n",
       "        var display = window.getComputedStyle(gd).display;\n",
       "        if (!display || display === 'none') {{\n",
       "            console.log([gd, 'removed!']);\n",
       "            Plotly.purge(gd);\n",
       "            observer.disconnect();\n",
       "        }}\n",
       "}});\n",
       "\n",
       "// Listen for the removal of the full notebook cells\n",
       "var notebookContainer = gd.closest('#notebook-container');\n",
       "if (notebookContainer) {{\n",
       "    x.observe(notebookContainer, {childList: true});\n",
       "}}\n",
       "\n",
       "// Listen for the clearing of the current output cell\n",
       "var outputEl = gd.closest('.output');\n",
       "if (outputEl) {{\n",
       "    x.observe(outputEl, {childList: true});\n",
       "}}\n",
       "\n",
       "                        })                };                });            </script>        </div>"
      ]
     },
     "metadata": {},
     "output_type": "display_data"
    }
   ],
   "source": [
    "ttone.show()"
   ]
  },
  {
   "cell_type": "markdown",
   "id": "daea966f",
   "metadata": {},
   "source": [
    "#### 2021 WAS THE YEAR WITH THE HIGHEST NUMBER OF UNICORNS \n",
    "+ ###### CORRECT\n",
    "+ ###### THE HIGHEST NUMBER OF UNICORNS APPEARS IN THE LAST YEAR "
   ]
  },
  {
   "cell_type": "markdown",
   "id": "8be97272",
   "metadata": {},
   "source": [
    "***\n",
    "### HYPOTHESES III"
   ]
  },
  {
   "cell_type": "markdown",
   "id": "a6adaebb",
   "metadata": {},
   "source": [
    "#### CREATE THE NEW DF THAT WE WANT TO LATTER PLOT WITH THE CITIES WITH MORE UNICORNS"
   ]
  },
  {
   "cell_type": "code",
   "execution_count": 11,
   "id": "8bb09aa2",
   "metadata": {},
   "outputs": [],
   "source": [
    "topcities = list(dict(unicorn[\"City\"].value_counts()[0:10]).keys())\n",
    "unicorn4 = unicorn[unicorn[\"City\"].isin(topcities)]"
   ]
  },
  {
   "cell_type": "markdown",
   "id": "4aef8276",
   "metadata": {},
   "source": [
    "#### CREATE THE TABLE THAT WE WANT TO LATTER PLOT"
   ]
  },
  {
   "cell_type": "code",
   "execution_count": 91,
   "id": "796251b2",
   "metadata": {},
   "outputs": [],
   "source": [
    "best_city = px.histogram(unicorn4, x=\"City\",title=\"TOP 10 CITIES IN THE WORLD WITH MORE UNICORNS\")"
   ]
  },
  {
   "cell_type": "code",
   "execution_count": 92,
   "id": "f2fb55c7",
   "metadata": {
    "scrolled": false
   },
   "outputs": [
    {
     "data": {
      "application/vnd.plotly.v1+json": {
       "config": {
        "plotlyServerURL": "https://plot.ly"
       },
       "data": [
        {
         "alignmentgroup": "True",
         "bingroup": "x",
         "hovertemplate": "City=%{x}<br>count=%{y}<extra></extra>",
         "legendgroup": "",
         "marker": {
          "color": "#636efa",
          "pattern": {
           "shape": ""
          }
         },
         "name": "",
         "offsetgroup": "",
         "orientation": "v",
         "showlegend": false,
         "type": "histogram",
         "x": [
          "Beijing",
          "San Francisco",
          "Beijing",
          "San Francisco",
          "San Francisco",
          "Bengaluru",
          "Beijing",
          "Shenzhen",
          "Shenzhen",
          "London",
          "San Francisco",
          "San Francisco",
          "Shanghai",
          "San Francisco",
          "Beijing",
          "London",
          "San Francisco",
          "Boston",
          "Boston",
          "New York",
          "Beijing",
          "San Francisco",
          "San Francisco",
          "Hangzhou",
          "San Francisco",
          "San Francisco",
          "San Francisco",
          "Beijing",
          "New York",
          "Bengaluru",
          "San Francisco",
          "Shenzhen",
          "San Francisco",
          "San Francisco",
          "Beijing",
          "New York",
          "Beijing",
          "Beijing",
          "San Francisco",
          "London",
          "London",
          "London",
          "San Francisco",
          "London",
          "Shanghai",
          "Shanghai",
          "Bengaluru",
          "Shanghai",
          "New York",
          "London",
          "Boston",
          "Boston",
          "San Francisco",
          "Beijing",
          "Shenzhen",
          "Boston",
          "San Francisco",
          "New York",
          "Beijing",
          "San Francisco",
          "London",
          "San Francisco",
          "San Francisco",
          "Boston",
          "San Francisco",
          "New York",
          "New York",
          "Boston",
          "Shanghai",
          "San Francisco",
          "San Francisco",
          "Shenzhen",
          "San Francisco",
          "San Francisco",
          "New York",
          "San Francisco",
          "Paris",
          "Bengaluru",
          "Beijing",
          "New York",
          "Beijing",
          "Shanghai",
          "Hangzhou",
          "Boston",
          "Beijing",
          "San Francisco",
          "Beijing",
          "Bengaluru",
          "San Francisco",
          "New York",
          "San Francisco",
          "San Francisco",
          "Beijing",
          "London",
          "Boston",
          "Paris",
          "San Francisco",
          "New York",
          "San Francisco",
          "Shanghai",
          "London",
          "London",
          "Hangzhou",
          "New York",
          "London",
          "New York",
          "Shenzhen",
          "New York",
          "San Francisco",
          "San Francisco",
          "Bengaluru",
          "New York",
          "Shanghai",
          "Shanghai",
          "New York",
          "San Francisco",
          "San Francisco",
          "San Francisco",
          "Bengaluru",
          "Bengaluru",
          "Shenzhen",
          "Paris",
          "Beijing",
          "London",
          "Beijing",
          "Beijing",
          "San Francisco",
          "Beijing",
          "London",
          "Hangzhou",
          "San Francisco",
          "San Francisco",
          "San Francisco",
          "Shanghai",
          "Beijing",
          "San Francisco",
          "Bengaluru",
          "Shenzhen",
          "New York",
          "New York",
          "San Francisco",
          "Shenzhen",
          "San Francisco",
          "San Francisco",
          "London",
          "New York",
          "Shanghai",
          "Bengaluru",
          "San Francisco",
          "Shanghai",
          "San Francisco",
          "New York",
          "Shanghai",
          "Beijing",
          "San Francisco",
          "New York",
          "San Francisco",
          "New York",
          "San Francisco",
          "San Francisco",
          "San Francisco",
          "San Francisco",
          "New York",
          "San Francisco",
          "Paris",
          "Beijing",
          "London",
          "Hangzhou",
          "Shanghai",
          "New York",
          "San Francisco",
          "New York",
          "Beijing",
          "San Francisco",
          "Shanghai",
          "Beijing",
          "Shanghai",
          "Hangzhou",
          "Boston",
          "Shanghai",
          "Beijing",
          "Hangzhou",
          "Beijing",
          "Paris",
          "San Francisco",
          "New York",
          "San Francisco",
          "San Francisco",
          "San Francisco",
          "San Francisco",
          "Paris",
          "Shanghai",
          "Shenzhen",
          "Shanghai",
          "San Francisco",
          "New York",
          "Beijing",
          "New York",
          "Beijing",
          "Shenzhen",
          "Paris",
          "New York",
          "Paris",
          "San Francisco",
          "New York",
          "San Francisco",
          "San Francisco",
          "Paris",
          "Shanghai",
          "San Francisco",
          "San Francisco",
          "Hangzhou",
          "New York",
          "San Francisco",
          "New York",
          "Shanghai",
          "San Francisco",
          "New York",
          "San Francisco",
          "San Francisco",
          "Boston",
          "San Francisco",
          "Boston",
          "San Francisco",
          "New York",
          "San Francisco",
          "Beijing",
          "Shanghai",
          "New York",
          "San Francisco",
          "Boston",
          "Boston",
          "New York",
          "New York",
          "New York",
          "San Francisco",
          "Beijing",
          "Beijing",
          "San Francisco",
          "Beijing",
          "Shanghai",
          "San Francisco",
          "Shanghai",
          "Paris",
          "San Francisco",
          "San Francisco",
          "New York",
          "London",
          "San Francisco",
          "New York",
          "Shanghai",
          "Beijing",
          "New York",
          "Beijing",
          "San Francisco",
          "Shanghai",
          "Hangzhou",
          "San Francisco",
          "Bengaluru",
          "Shanghai",
          "Hangzhou",
          "Shenzhen",
          "Beijing",
          "London",
          "Beijing",
          "Beijing",
          "Beijing",
          "Beijing",
          "Shanghai",
          "Shanghai",
          "Shenzhen",
          "Beijing",
          "Beijing",
          "Shanghai",
          "Shanghai",
          "Shenzhen",
          "Beijing",
          "New York",
          "San Francisco",
          "Hangzhou",
          "Shenzhen",
          "Beijing",
          "Beijing",
          "New York",
          "New York",
          "Hangzhou",
          "Beijing",
          "Shanghai",
          "Beijing",
          "Beijing",
          "San Francisco",
          "Beijing",
          "Shenzhen",
          "Shanghai",
          "New York",
          "Beijing",
          "New York",
          "Paris",
          "Beijing",
          "Bengaluru",
          "San Francisco",
          "New York",
          "New York",
          "San Francisco",
          "San Francisco",
          "New York",
          "London",
          "Beijing",
          "San Francisco",
          "Bengaluru",
          "London",
          "San Francisco",
          "San Francisco",
          "New York",
          "Paris",
          "New York",
          "San Francisco",
          "San Francisco",
          "San Francisco",
          "Bengaluru",
          "New York",
          "San Francisco",
          "London",
          "New York",
          "San Francisco",
          "San Francisco",
          "Paris",
          "San Francisco",
          "New York",
          "San Francisco",
          "New York"
         ],
         "xaxis": "x",
         "yaxis": "y"
        }
       ],
       "layout": {
        "barmode": "relative",
        "legend": {
         "tracegroupgap": 0
        },
        "template": {
         "data": {
          "bar": [
           {
            "error_x": {
             "color": "#2a3f5f"
            },
            "error_y": {
             "color": "#2a3f5f"
            },
            "marker": {
             "line": {
              "color": "#E5ECF6",
              "width": 0.5
             },
             "pattern": {
              "fillmode": "overlay",
              "size": 10,
              "solidity": 0.2
             }
            },
            "type": "bar"
           }
          ],
          "barpolar": [
           {
            "marker": {
             "line": {
              "color": "#E5ECF6",
              "width": 0.5
             },
             "pattern": {
              "fillmode": "overlay",
              "size": 10,
              "solidity": 0.2
             }
            },
            "type": "barpolar"
           }
          ],
          "carpet": [
           {
            "aaxis": {
             "endlinecolor": "#2a3f5f",
             "gridcolor": "white",
             "linecolor": "white",
             "minorgridcolor": "white",
             "startlinecolor": "#2a3f5f"
            },
            "baxis": {
             "endlinecolor": "#2a3f5f",
             "gridcolor": "white",
             "linecolor": "white",
             "minorgridcolor": "white",
             "startlinecolor": "#2a3f5f"
            },
            "type": "carpet"
           }
          ],
          "choropleth": [
           {
            "colorbar": {
             "outlinewidth": 0,
             "ticks": ""
            },
            "type": "choropleth"
           }
          ],
          "contour": [
           {
            "colorbar": {
             "outlinewidth": 0,
             "ticks": ""
            },
            "colorscale": [
             [
              0,
              "#0d0887"
             ],
             [
              0.1111111111111111,
              "#46039f"
             ],
             [
              0.2222222222222222,
              "#7201a8"
             ],
             [
              0.3333333333333333,
              "#9c179e"
             ],
             [
              0.4444444444444444,
              "#bd3786"
             ],
             [
              0.5555555555555556,
              "#d8576b"
             ],
             [
              0.6666666666666666,
              "#ed7953"
             ],
             [
              0.7777777777777778,
              "#fb9f3a"
             ],
             [
              0.8888888888888888,
              "#fdca26"
             ],
             [
              1,
              "#f0f921"
             ]
            ],
            "type": "contour"
           }
          ],
          "contourcarpet": [
           {
            "colorbar": {
             "outlinewidth": 0,
             "ticks": ""
            },
            "type": "contourcarpet"
           }
          ],
          "heatmap": [
           {
            "colorbar": {
             "outlinewidth": 0,
             "ticks": ""
            },
            "colorscale": [
             [
              0,
              "#0d0887"
             ],
             [
              0.1111111111111111,
              "#46039f"
             ],
             [
              0.2222222222222222,
              "#7201a8"
             ],
             [
              0.3333333333333333,
              "#9c179e"
             ],
             [
              0.4444444444444444,
              "#bd3786"
             ],
             [
              0.5555555555555556,
              "#d8576b"
             ],
             [
              0.6666666666666666,
              "#ed7953"
             ],
             [
              0.7777777777777778,
              "#fb9f3a"
             ],
             [
              0.8888888888888888,
              "#fdca26"
             ],
             [
              1,
              "#f0f921"
             ]
            ],
            "type": "heatmap"
           }
          ],
          "heatmapgl": [
           {
            "colorbar": {
             "outlinewidth": 0,
             "ticks": ""
            },
            "colorscale": [
             [
              0,
              "#0d0887"
             ],
             [
              0.1111111111111111,
              "#46039f"
             ],
             [
              0.2222222222222222,
              "#7201a8"
             ],
             [
              0.3333333333333333,
              "#9c179e"
             ],
             [
              0.4444444444444444,
              "#bd3786"
             ],
             [
              0.5555555555555556,
              "#d8576b"
             ],
             [
              0.6666666666666666,
              "#ed7953"
             ],
             [
              0.7777777777777778,
              "#fb9f3a"
             ],
             [
              0.8888888888888888,
              "#fdca26"
             ],
             [
              1,
              "#f0f921"
             ]
            ],
            "type": "heatmapgl"
           }
          ],
          "histogram": [
           {
            "marker": {
             "pattern": {
              "fillmode": "overlay",
              "size": 10,
              "solidity": 0.2
             }
            },
            "type": "histogram"
           }
          ],
          "histogram2d": [
           {
            "colorbar": {
             "outlinewidth": 0,
             "ticks": ""
            },
            "colorscale": [
             [
              0,
              "#0d0887"
             ],
             [
              0.1111111111111111,
              "#46039f"
             ],
             [
              0.2222222222222222,
              "#7201a8"
             ],
             [
              0.3333333333333333,
              "#9c179e"
             ],
             [
              0.4444444444444444,
              "#bd3786"
             ],
             [
              0.5555555555555556,
              "#d8576b"
             ],
             [
              0.6666666666666666,
              "#ed7953"
             ],
             [
              0.7777777777777778,
              "#fb9f3a"
             ],
             [
              0.8888888888888888,
              "#fdca26"
             ],
             [
              1,
              "#f0f921"
             ]
            ],
            "type": "histogram2d"
           }
          ],
          "histogram2dcontour": [
           {
            "colorbar": {
             "outlinewidth": 0,
             "ticks": ""
            },
            "colorscale": [
             [
              0,
              "#0d0887"
             ],
             [
              0.1111111111111111,
              "#46039f"
             ],
             [
              0.2222222222222222,
              "#7201a8"
             ],
             [
              0.3333333333333333,
              "#9c179e"
             ],
             [
              0.4444444444444444,
              "#bd3786"
             ],
             [
              0.5555555555555556,
              "#d8576b"
             ],
             [
              0.6666666666666666,
              "#ed7953"
             ],
             [
              0.7777777777777778,
              "#fb9f3a"
             ],
             [
              0.8888888888888888,
              "#fdca26"
             ],
             [
              1,
              "#f0f921"
             ]
            ],
            "type": "histogram2dcontour"
           }
          ],
          "mesh3d": [
           {
            "colorbar": {
             "outlinewidth": 0,
             "ticks": ""
            },
            "type": "mesh3d"
           }
          ],
          "parcoords": [
           {
            "line": {
             "colorbar": {
              "outlinewidth": 0,
              "ticks": ""
             }
            },
            "type": "parcoords"
           }
          ],
          "pie": [
           {
            "automargin": true,
            "type": "pie"
           }
          ],
          "scatter": [
           {
            "marker": {
             "colorbar": {
              "outlinewidth": 0,
              "ticks": ""
             }
            },
            "type": "scatter"
           }
          ],
          "scatter3d": [
           {
            "line": {
             "colorbar": {
              "outlinewidth": 0,
              "ticks": ""
             }
            },
            "marker": {
             "colorbar": {
              "outlinewidth": 0,
              "ticks": ""
             }
            },
            "type": "scatter3d"
           }
          ],
          "scattercarpet": [
           {
            "marker": {
             "colorbar": {
              "outlinewidth": 0,
              "ticks": ""
             }
            },
            "type": "scattercarpet"
           }
          ],
          "scattergeo": [
           {
            "marker": {
             "colorbar": {
              "outlinewidth": 0,
              "ticks": ""
             }
            },
            "type": "scattergeo"
           }
          ],
          "scattergl": [
           {
            "marker": {
             "colorbar": {
              "outlinewidth": 0,
              "ticks": ""
             }
            },
            "type": "scattergl"
           }
          ],
          "scattermapbox": [
           {
            "marker": {
             "colorbar": {
              "outlinewidth": 0,
              "ticks": ""
             }
            },
            "type": "scattermapbox"
           }
          ],
          "scatterpolar": [
           {
            "marker": {
             "colorbar": {
              "outlinewidth": 0,
              "ticks": ""
             }
            },
            "type": "scatterpolar"
           }
          ],
          "scatterpolargl": [
           {
            "marker": {
             "colorbar": {
              "outlinewidth": 0,
              "ticks": ""
             }
            },
            "type": "scatterpolargl"
           }
          ],
          "scatterternary": [
           {
            "marker": {
             "colorbar": {
              "outlinewidth": 0,
              "ticks": ""
             }
            },
            "type": "scatterternary"
           }
          ],
          "surface": [
           {
            "colorbar": {
             "outlinewidth": 0,
             "ticks": ""
            },
            "colorscale": [
             [
              0,
              "#0d0887"
             ],
             [
              0.1111111111111111,
              "#46039f"
             ],
             [
              0.2222222222222222,
              "#7201a8"
             ],
             [
              0.3333333333333333,
              "#9c179e"
             ],
             [
              0.4444444444444444,
              "#bd3786"
             ],
             [
              0.5555555555555556,
              "#d8576b"
             ],
             [
              0.6666666666666666,
              "#ed7953"
             ],
             [
              0.7777777777777778,
              "#fb9f3a"
             ],
             [
              0.8888888888888888,
              "#fdca26"
             ],
             [
              1,
              "#f0f921"
             ]
            ],
            "type": "surface"
           }
          ],
          "table": [
           {
            "cells": {
             "fill": {
              "color": "#EBF0F8"
             },
             "line": {
              "color": "white"
             }
            },
            "header": {
             "fill": {
              "color": "#C8D4E3"
             },
             "line": {
              "color": "white"
             }
            },
            "type": "table"
           }
          ]
         },
         "layout": {
          "annotationdefaults": {
           "arrowcolor": "#2a3f5f",
           "arrowhead": 0,
           "arrowwidth": 1
          },
          "autotypenumbers": "strict",
          "coloraxis": {
           "colorbar": {
            "outlinewidth": 0,
            "ticks": ""
           }
          },
          "colorscale": {
           "diverging": [
            [
             0,
             "#8e0152"
            ],
            [
             0.1,
             "#c51b7d"
            ],
            [
             0.2,
             "#de77ae"
            ],
            [
             0.3,
             "#f1b6da"
            ],
            [
             0.4,
             "#fde0ef"
            ],
            [
             0.5,
             "#f7f7f7"
            ],
            [
             0.6,
             "#e6f5d0"
            ],
            [
             0.7,
             "#b8e186"
            ],
            [
             0.8,
             "#7fbc41"
            ],
            [
             0.9,
             "#4d9221"
            ],
            [
             1,
             "#276419"
            ]
           ],
           "sequential": [
            [
             0,
             "#0d0887"
            ],
            [
             0.1111111111111111,
             "#46039f"
            ],
            [
             0.2222222222222222,
             "#7201a8"
            ],
            [
             0.3333333333333333,
             "#9c179e"
            ],
            [
             0.4444444444444444,
             "#bd3786"
            ],
            [
             0.5555555555555556,
             "#d8576b"
            ],
            [
             0.6666666666666666,
             "#ed7953"
            ],
            [
             0.7777777777777778,
             "#fb9f3a"
            ],
            [
             0.8888888888888888,
             "#fdca26"
            ],
            [
             1,
             "#f0f921"
            ]
           ],
           "sequentialminus": [
            [
             0,
             "#0d0887"
            ],
            [
             0.1111111111111111,
             "#46039f"
            ],
            [
             0.2222222222222222,
             "#7201a8"
            ],
            [
             0.3333333333333333,
             "#9c179e"
            ],
            [
             0.4444444444444444,
             "#bd3786"
            ],
            [
             0.5555555555555556,
             "#d8576b"
            ],
            [
             0.6666666666666666,
             "#ed7953"
            ],
            [
             0.7777777777777778,
             "#fb9f3a"
            ],
            [
             0.8888888888888888,
             "#fdca26"
            ],
            [
             1,
             "#f0f921"
            ]
           ]
          },
          "colorway": [
           "#636efa",
           "#EF553B",
           "#00cc96",
           "#ab63fa",
           "#FFA15A",
           "#19d3f3",
           "#FF6692",
           "#B6E880",
           "#FF97FF",
           "#FECB52"
          ],
          "font": {
           "color": "#2a3f5f"
          },
          "geo": {
           "bgcolor": "white",
           "lakecolor": "white",
           "landcolor": "#E5ECF6",
           "showlakes": true,
           "showland": true,
           "subunitcolor": "white"
          },
          "hoverlabel": {
           "align": "left"
          },
          "hovermode": "closest",
          "mapbox": {
           "style": "light"
          },
          "paper_bgcolor": "white",
          "plot_bgcolor": "#E5ECF6",
          "polar": {
           "angularaxis": {
            "gridcolor": "white",
            "linecolor": "white",
            "ticks": ""
           },
           "bgcolor": "#E5ECF6",
           "radialaxis": {
            "gridcolor": "white",
            "linecolor": "white",
            "ticks": ""
           }
          },
          "scene": {
           "xaxis": {
            "backgroundcolor": "#E5ECF6",
            "gridcolor": "white",
            "gridwidth": 2,
            "linecolor": "white",
            "showbackground": true,
            "ticks": "",
            "zerolinecolor": "white"
           },
           "yaxis": {
            "backgroundcolor": "#E5ECF6",
            "gridcolor": "white",
            "gridwidth": 2,
            "linecolor": "white",
            "showbackground": true,
            "ticks": "",
            "zerolinecolor": "white"
           },
           "zaxis": {
            "backgroundcolor": "#E5ECF6",
            "gridcolor": "white",
            "gridwidth": 2,
            "linecolor": "white",
            "showbackground": true,
            "ticks": "",
            "zerolinecolor": "white"
           }
          },
          "shapedefaults": {
           "line": {
            "color": "#2a3f5f"
           }
          },
          "ternary": {
           "aaxis": {
            "gridcolor": "white",
            "linecolor": "white",
            "ticks": ""
           },
           "baxis": {
            "gridcolor": "white",
            "linecolor": "white",
            "ticks": ""
           },
           "bgcolor": "#E5ECF6",
           "caxis": {
            "gridcolor": "white",
            "linecolor": "white",
            "ticks": ""
           }
          },
          "title": {
           "x": 0.05
          },
          "xaxis": {
           "automargin": true,
           "gridcolor": "white",
           "linecolor": "white",
           "ticks": "",
           "title": {
            "standoff": 15
           },
           "zerolinecolor": "white",
           "zerolinewidth": 2
          },
          "yaxis": {
           "automargin": true,
           "gridcolor": "white",
           "linecolor": "white",
           "ticks": "",
           "title": {
            "standoff": 15
           },
           "zerolinecolor": "white",
           "zerolinewidth": 2
          }
         }
        },
        "title": {
         "text": "TOP 10 CITIES IN THE WORLD WITH MORE UNICORNS"
        },
        "xaxis": {
         "anchor": "y",
         "domain": [
          0,
          1
         ],
         "title": {
          "text": "City"
         }
        },
        "yaxis": {
         "anchor": "x",
         "domain": [
          0,
          1
         ],
         "title": {
          "text": "count"
         }
        }
       }
      },
      "text/html": [
       "<div>                            <div id=\"eddde2a6-e6dc-4a8d-9811-bb8ac90b7285\" class=\"plotly-graph-div\" style=\"height:525px; width:100%;\"></div>            <script type=\"text/javascript\">                require([\"plotly\"], function(Plotly) {                    window.PLOTLYENV=window.PLOTLYENV || {};                                    if (document.getElementById(\"eddde2a6-e6dc-4a8d-9811-bb8ac90b7285\")) {                    Plotly.newPlot(                        \"eddde2a6-e6dc-4a8d-9811-bb8ac90b7285\",                        [{\"alignmentgroup\":\"True\",\"bingroup\":\"x\",\"hovertemplate\":\"City=%{x}<br>count=%{y}<extra></extra>\",\"legendgroup\":\"\",\"marker\":{\"color\":\"#636efa\",\"pattern\":{\"shape\":\"\"}},\"name\":\"\",\"offsetgroup\":\"\",\"orientation\":\"v\",\"showlegend\":false,\"type\":\"histogram\",\"x\":[\"Beijing\",\"San Francisco\",\"Beijing\",\"San Francisco\",\"San Francisco\",\"Bengaluru\",\"Beijing\",\"Shenzhen\",\"Shenzhen\",\"London\",\"San Francisco\",\"San Francisco\",\"Shanghai\",\"San Francisco\",\"Beijing\",\"London\",\"San Francisco\",\"Boston\",\"Boston\",\"New York\",\"Beijing\",\"San Francisco\",\"San Francisco\",\"Hangzhou\",\"San Francisco\",\"San Francisco\",\"San Francisco\",\"Beijing\",\"New York\",\"Bengaluru\",\"San Francisco\",\"Shenzhen\",\"San Francisco\",\"San Francisco\",\"Beijing\",\"New York\",\"Beijing\",\"Beijing\",\"San Francisco\",\"London\",\"London\",\"London\",\"San Francisco\",\"London\",\"Shanghai\",\"Shanghai\",\"Bengaluru\",\"Shanghai\",\"New York\",\"London\",\"Boston\",\"Boston\",\"San Francisco\",\"Beijing\",\"Shenzhen\",\"Boston\",\"San Francisco\",\"New York\",\"Beijing\",\"San Francisco\",\"London\",\"San Francisco\",\"San Francisco\",\"Boston\",\"San Francisco\",\"New York\",\"New York\",\"Boston\",\"Shanghai\",\"San Francisco\",\"San Francisco\",\"Shenzhen\",\"San Francisco\",\"San Francisco\",\"New York\",\"San Francisco\",\"Paris\",\"Bengaluru\",\"Beijing\",\"New York\",\"Beijing\",\"Shanghai\",\"Hangzhou\",\"Boston\",\"Beijing\",\"San Francisco\",\"Beijing\",\"Bengaluru\",\"San Francisco\",\"New York\",\"San Francisco\",\"San Francisco\",\"Beijing\",\"London\",\"Boston\",\"Paris\",\"San Francisco\",\"New York\",\"San Francisco\",\"Shanghai\",\"London\",\"London\",\"Hangzhou\",\"New York\",\"London\",\"New York\",\"Shenzhen\",\"New York\",\"San Francisco\",\"San Francisco\",\"Bengaluru\",\"New York\",\"Shanghai\",\"Shanghai\",\"New York\",\"San Francisco\",\"San Francisco\",\"San Francisco\",\"Bengaluru\",\"Bengaluru\",\"Shenzhen\",\"Paris\",\"Beijing\",\"London\",\"Beijing\",\"Beijing\",\"San Francisco\",\"Beijing\",\"London\",\"Hangzhou\",\"San Francisco\",\"San Francisco\",\"San Francisco\",\"Shanghai\",\"Beijing\",\"San Francisco\",\"Bengaluru\",\"Shenzhen\",\"New York\",\"New York\",\"San Francisco\",\"Shenzhen\",\"San Francisco\",\"San Francisco\",\"London\",\"New York\",\"Shanghai\",\"Bengaluru\",\"San Francisco\",\"Shanghai\",\"San Francisco\",\"New York\",\"Shanghai\",\"Beijing\",\"San Francisco\",\"New York\",\"San Francisco\",\"New York\",\"San Francisco\",\"San Francisco\",\"San Francisco\",\"San Francisco\",\"New York\",\"San Francisco\",\"Paris\",\"Beijing\",\"London\",\"Hangzhou\",\"Shanghai\",\"New York\",\"San Francisco\",\"New York\",\"Beijing\",\"San Francisco\",\"Shanghai\",\"Beijing\",\"Shanghai\",\"Hangzhou\",\"Boston\",\"Shanghai\",\"Beijing\",\"Hangzhou\",\"Beijing\",\"Paris\",\"San Francisco\",\"New York\",\"San Francisco\",\"San Francisco\",\"San Francisco\",\"San Francisco\",\"Paris\",\"Shanghai\",\"Shenzhen\",\"Shanghai\",\"San Francisco\",\"New York\",\"Beijing\",\"New York\",\"Beijing\",\"Shenzhen\",\"Paris\",\"New York\",\"Paris\",\"San Francisco\",\"New York\",\"San Francisco\",\"San Francisco\",\"Paris\",\"Shanghai\",\"San Francisco\",\"San Francisco\",\"Hangzhou\",\"New York\",\"San Francisco\",\"New York\",\"Shanghai\",\"San Francisco\",\"New York\",\"San Francisco\",\"San Francisco\",\"Boston\",\"San Francisco\",\"Boston\",\"San Francisco\",\"New York\",\"San Francisco\",\"Beijing\",\"Shanghai\",\"New York\",\"San Francisco\",\"Boston\",\"Boston\",\"New York\",\"New York\",\"New York\",\"San Francisco\",\"Beijing\",\"Beijing\",\"San Francisco\",\"Beijing\",\"Shanghai\",\"San Francisco\",\"Shanghai\",\"Paris\",\"San Francisco\",\"San Francisco\",\"New York\",\"London\",\"San Francisco\",\"New York\",\"Shanghai\",\"Beijing\",\"New York\",\"Beijing\",\"San Francisco\",\"Shanghai\",\"Hangzhou\",\"San Francisco\",\"Bengaluru\",\"Shanghai\",\"Hangzhou\",\"Shenzhen\",\"Beijing\",\"London\",\"Beijing\",\"Beijing\",\"Beijing\",\"Beijing\",\"Shanghai\",\"Shanghai\",\"Shenzhen\",\"Beijing\",\"Beijing\",\"Shanghai\",\"Shanghai\",\"Shenzhen\",\"Beijing\",\"New York\",\"San Francisco\",\"Hangzhou\",\"Shenzhen\",\"Beijing\",\"Beijing\",\"New York\",\"New York\",\"Hangzhou\",\"Beijing\",\"Shanghai\",\"Beijing\",\"Beijing\",\"San Francisco\",\"Beijing\",\"Shenzhen\",\"Shanghai\",\"New York\",\"Beijing\",\"New York\",\"Paris\",\"Beijing\",\"Bengaluru\",\"San Francisco\",\"New York\",\"New York\",\"San Francisco\",\"San Francisco\",\"New York\",\"London\",\"Beijing\",\"San Francisco\",\"Bengaluru\",\"London\",\"San Francisco\",\"San Francisco\",\"New York\",\"Paris\",\"New York\",\"San Francisco\",\"San Francisco\",\"San Francisco\",\"Bengaluru\",\"New York\",\"San Francisco\",\"London\",\"New York\",\"San Francisco\",\"San Francisco\",\"Paris\",\"San Francisco\",\"New York\",\"San Francisco\",\"New York\"],\"xaxis\":\"x\",\"yaxis\":\"y\"}],                        {\"barmode\":\"relative\",\"legend\":{\"tracegroupgap\":0},\"template\":{\"data\":{\"bar\":[{\"error_x\":{\"color\":\"#2a3f5f\"},\"error_y\":{\"color\":\"#2a3f5f\"},\"marker\":{\"line\":{\"color\":\"#E5ECF6\",\"width\":0.5},\"pattern\":{\"fillmode\":\"overlay\",\"size\":10,\"solidity\":0.2}},\"type\":\"bar\"}],\"barpolar\":[{\"marker\":{\"line\":{\"color\":\"#E5ECF6\",\"width\":0.5},\"pattern\":{\"fillmode\":\"overlay\",\"size\":10,\"solidity\":0.2}},\"type\":\"barpolar\"}],\"carpet\":[{\"aaxis\":{\"endlinecolor\":\"#2a3f5f\",\"gridcolor\":\"white\",\"linecolor\":\"white\",\"minorgridcolor\":\"white\",\"startlinecolor\":\"#2a3f5f\"},\"baxis\":{\"endlinecolor\":\"#2a3f5f\",\"gridcolor\":\"white\",\"linecolor\":\"white\",\"minorgridcolor\":\"white\",\"startlinecolor\":\"#2a3f5f\"},\"type\":\"carpet\"}],\"choropleth\":[{\"colorbar\":{\"outlinewidth\":0,\"ticks\":\"\"},\"type\":\"choropleth\"}],\"contour\":[{\"colorbar\":{\"outlinewidth\":0,\"ticks\":\"\"},\"colorscale\":[[0.0,\"#0d0887\"],[0.1111111111111111,\"#46039f\"],[0.2222222222222222,\"#7201a8\"],[0.3333333333333333,\"#9c179e\"],[0.4444444444444444,\"#bd3786\"],[0.5555555555555556,\"#d8576b\"],[0.6666666666666666,\"#ed7953\"],[0.7777777777777778,\"#fb9f3a\"],[0.8888888888888888,\"#fdca26\"],[1.0,\"#f0f921\"]],\"type\":\"contour\"}],\"contourcarpet\":[{\"colorbar\":{\"outlinewidth\":0,\"ticks\":\"\"},\"type\":\"contourcarpet\"}],\"heatmap\":[{\"colorbar\":{\"outlinewidth\":0,\"ticks\":\"\"},\"colorscale\":[[0.0,\"#0d0887\"],[0.1111111111111111,\"#46039f\"],[0.2222222222222222,\"#7201a8\"],[0.3333333333333333,\"#9c179e\"],[0.4444444444444444,\"#bd3786\"],[0.5555555555555556,\"#d8576b\"],[0.6666666666666666,\"#ed7953\"],[0.7777777777777778,\"#fb9f3a\"],[0.8888888888888888,\"#fdca26\"],[1.0,\"#f0f921\"]],\"type\":\"heatmap\"}],\"heatmapgl\":[{\"colorbar\":{\"outlinewidth\":0,\"ticks\":\"\"},\"colorscale\":[[0.0,\"#0d0887\"],[0.1111111111111111,\"#46039f\"],[0.2222222222222222,\"#7201a8\"],[0.3333333333333333,\"#9c179e\"],[0.4444444444444444,\"#bd3786\"],[0.5555555555555556,\"#d8576b\"],[0.6666666666666666,\"#ed7953\"],[0.7777777777777778,\"#fb9f3a\"],[0.8888888888888888,\"#fdca26\"],[1.0,\"#f0f921\"]],\"type\":\"heatmapgl\"}],\"histogram\":[{\"marker\":{\"pattern\":{\"fillmode\":\"overlay\",\"size\":10,\"solidity\":0.2}},\"type\":\"histogram\"}],\"histogram2d\":[{\"colorbar\":{\"outlinewidth\":0,\"ticks\":\"\"},\"colorscale\":[[0.0,\"#0d0887\"],[0.1111111111111111,\"#46039f\"],[0.2222222222222222,\"#7201a8\"],[0.3333333333333333,\"#9c179e\"],[0.4444444444444444,\"#bd3786\"],[0.5555555555555556,\"#d8576b\"],[0.6666666666666666,\"#ed7953\"],[0.7777777777777778,\"#fb9f3a\"],[0.8888888888888888,\"#fdca26\"],[1.0,\"#f0f921\"]],\"type\":\"histogram2d\"}],\"histogram2dcontour\":[{\"colorbar\":{\"outlinewidth\":0,\"ticks\":\"\"},\"colorscale\":[[0.0,\"#0d0887\"],[0.1111111111111111,\"#46039f\"],[0.2222222222222222,\"#7201a8\"],[0.3333333333333333,\"#9c179e\"],[0.4444444444444444,\"#bd3786\"],[0.5555555555555556,\"#d8576b\"],[0.6666666666666666,\"#ed7953\"],[0.7777777777777778,\"#fb9f3a\"],[0.8888888888888888,\"#fdca26\"],[1.0,\"#f0f921\"]],\"type\":\"histogram2dcontour\"}],\"mesh3d\":[{\"colorbar\":{\"outlinewidth\":0,\"ticks\":\"\"},\"type\":\"mesh3d\"}],\"parcoords\":[{\"line\":{\"colorbar\":{\"outlinewidth\":0,\"ticks\":\"\"}},\"type\":\"parcoords\"}],\"pie\":[{\"automargin\":true,\"type\":\"pie\"}],\"scatter\":[{\"marker\":{\"colorbar\":{\"outlinewidth\":0,\"ticks\":\"\"}},\"type\":\"scatter\"}],\"scatter3d\":[{\"line\":{\"colorbar\":{\"outlinewidth\":0,\"ticks\":\"\"}},\"marker\":{\"colorbar\":{\"outlinewidth\":0,\"ticks\":\"\"}},\"type\":\"scatter3d\"}],\"scattercarpet\":[{\"marker\":{\"colorbar\":{\"outlinewidth\":0,\"ticks\":\"\"}},\"type\":\"scattercarpet\"}],\"scattergeo\":[{\"marker\":{\"colorbar\":{\"outlinewidth\":0,\"ticks\":\"\"}},\"type\":\"scattergeo\"}],\"scattergl\":[{\"marker\":{\"colorbar\":{\"outlinewidth\":0,\"ticks\":\"\"}},\"type\":\"scattergl\"}],\"scattermapbox\":[{\"marker\":{\"colorbar\":{\"outlinewidth\":0,\"ticks\":\"\"}},\"type\":\"scattermapbox\"}],\"scatterpolar\":[{\"marker\":{\"colorbar\":{\"outlinewidth\":0,\"ticks\":\"\"}},\"type\":\"scatterpolar\"}],\"scatterpolargl\":[{\"marker\":{\"colorbar\":{\"outlinewidth\":0,\"ticks\":\"\"}},\"type\":\"scatterpolargl\"}],\"scatterternary\":[{\"marker\":{\"colorbar\":{\"outlinewidth\":0,\"ticks\":\"\"}},\"type\":\"scatterternary\"}],\"surface\":[{\"colorbar\":{\"outlinewidth\":0,\"ticks\":\"\"},\"colorscale\":[[0.0,\"#0d0887\"],[0.1111111111111111,\"#46039f\"],[0.2222222222222222,\"#7201a8\"],[0.3333333333333333,\"#9c179e\"],[0.4444444444444444,\"#bd3786\"],[0.5555555555555556,\"#d8576b\"],[0.6666666666666666,\"#ed7953\"],[0.7777777777777778,\"#fb9f3a\"],[0.8888888888888888,\"#fdca26\"],[1.0,\"#f0f921\"]],\"type\":\"surface\"}],\"table\":[{\"cells\":{\"fill\":{\"color\":\"#EBF0F8\"},\"line\":{\"color\":\"white\"}},\"header\":{\"fill\":{\"color\":\"#C8D4E3\"},\"line\":{\"color\":\"white\"}},\"type\":\"table\"}]},\"layout\":{\"annotationdefaults\":{\"arrowcolor\":\"#2a3f5f\",\"arrowhead\":0,\"arrowwidth\":1},\"autotypenumbers\":\"strict\",\"coloraxis\":{\"colorbar\":{\"outlinewidth\":0,\"ticks\":\"\"}},\"colorscale\":{\"diverging\":[[0,\"#8e0152\"],[0.1,\"#c51b7d\"],[0.2,\"#de77ae\"],[0.3,\"#f1b6da\"],[0.4,\"#fde0ef\"],[0.5,\"#f7f7f7\"],[0.6,\"#e6f5d0\"],[0.7,\"#b8e186\"],[0.8,\"#7fbc41\"],[0.9,\"#4d9221\"],[1,\"#276419\"]],\"sequential\":[[0.0,\"#0d0887\"],[0.1111111111111111,\"#46039f\"],[0.2222222222222222,\"#7201a8\"],[0.3333333333333333,\"#9c179e\"],[0.4444444444444444,\"#bd3786\"],[0.5555555555555556,\"#d8576b\"],[0.6666666666666666,\"#ed7953\"],[0.7777777777777778,\"#fb9f3a\"],[0.8888888888888888,\"#fdca26\"],[1.0,\"#f0f921\"]],\"sequentialminus\":[[0.0,\"#0d0887\"],[0.1111111111111111,\"#46039f\"],[0.2222222222222222,\"#7201a8\"],[0.3333333333333333,\"#9c179e\"],[0.4444444444444444,\"#bd3786\"],[0.5555555555555556,\"#d8576b\"],[0.6666666666666666,\"#ed7953\"],[0.7777777777777778,\"#fb9f3a\"],[0.8888888888888888,\"#fdca26\"],[1.0,\"#f0f921\"]]},\"colorway\":[\"#636efa\",\"#EF553B\",\"#00cc96\",\"#ab63fa\",\"#FFA15A\",\"#19d3f3\",\"#FF6692\",\"#B6E880\",\"#FF97FF\",\"#FECB52\"],\"font\":{\"color\":\"#2a3f5f\"},\"geo\":{\"bgcolor\":\"white\",\"lakecolor\":\"white\",\"landcolor\":\"#E5ECF6\",\"showlakes\":true,\"showland\":true,\"subunitcolor\":\"white\"},\"hoverlabel\":{\"align\":\"left\"},\"hovermode\":\"closest\",\"mapbox\":{\"style\":\"light\"},\"paper_bgcolor\":\"white\",\"plot_bgcolor\":\"#E5ECF6\",\"polar\":{\"angularaxis\":{\"gridcolor\":\"white\",\"linecolor\":\"white\",\"ticks\":\"\"},\"bgcolor\":\"#E5ECF6\",\"radialaxis\":{\"gridcolor\":\"white\",\"linecolor\":\"white\",\"ticks\":\"\"}},\"scene\":{\"xaxis\":{\"backgroundcolor\":\"#E5ECF6\",\"gridcolor\":\"white\",\"gridwidth\":2,\"linecolor\":\"white\",\"showbackground\":true,\"ticks\":\"\",\"zerolinecolor\":\"white\"},\"yaxis\":{\"backgroundcolor\":\"#E5ECF6\",\"gridcolor\":\"white\",\"gridwidth\":2,\"linecolor\":\"white\",\"showbackground\":true,\"ticks\":\"\",\"zerolinecolor\":\"white\"},\"zaxis\":{\"backgroundcolor\":\"#E5ECF6\",\"gridcolor\":\"white\",\"gridwidth\":2,\"linecolor\":\"white\",\"showbackground\":true,\"ticks\":\"\",\"zerolinecolor\":\"white\"}},\"shapedefaults\":{\"line\":{\"color\":\"#2a3f5f\"}},\"ternary\":{\"aaxis\":{\"gridcolor\":\"white\",\"linecolor\":\"white\",\"ticks\":\"\"},\"baxis\":{\"gridcolor\":\"white\",\"linecolor\":\"white\",\"ticks\":\"\"},\"bgcolor\":\"#E5ECF6\",\"caxis\":{\"gridcolor\":\"white\",\"linecolor\":\"white\",\"ticks\":\"\"}},\"title\":{\"x\":0.05},\"xaxis\":{\"automargin\":true,\"gridcolor\":\"white\",\"linecolor\":\"white\",\"ticks\":\"\",\"title\":{\"standoff\":15},\"zerolinecolor\":\"white\",\"zerolinewidth\":2},\"yaxis\":{\"automargin\":true,\"gridcolor\":\"white\",\"linecolor\":\"white\",\"ticks\":\"\",\"title\":{\"standoff\":15},\"zerolinecolor\":\"white\",\"zerolinewidth\":2}}},\"title\":{\"text\":\"TOP 10 CITIES IN THE WORLD WITH MORE UNICORNS\"},\"xaxis\":{\"anchor\":\"y\",\"domain\":[0.0,1.0],\"title\":{\"text\":\"City\"}},\"yaxis\":{\"anchor\":\"x\",\"domain\":[0.0,1.0],\"title\":{\"text\":\"count\"}}},                        {\"responsive\": true}                    ).then(function(){\n",
       "                            \n",
       "var gd = document.getElementById('eddde2a6-e6dc-4a8d-9811-bb8ac90b7285');\n",
       "var x = new MutationObserver(function (mutations, observer) {{\n",
       "        var display = window.getComputedStyle(gd).display;\n",
       "        if (!display || display === 'none') {{\n",
       "            console.log([gd, 'removed!']);\n",
       "            Plotly.purge(gd);\n",
       "            observer.disconnect();\n",
       "        }}\n",
       "}});\n",
       "\n",
       "// Listen for the removal of the full notebook cells\n",
       "var notebookContainer = gd.closest('#notebook-container');\n",
       "if (notebookContainer) {{\n",
       "    x.observe(notebookContainer, {childList: true});\n",
       "}}\n",
       "\n",
       "// Listen for the clearing of the current output cell\n",
       "var outputEl = gd.closest('.output');\n",
       "if (outputEl) {{\n",
       "    x.observe(outputEl, {childList: true});\n",
       "}}\n",
       "\n",
       "                        })                };                });            </script>        </div>"
      ]
     },
     "metadata": {},
     "output_type": "display_data"
    }
   ],
   "source": [
    "best_city.show()"
   ]
  },
  {
   "cell_type": "markdown",
   "id": "59e3e1b0",
   "metadata": {},
   "source": [
    "#### SAN FRANCISCO, USA IS THE CITY WITH THE HIGHEST NUMBER OF UNICORNS IN THE WORLD\n",
    "+ ###### CORRECT\n",
    "+ ###### THE HIGHEST NUMBER OF UNICORNS WERE BORN IN SAN FRANCISCO\n",
    "+ ###### TOP 3 CITIES (SAN FRANCISCO | NEW YORK | BEIJING)\n"
   ]
  },
  {
   "cell_type": "markdown",
   "id": "909a5238",
   "metadata": {},
   "source": [
    "***\n",
    "### HYPOTHESES IV"
   ]
  },
  {
   "cell_type": "markdown",
   "id": "486ea37e",
   "metadata": {},
   "source": [
    "#### CREATE THE NEW DF THAT WE WANT TO LATTER PLOT WITH THE COUNTRIES WITH MORE UNICORNS"
   ]
  },
  {
   "cell_type": "code",
   "execution_count": 82,
   "id": "99c1c53f",
   "metadata": {},
   "outputs": [],
   "source": [
    "topcountries = list(dict(unicorn[\"Country of origin\"].value_counts()[0:10]).keys())\n",
    "unicorn6 = unicorn[unicorn[\"Country of origin\"].isin(topcountries)]"
   ]
  },
  {
   "cell_type": "markdown",
   "id": "c0117cdb",
   "metadata": {},
   "source": [
    "#### CREATE THE TABLE THAT WE WANT TO LATTER PLOT"
   ]
  },
  {
   "cell_type": "code",
   "execution_count": 93,
   "id": "9ba35806",
   "metadata": {},
   "outputs": [],
   "source": [
    "best_country = px.histogram(unicorn6, x=\"Country of origin\",title=\"TOP 10 CITIES IN THE WORLD WITH MORE UNICORNS\")"
   ]
  },
  {
   "cell_type": "code",
   "execution_count": 102,
   "id": "9cb75f7c",
   "metadata": {},
   "outputs": [],
   "source": [
    "# best_country.show()"
   ]
  },
  {
   "cell_type": "markdown",
   "id": "8f0f7e4c",
   "metadata": {},
   "source": [
    "#### IN ORDER TO UNDERSTAND IF THERE IS A CORRELATION BETWEEN UNICORNS & TOP TIERS UNIVERSITIES I WILL NEED TO MAKE WEB SCRAPPING FROM THIS [LINK](https://cwur.org/2021-22.php) \n",
    "#### CAN'T ACCESS VIA API"
   ]
  },
  {
   "cell_type": "markdown",
   "id": "01deeece",
   "metadata": {},
   "source": [
    "#### FOUND AN API WITH A WORLD COLLEGE RANKING, LET´S CALL IT"
   ]
  },
  {
   "cell_type": "code",
   "execution_count": null,
   "id": "90b0d612",
   "metadata": {},
   "outputs": [],
   "source": [
    "import os\n",
    "from dotenv import load_dotenv"
   ]
  },
  {
   "cell_type": "code",
   "execution_count": null,
   "id": "a2360fab",
   "metadata": {},
   "outputs": [],
   "source": [
    "load_dotenv()"
   ]
  },
  {
   "cell_type": "code",
   "execution_count": null,
   "id": "33d86bf3",
   "metadata": {},
   "outputs": [],
   "source": [
    "token = os.getenv(\"key\")"
   ]
  },
  {
   "cell_type": "code",
   "execution_count": 14,
   "id": "c0f77044",
   "metadata": {},
   "outputs": [
    {
     "name": "stdout",
     "output_type": "stream",
     "text": [
      "{\"message\":\"You are not subscribed to this API.\"}\n"
     ]
    }
   ],
   "source": [
    "import requests\n",
    "\n",
    "url = \"https://university-college-list-and-rankings.p.rapidapi.com/api/test\"\n",
    "\n",
    "headers = {\n",
    "    'x-rapidapi-host': \"university-college-list-and-rankings.p.rapidapi.com\",\n",
    "    'x-rapidapi-key': f\"{token}\"\n",
    "    }\n",
    "\n",
    "response = requests.request(\"GET\", url, headers=headers)\n",
    "\n",
    "print(response.text)"
   ]
  },
  {
   "cell_type": "markdown",
   "id": "1ba1050f",
   "metadata": {},
   "source": [
    "#### FOUND A WEB WITH A WORLD COLLEGE RANKING, LET´S TRY WEB SCRAPPING"
   ]
  },
  {
   "cell_type": "code",
   "execution_count": 15,
   "id": "54b40875",
   "metadata": {},
   "outputs": [
    {
     "name": "stdout",
     "output_type": "stream",
     "text": [
      "Requirement already satisfied: BeautifulSoup4 in /usr/local/Caskroom/miniconda/base/envs/ironhack/lib/python3.8/site-packages (4.10.0)\n",
      "Requirement already satisfied: soupsieve>1.2 in /usr/local/Caskroom/miniconda/base/envs/ironhack/lib/python3.8/site-packages (from BeautifulSoup4) (2.3)\n",
      "Note: you may need to restart the kernel to use updated packages.\n"
     ]
    }
   ],
   "source": [
    "%pip install BeautifulSoup4"
   ]
  },
  {
   "cell_type": "code",
   "execution_count": 16,
   "id": "4b11b5e7",
   "metadata": {},
   "outputs": [],
   "source": [
    "import requests\n",
    "from bs4 import BeautifulSoup"
   ]
  },
  {
   "cell_type": "code",
   "execution_count": 17,
   "id": "cbb3ae57",
   "metadata": {},
   "outputs": [],
   "source": [
    "import pandas as pd"
   ]
  },
  {
   "cell_type": "code",
   "execution_count": 18,
   "id": "c82c0b77",
   "metadata": {},
   "outputs": [],
   "source": [
    "url_college ='https://cwur.org/2021-22.php'\n",
    "html_college = requests.get(url_college, headers={\"User-Agent\": \"XY\"})"
   ]
  },
  {
   "cell_type": "code",
   "execution_count": 19,
   "id": "045a0359",
   "metadata": {},
   "outputs": [],
   "source": [
    "soup_college = BeautifulSoup(html_college.content, \"html.parser\")"
   ]
  },
  {
   "cell_type": "code",
   "execution_count": 20,
   "id": "0b53ec05",
   "metadata": {},
   "outputs": [],
   "source": [
    "tabla = soup_college.findAll(\"table\")"
   ]
  },
  {
   "cell_type": "code",
   "execution_count": 21,
   "id": "e5fcbec9",
   "metadata": {},
   "outputs": [],
   "source": [
    "elemento = tabla"
   ]
  },
  {
   "cell_type": "code",
   "execution_count": 22,
   "id": "057e5908",
   "metadata": {},
   "outputs": [],
   "source": [
    "#tabla"
   ]
  },
  {
   "cell_type": "code",
   "execution_count": 23,
   "id": "a3fd8ae8",
   "metadata": {},
   "outputs": [],
   "source": [
    "thead = soup_college.findAll(\"thead\")"
   ]
  },
  {
   "cell_type": "code",
   "execution_count": 24,
   "id": "ae97f8d1",
   "metadata": {},
   "outputs": [
    {
     "data": {
      "text/plain": [
       "[<thead>\n",
       " <tr>\n",
       " <th style=\"vertical-align:top\">World Rank</th>\n",
       " <th style=\"vertical-align:top\">Institution</th>\n",
       " <th style=\"vertical-align:top\">Country </th>\n",
       " <th style=\"vertical-align:top\">National Rank</th>\n",
       " <th style=\"vertical-align:top\">Quality of Education Rank</th>\n",
       " <th style=\"vertical-align:top\">Alumni Employment Rank</th>\n",
       " <th style=\"vertical-align:top\">Quality of Faculty Rank</th>\n",
       " <th style=\"vertical-align:top\">Research Performance Rank</th>\n",
       " <th style=\"vertical-align:top\">Score</th>\n",
       " </tr>\n",
       " </thead>]"
      ]
     },
     "execution_count": 24,
     "metadata": {},
     "output_type": "execute_result"
    }
   ],
   "source": [
    "thead"
   ]
  },
  {
   "cell_type": "code",
   "execution_count": 25,
   "id": "4a8c5e19",
   "metadata": {},
   "outputs": [],
   "source": [
    "headers = soup_college.findAll(\"th\")"
   ]
  },
  {
   "cell_type": "code",
   "execution_count": 26,
   "id": "d2a8e52c",
   "metadata": {},
   "outputs": [
    {
     "name": "stdout",
     "output_type": "stream",
     "text": [
      "['World Rank', 'Institution', 'Country ', 'National Rank', 'Quality of Education Rank', 'Alumni Employment Rank', 'Quality of Faculty Rank', 'Research Performance Rank', 'Score']\n"
     ]
    }
   ],
   "source": [
    "headers_list = []\n",
    "for i in headers:\n",
    "    headers_list.append(i.text)\n",
    "print(headers_list)"
   ]
  },
  {
   "cell_type": "code",
   "execution_count": 27,
   "id": "60e6ab68",
   "metadata": {},
   "outputs": [],
   "source": [
    "keys = headers_list"
   ]
  },
  {
   "cell_type": "code",
   "execution_count": 28,
   "id": "835843f0",
   "metadata": {},
   "outputs": [],
   "source": [
    "body = soup_college.findAll(\"tbody\")"
   ]
  },
  {
   "cell_type": "code",
   "execution_count": 103,
   "id": "06219845",
   "metadata": {},
   "outputs": [],
   "source": [
    "#body"
   ]
  },
  {
   "cell_type": "code",
   "execution_count": 108,
   "id": "30767ea8",
   "metadata": {},
   "outputs": [
    {
     "ename": "SyntaxError",
     "evalue": "unexpected EOF while parsing (3238706910.py, line 2)",
     "output_type": "error",
     "traceback": [
      "\u001b[0;36m  File \u001b[0;32m\"/var/folders/lp/_3blnsw12kj309tphctgyqlr0000gn/T/ipykernel_48188/3238706910.py\"\u001b[0;36m, line \u001b[0;32m2\u001b[0m\n\u001b[0;31m    #print(i.findAll(\"a\"))\u001b[0m\n\u001b[0m                          ^\u001b[0m\n\u001b[0;31mSyntaxError\u001b[0m\u001b[0;31m:\u001b[0m unexpected EOF while parsing\n"
     ]
    }
   ],
   "source": [
    "for i in body:\n",
    "#print(i.findAll(\"a\"))"
   ]
  },
  {
   "cell_type": "code",
   "execution_count": 31,
   "id": "331cf315",
   "metadata": {},
   "outputs": [],
   "source": [
    "elements = soup_college.findAll(\"tr\")"
   ]
  },
  {
   "cell_type": "code",
   "execution_count": 105,
   "id": "4618cc6b",
   "metadata": {},
   "outputs": [],
   "source": [
    "#elements"
   ]
  },
  {
   "cell_type": "code",
   "execution_count": 33,
   "id": "3ade0fe8",
   "metadata": {},
   "outputs": [],
   "source": [
    "ele = soup_college.findAll(\"td\")"
   ]
  },
  {
   "cell_type": "code",
   "execution_count": 106,
   "id": "b2a5ec7f",
   "metadata": {},
   "outputs": [],
   "source": [
    "#ele"
   ]
  },
  {
   "cell_type": "code",
   "execution_count": 107,
   "id": "56e4d7b8",
   "metadata": {},
   "outputs": [],
   "source": [
    "elements_list = []\n",
    "for i in ele:\n",
    "    elements_list.append(i.text)\n",
    "#print(elements_list)"
   ]
  },
  {
   "cell_type": "code",
   "execution_count": 36,
   "id": "271c757a",
   "metadata": {},
   "outputs": [],
   "source": [
    "values = elements_list"
   ]
  },
  {
   "cell_type": "code",
   "execution_count": 37,
   "id": "d4815783",
   "metadata": {},
   "outputs": [
    {
     "data": {
      "text/plain": [
       "list"
      ]
     },
     "execution_count": 37,
     "metadata": {},
     "output_type": "execute_result"
    }
   ],
   "source": [
    "type(values)"
   ]
  },
  {
   "cell_type": "code",
   "execution_count": 38,
   "id": "27d7d4af",
   "metadata": {},
   "outputs": [],
   "source": [
    "new_dicc = dict(zip(keys, values))"
   ]
  },
  {
   "cell_type": "code",
   "execution_count": 39,
   "id": "07a61cf5",
   "metadata": {},
   "outputs": [
    {
     "data": {
      "text/plain": [
       "{'World Rank': '1',\n",
       " 'Institution': 'Harvard University',\n",
       " 'Country ': 'USA',\n",
       " 'National Rank': '1',\n",
       " 'Quality of Education Rank': '1',\n",
       " 'Alumni Employment Rank': '1',\n",
       " 'Quality of Faculty Rank': '1',\n",
       " 'Research Performance Rank': '1',\n",
       " 'Score': '100'}"
      ]
     },
     "execution_count": 39,
     "metadata": {},
     "output_type": "execute_result"
    }
   ],
   "source": [
    "new_dicc"
   ]
  },
  {
   "cell_type": "code",
   "execution_count": 40,
   "id": "471f6e8b",
   "metadata": {},
   "outputs": [],
   "source": [
    "dicc_ = {}\n",
    "for k,v in zip(keys,values):\n",
    "    dicc_[k] = v"
   ]
  },
  {
   "cell_type": "code",
   "execution_count": 41,
   "id": "be71dd9f",
   "metadata": {},
   "outputs": [
    {
     "data": {
      "text/plain": [
       "{'World Rank': '1',\n",
       " 'Institution': 'Harvard University',\n",
       " 'Country ': 'USA',\n",
       " 'National Rank': '1',\n",
       " 'Quality of Education Rank': '1',\n",
       " 'Alumni Employment Rank': '1',\n",
       " 'Quality of Faculty Rank': '1',\n",
       " 'Research Performance Rank': '1',\n",
       " 'Score': '100'}"
      ]
     },
     "execution_count": 41,
     "metadata": {},
     "output_type": "execute_result"
    }
   ],
   "source": [
    "dicc_"
   ]
  },
  {
   "cell_type": "code",
   "execution_count": 46,
   "id": "9d52b030",
   "metadata": {},
   "outputs": [],
   "source": [
    "diccionario = {}\n",
    "rank = []\n",
    "ranking = []\n",
    "for i in tabla:\n",
    "    for f in i.find_all(\"tr\")[1:]: \n",
    "        #print(i.find_all(\"tr\"))\n",
    "        fila = [elemento for elemento in f.find_all(\"td\")] # ELEMENTOS DENTRO DE CADA FILA\n",
    "        if len(fila) > 1:\n",
    "            diccionario = {\"Ranking\": (fila[0].text),\n",
    "                      \"College\": fila[1].text,\n",
    "                      \"Country\": fila[2].text,\n",
    "                      \"National Rank\":(fila[3].text),\n",
    "                      \"Quality Rank\": (fila[4].text),\n",
    "                      \"Employment Rank\": (fila[5].text),\n",
    "                      \"Employment2 Rank\": (fila[6].text),\n",
    "                      \"Research Rank\": (fila[7].text),\n",
    "                      \"Score\": (fila[8].text)}\n",
    "        rank.append(diccionario)\n",
    "\n",
    "\n",
    "          \n",
    "            \n",
    "        \n",
    "     "
   ]
  },
  {
   "cell_type": "code",
   "execution_count": 47,
   "id": "55971417",
   "metadata": {},
   "outputs": [],
   "source": [
    "df = pd.DataFrame(rank)"
   ]
  },
  {
   "cell_type": "code",
   "execution_count": 48,
   "id": "1cecd7b2",
   "metadata": {
    "scrolled": true
   },
   "outputs": [
    {
     "data": {
      "text/html": [
       "<div>\n",
       "<style scoped>\n",
       "    .dataframe tbody tr th:only-of-type {\n",
       "        vertical-align: middle;\n",
       "    }\n",
       "\n",
       "    .dataframe tbody tr th {\n",
       "        vertical-align: top;\n",
       "    }\n",
       "\n",
       "    .dataframe thead th {\n",
       "        text-align: right;\n",
       "    }\n",
       "</style>\n",
       "<table border=\"1\" class=\"dataframe\">\n",
       "  <thead>\n",
       "    <tr style=\"text-align: right;\">\n",
       "      <th></th>\n",
       "      <th>Ranking</th>\n",
       "      <th>College</th>\n",
       "      <th>Country</th>\n",
       "      <th>National Rank</th>\n",
       "      <th>Quality Rank</th>\n",
       "      <th>Employment Rank</th>\n",
       "      <th>Employment2 Rank</th>\n",
       "      <th>Research Rank</th>\n",
       "      <th>Score</th>\n",
       "    </tr>\n",
       "  </thead>\n",
       "  <tbody>\n",
       "    <tr>\n",
       "      <th>0</th>\n",
       "      <td>1</td>\n",
       "      <td>Harvard University</td>\n",
       "      <td>USA</td>\n",
       "      <td>1</td>\n",
       "      <td>1</td>\n",
       "      <td>1</td>\n",
       "      <td>1</td>\n",
       "      <td>1</td>\n",
       "      <td>100</td>\n",
       "    </tr>\n",
       "    <tr>\n",
       "      <th>1</th>\n",
       "      <td>2</td>\n",
       "      <td>Massachusetts Institute of Technology</td>\n",
       "      <td>USA</td>\n",
       "      <td>2</td>\n",
       "      <td>4</td>\n",
       "      <td>12</td>\n",
       "      <td>2</td>\n",
       "      <td>8</td>\n",
       "      <td>96.7</td>\n",
       "    </tr>\n",
       "    <tr>\n",
       "      <th>2</th>\n",
       "      <td>3</td>\n",
       "      <td>Stanford University</td>\n",
       "      <td>USA</td>\n",
       "      <td>3</td>\n",
       "      <td>10</td>\n",
       "      <td>4</td>\n",
       "      <td>3</td>\n",
       "      <td>2</td>\n",
       "      <td>95.1</td>\n",
       "    </tr>\n",
       "    <tr>\n",
       "      <th>3</th>\n",
       "      <td>4</td>\n",
       "      <td>University of Cambridge</td>\n",
       "      <td>United Kingdom</td>\n",
       "      <td>1</td>\n",
       "      <td>3</td>\n",
       "      <td>25</td>\n",
       "      <td>4</td>\n",
       "      <td>10</td>\n",
       "      <td>94.1</td>\n",
       "    </tr>\n",
       "    <tr>\n",
       "      <th>4</th>\n",
       "      <td>5</td>\n",
       "      <td>University of Oxford</td>\n",
       "      <td>United Kingdom</td>\n",
       "      <td>2</td>\n",
       "      <td>7</td>\n",
       "      <td>27</td>\n",
       "      <td>9</td>\n",
       "      <td>4</td>\n",
       "      <td>93.3</td>\n",
       "    </tr>\n",
       "    <tr>\n",
       "      <th>5</th>\n",
       "      <td>6</td>\n",
       "      <td>Princeton University</td>\n",
       "      <td>USA</td>\n",
       "      <td>4</td>\n",
       "      <td>5</td>\n",
       "      <td>15</td>\n",
       "      <td>7</td>\n",
       "      <td>70</td>\n",
       "      <td>92.6</td>\n",
       "    </tr>\n",
       "    <tr>\n",
       "      <th>6</th>\n",
       "      <td>7</td>\n",
       "      <td>Columbia University</td>\n",
       "      <td>USA</td>\n",
       "      <td>5</td>\n",
       "      <td>11</td>\n",
       "      <td>14</td>\n",
       "      <td>10</td>\n",
       "      <td>15</td>\n",
       "      <td>92.0</td>\n",
       "    </tr>\n",
       "    <tr>\n",
       "      <th>7</th>\n",
       "      <td>8</td>\n",
       "      <td>University of Chicago</td>\n",
       "      <td>USA</td>\n",
       "      <td>6</td>\n",
       "      <td>8</td>\n",
       "      <td>16</td>\n",
       "      <td>27</td>\n",
       "      <td>22</td>\n",
       "      <td>91.5</td>\n",
       "    </tr>\n",
       "    <tr>\n",
       "      <th>8</th>\n",
       "      <td>9</td>\n",
       "      <td>University of Pennsylvania</td>\n",
       "      <td>USA</td>\n",
       "      <td>7</td>\n",
       "      <td>14</td>\n",
       "      <td>10</td>\n",
       "      <td>42</td>\n",
       "      <td>12</td>\n",
       "      <td>91.1</td>\n",
       "    </tr>\n",
       "    <tr>\n",
       "      <th>9</th>\n",
       "      <td>10</td>\n",
       "      <td>Yale University</td>\n",
       "      <td>USA</td>\n",
       "      <td>8</td>\n",
       "      <td>6</td>\n",
       "      <td>36</td>\n",
       "      <td>13</td>\n",
       "      <td>20</td>\n",
       "      <td>90.7</td>\n",
       "    </tr>\n",
       "  </tbody>\n",
       "</table>\n",
       "</div>"
      ],
      "text/plain": [
       "  Ranking                                College         Country  \\\n",
       "0       1                     Harvard University             USA   \n",
       "1       2  Massachusetts Institute of Technology             USA   \n",
       "2       3                    Stanford University             USA   \n",
       "3       4                University of Cambridge  United Kingdom   \n",
       "4       5                   University of Oxford  United Kingdom   \n",
       "5       6                   Princeton University             USA   \n",
       "6       7                    Columbia University             USA   \n",
       "7       8                  University of Chicago             USA   \n",
       "8       9             University of Pennsylvania             USA   \n",
       "9      10                        Yale University             USA   \n",
       "\n",
       "  National Rank Quality Rank Employment Rank Employment2 Rank Research Rank  \\\n",
       "0             1            1               1                1             1   \n",
       "1             2            4              12                2             8   \n",
       "2             3           10               4                3             2   \n",
       "3             1            3              25                4            10   \n",
       "4             2            7              27                9             4   \n",
       "5             4            5              15                7            70   \n",
       "6             5           11              14               10            15   \n",
       "7             6            8              16               27            22   \n",
       "8             7           14              10               42            12   \n",
       "9             8            6              36               13            20   \n",
       "\n",
       "  Score  \n",
       "0   100  \n",
       "1  96.7  \n",
       "2  95.1  \n",
       "3  94.1  \n",
       "4  93.3  \n",
       "5  92.6  \n",
       "6  92.0  \n",
       "7  91.5  \n",
       "8  91.1  \n",
       "9  90.7  "
      ]
     },
     "execution_count": 48,
     "metadata": {},
     "output_type": "execute_result"
    }
   ],
   "source": [
    "df.head(10)"
   ]
  },
  {
   "cell_type": "code",
   "execution_count": 65,
   "id": "331ba627",
   "metadata": {},
   "outputs": [],
   "source": [
    "topunis = list(dict(df[\"Country\"].value_counts()[0:10]).keys())\n",
    "uni2 = df[df[\"Country\"].isin(topunis)]"
   ]
  },
  {
   "cell_type": "code",
   "execution_count": 111,
   "id": "89f5b087",
   "metadata": {},
   "outputs": [],
   "source": [
    "uni = px.histogram(uni2, x=\"Country\",title=\"AMOUNT OF UNIVERSITIES PER COUNTRY\")"
   ]
  },
  {
   "cell_type": "code",
   "execution_count": 100,
   "id": "bb0e7e3f",
   "metadata": {},
   "outputs": [
    {
     "data": {
      "application/vnd.plotly.v1+json": {
       "config": {
        "plotlyServerURL": "https://plot.ly"
       },
       "data": [
        {
         "alignmentgroup": "True",
         "bingroup": "x",
         "hovertemplate": "Country=%{x}<br>count=%{y}<extra></extra>",
         "legendgroup": "",
         "marker": {
          "color": "#636efa",
          "pattern": {
           "shape": ""
          }
         },
         "name": "",
         "offsetgroup": "",
         "orientation": "v",
         "showlegend": false,
         "type": "histogram",
         "x": [
          "USA",
          "USA",
          "USA",
          "United Kingdom",
          "United Kingdom",
          "USA",
          "USA",
          "USA",
          "USA",
          "USA",
          "USA",
          "USA",
          "Japan",
          "USA",
          "USA",
          "USA",
          "USA",
          "USA",
          "United Kingdom",
          "USA",
          "France",
          "USA",
          "USA",
          "USA",
          "USA",
          "Japan",
          "United Kingdom",
          "South Korea",
          "France",
          "USA",
          "USA",
          "France",
          "USA",
          "USA",
          "USA",
          "France",
          "France",
          "United Kingdom",
          "Germany",
          "United Kingdom",
          "USA",
          "USA",
          "USA",
          "USA",
          "USA",
          "USA",
          "USA",
          "USA",
          "Germany",
          "USA",
          "United Kingdom",
          "China",
          "China",
          "Germany",
          "USA",
          "USA",
          "USA",
          "USA",
          "USA",
          "Germany",
          "USA",
          "China",
          "USA",
          "USA",
          "USA",
          "Japan",
          "United Kingdom",
          "Germany",
          "USA",
          "USA",
          "USA",
          "USA",
          "United Kingdom",
          "Germany",
          "USA",
          "USA",
          "USA",
          "Japan",
          "United Kingdom",
          "China",
          "Brazil",
          "USA",
          "Germany",
          "China",
          "USA",
          "USA",
          "Italy",
          "China",
          "United Kingdom",
          "France",
          "Germany",
          "Germany",
          "USA",
          "United Kingdom",
          "USA",
          "USA",
          "Japan",
          "Japan",
          "Germany",
          "USA",
          "United Kingdom",
          "United Kingdom",
          "France",
          "China",
          "USA",
          "USA",
          "USA",
          "France",
          "USA",
          "United Kingdom",
          "Japan",
          "China",
          "United Kingdom",
          "France",
          "USA",
          "United Kingdom",
          "China",
          "China",
          "South Korea",
          "Italy",
          "Germany",
          "USA",
          "France",
          "South Korea",
          "USA",
          "China",
          "USA",
          "United Kingdom",
          "France",
          "Italy",
          "Italy",
          "United Kingdom",
          "USA",
          "USA",
          "Germany",
          "USA",
          "China",
          "Japan",
          "USA",
          "South Korea",
          "Germany",
          "USA",
          "USA",
          "USA",
          "Germany",
          "USA",
          "China",
          "China",
          "Germany",
          "USA",
          "Germany",
          "Germany",
          "USA",
          "USA",
          "China",
          "Germany",
          "USA",
          "Japan",
          "France",
          "China",
          "South Korea",
          "Japan",
          "China",
          "USA",
          "Germany",
          "USA",
          "China",
          "Italy",
          "China",
          "United Kingdom",
          "Germany",
          "USA",
          "USA",
          "Italy",
          "France",
          "China",
          "United Kingdom",
          "USA",
          "France",
          "USA",
          "United Kingdom",
          "United Kingdom",
          "China",
          "China",
          "USA",
          "France",
          "China",
          "USA",
          "USA",
          "China",
          "USA",
          "Italy",
          "China",
          "Japan",
          "United Kingdom",
          "Italy",
          "China",
          "China",
          "USA",
          "USA",
          "USA",
          "United Kingdom",
          "China",
          "USA",
          "China",
          "Germany",
          "United Kingdom",
          "Italy",
          "USA",
          "USA",
          "France",
          "USA",
          "USA",
          "China",
          "USA",
          "USA",
          "USA",
          "Italy",
          "USA",
          "USA",
          "China",
          "USA",
          "USA",
          "USA",
          "China",
          "USA",
          "France",
          "Italy",
          "Germany",
          "Germany",
          "USA",
          "South Korea",
          "Germany",
          "China",
          "USA",
          "United Kingdom",
          "Germany",
          "United Kingdom",
          "China",
          "USA",
          "United Kingdom",
          "Italy",
          "Germany",
          "China",
          "France",
          "Germany",
          "China",
          "United Kingdom",
          "United Kingdom",
          "Italy",
          "United Kingdom",
          "China",
          "Brazil",
          "France",
          "USA",
          "USA",
          "USA",
          "United Kingdom",
          "USA",
          "Brazil",
          "Germany",
          "Italy",
          "China",
          "China",
          "South Korea",
          "Germany",
          "Germany",
          "USA",
          "USA",
          "China",
          "China",
          "Italy",
          "Germany",
          "South Korea",
          "USA",
          "China",
          "USA",
          "South Korea",
          "USA",
          "Italy",
          "China",
          "USA",
          "China",
          "India",
          "France",
          "South Korea",
          "USA",
          "Brazil",
          "China",
          "USA",
          "Japan",
          "USA",
          "China",
          "China",
          "USA",
          "South Korea",
          "Germany",
          "Italy",
          "USA",
          "Italy",
          "Japan",
          "France",
          "Japan",
          "USA",
          "China",
          "USA",
          "United Kingdom",
          "USA",
          "Italy",
          "South Korea",
          "Italy",
          "USA",
          "Germany",
          "Italy",
          "USA",
          "USA",
          "India",
          "USA",
          "USA",
          "USA",
          "USA",
          "China",
          "Italy",
          "USA",
          "China",
          "China",
          "China",
          "USA",
          "Brazil",
          "United Kingdom",
          "Italy",
          "Germany",
          "Germany",
          "China",
          "France",
          "USA",
          "Germany",
          "China",
          "China",
          "USA",
          "China",
          "USA",
          "France",
          "Germany",
          "USA",
          "USA",
          "Italy",
          "USA",
          "Brazil",
          "USA",
          "USA",
          "USA",
          "Italy",
          "United Kingdom",
          "United Kingdom",
          "China",
          "United Kingdom",
          "China",
          "Germany",
          "USA",
          "South Korea",
          "Germany",
          "USA",
          "Italy",
          "France",
          "Germany",
          "Japan",
          "China",
          "USA",
          "USA",
          "India",
          "France",
          "South Korea",
          "Japan",
          "China",
          "China",
          "USA",
          "India",
          "USA",
          "United Kingdom",
          "USA",
          "China",
          "France",
          "India",
          "China",
          "USA",
          "India",
          "USA",
          "China",
          "United Kingdom",
          "Italy",
          "USA",
          "United Kingdom",
          "USA",
          "France",
          "Italy",
          "Italy",
          "USA",
          "USA",
          "USA",
          "China",
          "China",
          "France",
          "USA",
          "Italy",
          "Italy",
          "China",
          "China",
          "Italy",
          "Italy",
          "Brazil",
          "China",
          "South Korea",
          "United Kingdom",
          "USA",
          "Germany",
          "China",
          "Brazil",
          "Italy",
          "India",
          "France",
          "France",
          "South Korea",
          "China",
          "Germany",
          "USA",
          "United Kingdom",
          "China",
          "China",
          "South Korea",
          "United Kingdom",
          "China",
          "USA",
          "China",
          "China",
          "China",
          "China",
          "China",
          "Germany",
          "USA",
          "South Korea",
          "Japan",
          "China",
          "Italy",
          "France",
          "United Kingdom",
          "USA",
          "USA",
          "Japan",
          "United Kingdom",
          "Italy",
          "Italy",
          "Japan",
          "USA",
          "Japan",
          "USA",
          "China",
          "USA",
          "China",
          "China",
          "USA",
          "China",
          "South Korea",
          "Japan",
          "China",
          "China",
          "Brazil",
          "United Kingdom",
          "USA",
          "South Korea",
          "Japan",
          "Germany",
          "China",
          "Germany",
          "India",
          "India",
          "USA",
          "China",
          "USA",
          "USA",
          "USA",
          "United Kingdom",
          "Italy",
          "USA",
          "France",
          "China",
          "Japan",
          "China",
          "China",
          "South Korea",
          "USA",
          "Brazil",
          "USA",
          "United Kingdom",
          "China",
          "USA",
          "South Korea",
          "China",
          "Japan",
          "China",
          "USA",
          "USA",
          "Italy",
          "Germany",
          "USA",
          "China",
          "Japan",
          "China",
          "Japan",
          "USA",
          "USA",
          "China",
          "United Kingdom",
          "China",
          "South Korea",
          "China",
          "China",
          "Germany",
          "China",
          "Germany",
          "South Korea",
          "France",
          "China",
          "China",
          "USA",
          "USA",
          "South Korea",
          "Brazil",
          "Italy",
          "France",
          "China",
          "USA",
          "China",
          "Germany",
          "China",
          "USA",
          "Germany",
          "South Korea",
          "China",
          "Germany",
          "France",
          "China",
          "China",
          "Italy",
          "Japan",
          "Japan",
          "Italy",
          "Brazil",
          "USA",
          "United Kingdom",
          "USA",
          "USA",
          "India",
          "Japan",
          "Italy",
          "USA",
          "India",
          "USA",
          "China",
          "Brazil",
          "France",
          "USA",
          "India",
          "Italy",
          "Japan",
          "United Kingdom",
          "Brazil",
          "USA",
          "USA",
          "USA",
          "United Kingdom",
          "USA",
          "United Kingdom",
          "France",
          "Japan",
          "India",
          "France",
          "India",
          "USA",
          "India",
          "USA",
          "Germany",
          "United Kingdom",
          "China",
          "China",
          "France",
          "USA",
          "Brazil",
          "China",
          "United Kingdom",
          "South Korea",
          "Italy",
          "USA",
          "China",
          "China",
          "China",
          "USA",
          "South Korea",
          "South Korea",
          "USA",
          "Japan",
          "United Kingdom",
          "Brazil",
          "Japan",
          "USA",
          "China",
          "South Korea",
          "United Kingdom",
          "USA",
          "China",
          "USA",
          "China",
          "United Kingdom",
          "United Kingdom",
          "USA",
          "Brazil",
          "Japan",
          "USA",
          "France",
          "France",
          "South Korea",
          "China",
          "United Kingdom",
          "United Kingdom",
          "Japan",
          "China",
          "USA",
          "Brazil",
          "Brazil",
          "Italy",
          "Japan",
          "USA",
          "USA",
          "South Korea",
          "India",
          "USA",
          "USA",
          "USA",
          "Japan",
          "China",
          "France",
          "China",
          "United Kingdom",
          "Italy",
          "USA",
          "China",
          "China",
          "Japan",
          "USA",
          "China",
          "Japan",
          "Brazil",
          "France",
          "Italy",
          "USA",
          "China",
          "China",
          "Japan",
          "USA",
          "Brazil",
          "USA",
          "China",
          "Brazil",
          "China",
          "China",
          "Japan",
          "China",
          "China",
          "South Korea",
          "China",
          "USA",
          "Brazil",
          "China",
          "USA",
          "USA",
          "Japan",
          "Japan",
          "Japan",
          "Germany",
          "France",
          "India",
          "China",
          "South Korea",
          "China",
          "China",
          "Brazil",
          "USA",
          "China",
          "USA",
          "USA",
          "Brazil",
          "USA",
          "Japan",
          "France",
          "Germany",
          "India",
          "USA",
          "China",
          "France",
          "China",
          "China",
          "China",
          "USA",
          "Germany",
          "Japan",
          "Japan",
          "Italy",
          "France",
          "Germany",
          "USA",
          "USA",
          "USA",
          "Brazil",
          "USA",
          "Japan",
          "USA",
          "USA",
          "South Korea",
          "Japan",
          "China",
          "USA",
          "China",
          "China",
          "Japan",
          "India",
          "Japan",
          "USA",
          "India",
          "United Kingdom",
          "United Kingdom",
          "USA",
          "India",
          "Japan",
          "Germany",
          "France",
          "United Kingdom",
          "USA",
          "USA",
          "Germany",
          "South Korea",
          "China",
          "USA",
          "India",
          "Japan",
          "China",
          "India",
          "China",
          "China",
          "USA",
          "Brazil",
          "USA",
          "USA",
          "USA",
          "India",
          "Japan",
          "Japan",
          "France",
          "China",
          "USA",
          "USA",
          "USA",
          "South Korea",
          "USA",
          "USA",
          "Germany",
          "Italy",
          "China",
          "Germany",
          "Japan",
          "India",
          "USA",
          "USA",
          "China",
          "France",
          "Italy",
          "Japan",
          "USA",
          "USA",
          "Japan",
          "China",
          "United Kingdom",
          "China",
          "China",
          "USA",
          "USA",
          "USA",
          "India",
          "Japan",
          "USA",
          "Brazil",
          "USA",
          "China",
          "USA",
          "China",
          "Japan",
          "Japan",
          "Japan",
          "Brazil",
          "France",
          "United Kingdom",
          "France",
          "USA",
          "China",
          "China",
          "South Korea",
          "China",
          "United Kingdom",
          "USA",
          "France",
          "China",
          "Japan",
          "Brazil",
          "China",
          "China",
          "China",
          "South Korea",
          "India",
          "Italy",
          "USA",
          "Japan",
          "Brazil",
          "Japan",
          "Japan",
          "USA",
          "China",
          "United Kingdom",
          "Japan",
          "Italy",
          "China",
          "France",
          "Japan",
          "China",
          "India",
          "Japan",
          "Italy",
          "China",
          "Brazil",
          "USA",
          "USA",
          "Japan",
          "Italy",
          "Brazil",
          "China",
          "India",
          "United Kingdom",
          "Italy",
          "France",
          "Japan",
          "Brazil",
          "China",
          "USA",
          "South Korea",
          "USA",
          "China",
          "France",
          "USA",
          "France",
          "Japan",
          "Japan",
          "China",
          "Japan",
          "China",
          "China",
          "Italy",
          "Japan",
          "South Korea",
          "China",
          "Japan",
          "Brazil",
          "China",
          "China",
          "South Korea",
          "China",
          "France",
          "United Kingdom",
          "United Kingdom",
          "Japan",
          "United Kingdom",
          "Japan",
          "China",
          "France",
          "China",
          "USA",
          "USA",
          "United Kingdom",
          "China",
          "USA",
          "USA",
          "Japan",
          "France",
          "India",
          "Japan",
          "France",
          "China",
          "China",
          "India",
          "China",
          "Japan",
          "China",
          "India",
          "France",
          "Brazil",
          "USA",
          "USA",
          "South Korea",
          "United Kingdom",
          "India",
          "USA",
          "China",
          "Japan",
          "South Korea",
          "China",
          "China",
          "USA",
          "Germany",
          "USA",
          "China",
          "China",
          "Japan",
          "Brazil",
          "USA",
          "USA",
          "Brazil",
          "USA",
          "China",
          "USA",
          "Japan",
          "China",
          "China",
          "Japan",
          "Japan",
          "China",
          "Germany",
          "Germany",
          "Japan",
          "China",
          "USA",
          "USA",
          "France",
          "USA",
          "Germany",
          "China",
          "United Kingdom",
          "Italy",
          "Germany",
          "Germany",
          "Japan",
          "USA",
          "China",
          "Japan",
          "France",
          "China",
          "USA",
          "United Kingdom",
          "United Kingdom",
          "Brazil",
          "South Korea",
          "USA",
          "South Korea",
          "Japan",
          "France",
          "China",
          "Brazil",
          "USA",
          "France",
          "USA",
          "USA",
          "South Korea",
          "Japan",
          "Japan",
          "China",
          "China",
          "USA",
          "Italy",
          "China",
          "South Korea",
          "USA",
          "China",
          "USA",
          "USA",
          "United Kingdom",
          "India",
          "India",
          "China",
          "Brazil",
          "India",
          "Japan",
          "Brazil",
          "Japan",
          "India",
          "China",
          "United Kingdom",
          "China",
          "USA",
          "USA",
          "China",
          "Brazil",
          "India",
          "China",
          "China",
          "United Kingdom",
          "China",
          "USA",
          "India",
          "USA",
          "USA",
          "China",
          "China",
          "India",
          "China",
          "United Kingdom",
          "China",
          "China",
          "China",
          "Germany",
          "Japan",
          "United Kingdom",
          "India",
          "USA",
          "France",
          "China",
          "Japan",
          "South Korea",
          "South Korea",
          "Brazil",
          "USA",
          "Japan",
          "China",
          "USA",
          "China",
          "Japan",
          "India",
          "China",
          "China",
          "USA",
          "South Korea",
          "China",
          "India",
          "USA",
          "South Korea",
          "Japan",
          "France",
          "India",
          "China",
          "USA",
          "USA",
          "China",
          "USA",
          "China",
          "United Kingdom",
          "United Kingdom",
          "France",
          "USA",
          "Italy",
          "USA",
          "USA",
          "Japan",
          "China",
          "China",
          "China",
          "India",
          "China",
          "USA",
          "USA",
          "United Kingdom",
          "Japan",
          "India",
          "China",
          "India",
          "USA",
          "China",
          "France",
          "United Kingdom",
          "USA",
          "Brazil",
          "Brazil",
          "China",
          "Japan",
          "USA",
          "USA",
          "India",
          "India",
          "USA",
          "China",
          "South Korea",
          "China",
          "India",
          "Italy",
          "USA",
          "China",
          "USA",
          "USA",
          "China",
          "Japan",
          "USA",
          "South Korea",
          "USA",
          "United Kingdom",
          "Japan",
          "Germany",
          "USA",
          "France",
          "South Korea",
          "Italy",
          "France",
          "Japan",
          "Brazil",
          "Japan",
          "USA",
          "China",
          "Japan",
          "France",
          "South Korea",
          "Japan",
          "China",
          "France",
          "Germany",
          "Italy",
          "Japan",
          "USA",
          "China",
          "China",
          "China",
          "India",
          "France",
          "China",
          "Brazil",
          "Italy",
          "South Korea",
          "China",
          "Japan",
          "India",
          "USA",
          "USA",
          "China",
          "Brazil",
          "United Kingdom",
          "Japan",
          "China",
          "USA",
          "Japan",
          "China",
          "USA",
          "China",
          "Brazil",
          "Japan",
          "Japan",
          "Brazil",
          "China",
          "USA",
          "China",
          "China",
          "Japan",
          "France",
          "India",
          "USA",
          "Japan",
          "USA",
          "United Kingdom",
          "India",
          "India",
          "France",
          "USA",
          "China",
          "India",
          "Italy",
          "Japan",
          "Brazil",
          "France",
          "India",
          "USA",
          "China",
          "France",
          "USA",
          "Brazil",
          "India",
          "South Korea",
          "USA",
          "China",
          "USA",
          "China",
          "USA",
          "United Kingdom",
          "India",
          "China",
          "Japan",
          "India",
          "China",
          "China",
          "China",
          "United Kingdom",
          "USA",
          "Brazil",
          "Japan",
          "China",
          "Japan",
          "Japan",
          "India",
          "China",
          "China",
          "South Korea",
          "Germany",
          "USA",
          "China",
          "China",
          "South Korea",
          "China",
          "USA",
          "Japan",
          "Brazil",
          "India",
          "China",
          "India",
          "China",
          "USA",
          "United Kingdom",
          "Japan",
          "China",
          "USA",
          "India",
          "China",
          "Italy",
          "United Kingdom",
          "China",
          "China",
          "China",
          "India",
          "India",
          "USA",
          "Japan",
          "China",
          "India",
          "China",
          "USA",
          "USA",
          "USA",
          "USA",
          "India",
          "Brazil",
          "China",
          "China",
          "China"
         ],
         "xaxis": "x",
         "yaxis": "y"
        }
       ],
       "layout": {
        "barmode": "relative",
        "legend": {
         "tracegroupgap": 0
        },
        "template": {
         "data": {
          "bar": [
           {
            "error_x": {
             "color": "#2a3f5f"
            },
            "error_y": {
             "color": "#2a3f5f"
            },
            "marker": {
             "line": {
              "color": "#E5ECF6",
              "width": 0.5
             },
             "pattern": {
              "fillmode": "overlay",
              "size": 10,
              "solidity": 0.2
             }
            },
            "type": "bar"
           }
          ],
          "barpolar": [
           {
            "marker": {
             "line": {
              "color": "#E5ECF6",
              "width": 0.5
             },
             "pattern": {
              "fillmode": "overlay",
              "size": 10,
              "solidity": 0.2
             }
            },
            "type": "barpolar"
           }
          ],
          "carpet": [
           {
            "aaxis": {
             "endlinecolor": "#2a3f5f",
             "gridcolor": "white",
             "linecolor": "white",
             "minorgridcolor": "white",
             "startlinecolor": "#2a3f5f"
            },
            "baxis": {
             "endlinecolor": "#2a3f5f",
             "gridcolor": "white",
             "linecolor": "white",
             "minorgridcolor": "white",
             "startlinecolor": "#2a3f5f"
            },
            "type": "carpet"
           }
          ],
          "choropleth": [
           {
            "colorbar": {
             "outlinewidth": 0,
             "ticks": ""
            },
            "type": "choropleth"
           }
          ],
          "contour": [
           {
            "colorbar": {
             "outlinewidth": 0,
             "ticks": ""
            },
            "colorscale": [
             [
              0,
              "#0d0887"
             ],
             [
              0.1111111111111111,
              "#46039f"
             ],
             [
              0.2222222222222222,
              "#7201a8"
             ],
             [
              0.3333333333333333,
              "#9c179e"
             ],
             [
              0.4444444444444444,
              "#bd3786"
             ],
             [
              0.5555555555555556,
              "#d8576b"
             ],
             [
              0.6666666666666666,
              "#ed7953"
             ],
             [
              0.7777777777777778,
              "#fb9f3a"
             ],
             [
              0.8888888888888888,
              "#fdca26"
             ],
             [
              1,
              "#f0f921"
             ]
            ],
            "type": "contour"
           }
          ],
          "contourcarpet": [
           {
            "colorbar": {
             "outlinewidth": 0,
             "ticks": ""
            },
            "type": "contourcarpet"
           }
          ],
          "heatmap": [
           {
            "colorbar": {
             "outlinewidth": 0,
             "ticks": ""
            },
            "colorscale": [
             [
              0,
              "#0d0887"
             ],
             [
              0.1111111111111111,
              "#46039f"
             ],
             [
              0.2222222222222222,
              "#7201a8"
             ],
             [
              0.3333333333333333,
              "#9c179e"
             ],
             [
              0.4444444444444444,
              "#bd3786"
             ],
             [
              0.5555555555555556,
              "#d8576b"
             ],
             [
              0.6666666666666666,
              "#ed7953"
             ],
             [
              0.7777777777777778,
              "#fb9f3a"
             ],
             [
              0.8888888888888888,
              "#fdca26"
             ],
             [
              1,
              "#f0f921"
             ]
            ],
            "type": "heatmap"
           }
          ],
          "heatmapgl": [
           {
            "colorbar": {
             "outlinewidth": 0,
             "ticks": ""
            },
            "colorscale": [
             [
              0,
              "#0d0887"
             ],
             [
              0.1111111111111111,
              "#46039f"
             ],
             [
              0.2222222222222222,
              "#7201a8"
             ],
             [
              0.3333333333333333,
              "#9c179e"
             ],
             [
              0.4444444444444444,
              "#bd3786"
             ],
             [
              0.5555555555555556,
              "#d8576b"
             ],
             [
              0.6666666666666666,
              "#ed7953"
             ],
             [
              0.7777777777777778,
              "#fb9f3a"
             ],
             [
              0.8888888888888888,
              "#fdca26"
             ],
             [
              1,
              "#f0f921"
             ]
            ],
            "type": "heatmapgl"
           }
          ],
          "histogram": [
           {
            "marker": {
             "pattern": {
              "fillmode": "overlay",
              "size": 10,
              "solidity": 0.2
             }
            },
            "type": "histogram"
           }
          ],
          "histogram2d": [
           {
            "colorbar": {
             "outlinewidth": 0,
             "ticks": ""
            },
            "colorscale": [
             [
              0,
              "#0d0887"
             ],
             [
              0.1111111111111111,
              "#46039f"
             ],
             [
              0.2222222222222222,
              "#7201a8"
             ],
             [
              0.3333333333333333,
              "#9c179e"
             ],
             [
              0.4444444444444444,
              "#bd3786"
             ],
             [
              0.5555555555555556,
              "#d8576b"
             ],
             [
              0.6666666666666666,
              "#ed7953"
             ],
             [
              0.7777777777777778,
              "#fb9f3a"
             ],
             [
              0.8888888888888888,
              "#fdca26"
             ],
             [
              1,
              "#f0f921"
             ]
            ],
            "type": "histogram2d"
           }
          ],
          "histogram2dcontour": [
           {
            "colorbar": {
             "outlinewidth": 0,
             "ticks": ""
            },
            "colorscale": [
             [
              0,
              "#0d0887"
             ],
             [
              0.1111111111111111,
              "#46039f"
             ],
             [
              0.2222222222222222,
              "#7201a8"
             ],
             [
              0.3333333333333333,
              "#9c179e"
             ],
             [
              0.4444444444444444,
              "#bd3786"
             ],
             [
              0.5555555555555556,
              "#d8576b"
             ],
             [
              0.6666666666666666,
              "#ed7953"
             ],
             [
              0.7777777777777778,
              "#fb9f3a"
             ],
             [
              0.8888888888888888,
              "#fdca26"
             ],
             [
              1,
              "#f0f921"
             ]
            ],
            "type": "histogram2dcontour"
           }
          ],
          "mesh3d": [
           {
            "colorbar": {
             "outlinewidth": 0,
             "ticks": ""
            },
            "type": "mesh3d"
           }
          ],
          "parcoords": [
           {
            "line": {
             "colorbar": {
              "outlinewidth": 0,
              "ticks": ""
             }
            },
            "type": "parcoords"
           }
          ],
          "pie": [
           {
            "automargin": true,
            "type": "pie"
           }
          ],
          "scatter": [
           {
            "marker": {
             "colorbar": {
              "outlinewidth": 0,
              "ticks": ""
             }
            },
            "type": "scatter"
           }
          ],
          "scatter3d": [
           {
            "line": {
             "colorbar": {
              "outlinewidth": 0,
              "ticks": ""
             }
            },
            "marker": {
             "colorbar": {
              "outlinewidth": 0,
              "ticks": ""
             }
            },
            "type": "scatter3d"
           }
          ],
          "scattercarpet": [
           {
            "marker": {
             "colorbar": {
              "outlinewidth": 0,
              "ticks": ""
             }
            },
            "type": "scattercarpet"
           }
          ],
          "scattergeo": [
           {
            "marker": {
             "colorbar": {
              "outlinewidth": 0,
              "ticks": ""
             }
            },
            "type": "scattergeo"
           }
          ],
          "scattergl": [
           {
            "marker": {
             "colorbar": {
              "outlinewidth": 0,
              "ticks": ""
             }
            },
            "type": "scattergl"
           }
          ],
          "scattermapbox": [
           {
            "marker": {
             "colorbar": {
              "outlinewidth": 0,
              "ticks": ""
             }
            },
            "type": "scattermapbox"
           }
          ],
          "scatterpolar": [
           {
            "marker": {
             "colorbar": {
              "outlinewidth": 0,
              "ticks": ""
             }
            },
            "type": "scatterpolar"
           }
          ],
          "scatterpolargl": [
           {
            "marker": {
             "colorbar": {
              "outlinewidth": 0,
              "ticks": ""
             }
            },
            "type": "scatterpolargl"
           }
          ],
          "scatterternary": [
           {
            "marker": {
             "colorbar": {
              "outlinewidth": 0,
              "ticks": ""
             }
            },
            "type": "scatterternary"
           }
          ],
          "surface": [
           {
            "colorbar": {
             "outlinewidth": 0,
             "ticks": ""
            },
            "colorscale": [
             [
              0,
              "#0d0887"
             ],
             [
              0.1111111111111111,
              "#46039f"
             ],
             [
              0.2222222222222222,
              "#7201a8"
             ],
             [
              0.3333333333333333,
              "#9c179e"
             ],
             [
              0.4444444444444444,
              "#bd3786"
             ],
             [
              0.5555555555555556,
              "#d8576b"
             ],
             [
              0.6666666666666666,
              "#ed7953"
             ],
             [
              0.7777777777777778,
              "#fb9f3a"
             ],
             [
              0.8888888888888888,
              "#fdca26"
             ],
             [
              1,
              "#f0f921"
             ]
            ],
            "type": "surface"
           }
          ],
          "table": [
           {
            "cells": {
             "fill": {
              "color": "#EBF0F8"
             },
             "line": {
              "color": "white"
             }
            },
            "header": {
             "fill": {
              "color": "#C8D4E3"
             },
             "line": {
              "color": "white"
             }
            },
            "type": "table"
           }
          ]
         },
         "layout": {
          "annotationdefaults": {
           "arrowcolor": "#2a3f5f",
           "arrowhead": 0,
           "arrowwidth": 1
          },
          "autotypenumbers": "strict",
          "coloraxis": {
           "colorbar": {
            "outlinewidth": 0,
            "ticks": ""
           }
          },
          "colorscale": {
           "diverging": [
            [
             0,
             "#8e0152"
            ],
            [
             0.1,
             "#c51b7d"
            ],
            [
             0.2,
             "#de77ae"
            ],
            [
             0.3,
             "#f1b6da"
            ],
            [
             0.4,
             "#fde0ef"
            ],
            [
             0.5,
             "#f7f7f7"
            ],
            [
             0.6,
             "#e6f5d0"
            ],
            [
             0.7,
             "#b8e186"
            ],
            [
             0.8,
             "#7fbc41"
            ],
            [
             0.9,
             "#4d9221"
            ],
            [
             1,
             "#276419"
            ]
           ],
           "sequential": [
            [
             0,
             "#0d0887"
            ],
            [
             0.1111111111111111,
             "#46039f"
            ],
            [
             0.2222222222222222,
             "#7201a8"
            ],
            [
             0.3333333333333333,
             "#9c179e"
            ],
            [
             0.4444444444444444,
             "#bd3786"
            ],
            [
             0.5555555555555556,
             "#d8576b"
            ],
            [
             0.6666666666666666,
             "#ed7953"
            ],
            [
             0.7777777777777778,
             "#fb9f3a"
            ],
            [
             0.8888888888888888,
             "#fdca26"
            ],
            [
             1,
             "#f0f921"
            ]
           ],
           "sequentialminus": [
            [
             0,
             "#0d0887"
            ],
            [
             0.1111111111111111,
             "#46039f"
            ],
            [
             0.2222222222222222,
             "#7201a8"
            ],
            [
             0.3333333333333333,
             "#9c179e"
            ],
            [
             0.4444444444444444,
             "#bd3786"
            ],
            [
             0.5555555555555556,
             "#d8576b"
            ],
            [
             0.6666666666666666,
             "#ed7953"
            ],
            [
             0.7777777777777778,
             "#fb9f3a"
            ],
            [
             0.8888888888888888,
             "#fdca26"
            ],
            [
             1,
             "#f0f921"
            ]
           ]
          },
          "colorway": [
           "#636efa",
           "#EF553B",
           "#00cc96",
           "#ab63fa",
           "#FFA15A",
           "#19d3f3",
           "#FF6692",
           "#B6E880",
           "#FF97FF",
           "#FECB52"
          ],
          "font": {
           "color": "#2a3f5f"
          },
          "geo": {
           "bgcolor": "white",
           "lakecolor": "white",
           "landcolor": "#E5ECF6",
           "showlakes": true,
           "showland": true,
           "subunitcolor": "white"
          },
          "hoverlabel": {
           "align": "left"
          },
          "hovermode": "closest",
          "mapbox": {
           "style": "light"
          },
          "paper_bgcolor": "white",
          "plot_bgcolor": "#E5ECF6",
          "polar": {
           "angularaxis": {
            "gridcolor": "white",
            "linecolor": "white",
            "ticks": ""
           },
           "bgcolor": "#E5ECF6",
           "radialaxis": {
            "gridcolor": "white",
            "linecolor": "white",
            "ticks": ""
           }
          },
          "scene": {
           "xaxis": {
            "backgroundcolor": "#E5ECF6",
            "gridcolor": "white",
            "gridwidth": 2,
            "linecolor": "white",
            "showbackground": true,
            "ticks": "",
            "zerolinecolor": "white"
           },
           "yaxis": {
            "backgroundcolor": "#E5ECF6",
            "gridcolor": "white",
            "gridwidth": 2,
            "linecolor": "white",
            "showbackground": true,
            "ticks": "",
            "zerolinecolor": "white"
           },
           "zaxis": {
            "backgroundcolor": "#E5ECF6",
            "gridcolor": "white",
            "gridwidth": 2,
            "linecolor": "white",
            "showbackground": true,
            "ticks": "",
            "zerolinecolor": "white"
           }
          },
          "shapedefaults": {
           "line": {
            "color": "#2a3f5f"
           }
          },
          "ternary": {
           "aaxis": {
            "gridcolor": "white",
            "linecolor": "white",
            "ticks": ""
           },
           "baxis": {
            "gridcolor": "white",
            "linecolor": "white",
            "ticks": ""
           },
           "bgcolor": "#E5ECF6",
           "caxis": {
            "gridcolor": "white",
            "linecolor": "white",
            "ticks": ""
           }
          },
          "title": {
           "x": 0.05
          },
          "xaxis": {
           "automargin": true,
           "gridcolor": "white",
           "linecolor": "white",
           "ticks": "",
           "title": {
            "standoff": 15
           },
           "zerolinecolor": "white",
           "zerolinewidth": 2
          },
          "yaxis": {
           "automargin": true,
           "gridcolor": "white",
           "linecolor": "white",
           "ticks": "",
           "title": {
            "standoff": 15
           },
           "zerolinecolor": "white",
           "zerolinewidth": 2
          }
         }
        },
        "title": {
         "text": "AMOUNT OF UNIVERSITIES PER COUNTRY"
        },
        "xaxis": {
         "anchor": "y",
         "domain": [
          0,
          1
         ],
         "title": {
          "text": "Country"
         }
        },
        "yaxis": {
         "anchor": "x",
         "domain": [
          0,
          1
         ],
         "title": {
          "text": "count"
         }
        }
       }
      },
      "text/html": [
       "<div>                            <div id=\"bfa6d6fc-7240-48b9-8c49-cbf7c7ad5c86\" class=\"plotly-graph-div\" style=\"height:525px; width:100%;\"></div>            <script type=\"text/javascript\">                require([\"plotly\"], function(Plotly) {                    window.PLOTLYENV=window.PLOTLYENV || {};                                    if (document.getElementById(\"bfa6d6fc-7240-48b9-8c49-cbf7c7ad5c86\")) {                    Plotly.newPlot(                        \"bfa6d6fc-7240-48b9-8c49-cbf7c7ad5c86\",                        [{\"alignmentgroup\":\"True\",\"bingroup\":\"x\",\"hovertemplate\":\"Country=%{x}<br>count=%{y}<extra></extra>\",\"legendgroup\":\"\",\"marker\":{\"color\":\"#636efa\",\"pattern\":{\"shape\":\"\"}},\"name\":\"\",\"offsetgroup\":\"\",\"orientation\":\"v\",\"showlegend\":false,\"type\":\"histogram\",\"x\":[\"USA\",\"USA\",\"USA\",\"United Kingdom\",\"United Kingdom\",\"USA\",\"USA\",\"USA\",\"USA\",\"USA\",\"USA\",\"USA\",\"Japan\",\"USA\",\"USA\",\"USA\",\"USA\",\"USA\",\"United Kingdom\",\"USA\",\"France\",\"USA\",\"USA\",\"USA\",\"USA\",\"Japan\",\"United Kingdom\",\"South Korea\",\"France\",\"USA\",\"USA\",\"France\",\"USA\",\"USA\",\"USA\",\"France\",\"France\",\"United Kingdom\",\"Germany\",\"United Kingdom\",\"USA\",\"USA\",\"USA\",\"USA\",\"USA\",\"USA\",\"USA\",\"USA\",\"Germany\",\"USA\",\"United Kingdom\",\"China\",\"China\",\"Germany\",\"USA\",\"USA\",\"USA\",\"USA\",\"USA\",\"Germany\",\"USA\",\"China\",\"USA\",\"USA\",\"USA\",\"Japan\",\"United Kingdom\",\"Germany\",\"USA\",\"USA\",\"USA\",\"USA\",\"United Kingdom\",\"Germany\",\"USA\",\"USA\",\"USA\",\"Japan\",\"United Kingdom\",\"China\",\"Brazil\",\"USA\",\"Germany\",\"China\",\"USA\",\"USA\",\"Italy\",\"China\",\"United Kingdom\",\"France\",\"Germany\",\"Germany\",\"USA\",\"United Kingdom\",\"USA\",\"USA\",\"Japan\",\"Japan\",\"Germany\",\"USA\",\"United Kingdom\",\"United Kingdom\",\"France\",\"China\",\"USA\",\"USA\",\"USA\",\"France\",\"USA\",\"United Kingdom\",\"Japan\",\"China\",\"United Kingdom\",\"France\",\"USA\",\"United Kingdom\",\"China\",\"China\",\"South Korea\",\"Italy\",\"Germany\",\"USA\",\"France\",\"South Korea\",\"USA\",\"China\",\"USA\",\"United Kingdom\",\"France\",\"Italy\",\"Italy\",\"United Kingdom\",\"USA\",\"USA\",\"Germany\",\"USA\",\"China\",\"Japan\",\"USA\",\"South Korea\",\"Germany\",\"USA\",\"USA\",\"USA\",\"Germany\",\"USA\",\"China\",\"China\",\"Germany\",\"USA\",\"Germany\",\"Germany\",\"USA\",\"USA\",\"China\",\"Germany\",\"USA\",\"Japan\",\"France\",\"China\",\"South Korea\",\"Japan\",\"China\",\"USA\",\"Germany\",\"USA\",\"China\",\"Italy\",\"China\",\"United Kingdom\",\"Germany\",\"USA\",\"USA\",\"Italy\",\"France\",\"China\",\"United Kingdom\",\"USA\",\"France\",\"USA\",\"United Kingdom\",\"United Kingdom\",\"China\",\"China\",\"USA\",\"France\",\"China\",\"USA\",\"USA\",\"China\",\"USA\",\"Italy\",\"China\",\"Japan\",\"United Kingdom\",\"Italy\",\"China\",\"China\",\"USA\",\"USA\",\"USA\",\"United Kingdom\",\"China\",\"USA\",\"China\",\"Germany\",\"United Kingdom\",\"Italy\",\"USA\",\"USA\",\"France\",\"USA\",\"USA\",\"China\",\"USA\",\"USA\",\"USA\",\"Italy\",\"USA\",\"USA\",\"China\",\"USA\",\"USA\",\"USA\",\"China\",\"USA\",\"France\",\"Italy\",\"Germany\",\"Germany\",\"USA\",\"South Korea\",\"Germany\",\"China\",\"USA\",\"United Kingdom\",\"Germany\",\"United Kingdom\",\"China\",\"USA\",\"United Kingdom\",\"Italy\",\"Germany\",\"China\",\"France\",\"Germany\",\"China\",\"United Kingdom\",\"United Kingdom\",\"Italy\",\"United Kingdom\",\"China\",\"Brazil\",\"France\",\"USA\",\"USA\",\"USA\",\"United Kingdom\",\"USA\",\"Brazil\",\"Germany\",\"Italy\",\"China\",\"China\",\"South Korea\",\"Germany\",\"Germany\",\"USA\",\"USA\",\"China\",\"China\",\"Italy\",\"Germany\",\"South Korea\",\"USA\",\"China\",\"USA\",\"South Korea\",\"USA\",\"Italy\",\"China\",\"USA\",\"China\",\"India\",\"France\",\"South Korea\",\"USA\",\"Brazil\",\"China\",\"USA\",\"Japan\",\"USA\",\"China\",\"China\",\"USA\",\"South Korea\",\"Germany\",\"Italy\",\"USA\",\"Italy\",\"Japan\",\"France\",\"Japan\",\"USA\",\"China\",\"USA\",\"United Kingdom\",\"USA\",\"Italy\",\"South Korea\",\"Italy\",\"USA\",\"Germany\",\"Italy\",\"USA\",\"USA\",\"India\",\"USA\",\"USA\",\"USA\",\"USA\",\"China\",\"Italy\",\"USA\",\"China\",\"China\",\"China\",\"USA\",\"Brazil\",\"United Kingdom\",\"Italy\",\"Germany\",\"Germany\",\"China\",\"France\",\"USA\",\"Germany\",\"China\",\"China\",\"USA\",\"China\",\"USA\",\"France\",\"Germany\",\"USA\",\"USA\",\"Italy\",\"USA\",\"Brazil\",\"USA\",\"USA\",\"USA\",\"Italy\",\"United Kingdom\",\"United Kingdom\",\"China\",\"United Kingdom\",\"China\",\"Germany\",\"USA\",\"South Korea\",\"Germany\",\"USA\",\"Italy\",\"France\",\"Germany\",\"Japan\",\"China\",\"USA\",\"USA\",\"India\",\"France\",\"South Korea\",\"Japan\",\"China\",\"China\",\"USA\",\"India\",\"USA\",\"United Kingdom\",\"USA\",\"China\",\"France\",\"India\",\"China\",\"USA\",\"India\",\"USA\",\"China\",\"United Kingdom\",\"Italy\",\"USA\",\"United Kingdom\",\"USA\",\"France\",\"Italy\",\"Italy\",\"USA\",\"USA\",\"USA\",\"China\",\"China\",\"France\",\"USA\",\"Italy\",\"Italy\",\"China\",\"China\",\"Italy\",\"Italy\",\"Brazil\",\"China\",\"South Korea\",\"United Kingdom\",\"USA\",\"Germany\",\"China\",\"Brazil\",\"Italy\",\"India\",\"France\",\"France\",\"South Korea\",\"China\",\"Germany\",\"USA\",\"United Kingdom\",\"China\",\"China\",\"South Korea\",\"United Kingdom\",\"China\",\"USA\",\"China\",\"China\",\"China\",\"China\",\"China\",\"Germany\",\"USA\",\"South Korea\",\"Japan\",\"China\",\"Italy\",\"France\",\"United Kingdom\",\"USA\",\"USA\",\"Japan\",\"United Kingdom\",\"Italy\",\"Italy\",\"Japan\",\"USA\",\"Japan\",\"USA\",\"China\",\"USA\",\"China\",\"China\",\"USA\",\"China\",\"South Korea\",\"Japan\",\"China\",\"China\",\"Brazil\",\"United Kingdom\",\"USA\",\"South Korea\",\"Japan\",\"Germany\",\"China\",\"Germany\",\"India\",\"India\",\"USA\",\"China\",\"USA\",\"USA\",\"USA\",\"United Kingdom\",\"Italy\",\"USA\",\"France\",\"China\",\"Japan\",\"China\",\"China\",\"South Korea\",\"USA\",\"Brazil\",\"USA\",\"United Kingdom\",\"China\",\"USA\",\"South Korea\",\"China\",\"Japan\",\"China\",\"USA\",\"USA\",\"Italy\",\"Germany\",\"USA\",\"China\",\"Japan\",\"China\",\"Japan\",\"USA\",\"USA\",\"China\",\"United Kingdom\",\"China\",\"South Korea\",\"China\",\"China\",\"Germany\",\"China\",\"Germany\",\"South Korea\",\"France\",\"China\",\"China\",\"USA\",\"USA\",\"South Korea\",\"Brazil\",\"Italy\",\"France\",\"China\",\"USA\",\"China\",\"Germany\",\"China\",\"USA\",\"Germany\",\"South Korea\",\"China\",\"Germany\",\"France\",\"China\",\"China\",\"Italy\",\"Japan\",\"Japan\",\"Italy\",\"Brazil\",\"USA\",\"United Kingdom\",\"USA\",\"USA\",\"India\",\"Japan\",\"Italy\",\"USA\",\"India\",\"USA\",\"China\",\"Brazil\",\"France\",\"USA\",\"India\",\"Italy\",\"Japan\",\"United Kingdom\",\"Brazil\",\"USA\",\"USA\",\"USA\",\"United Kingdom\",\"USA\",\"United Kingdom\",\"France\",\"Japan\",\"India\",\"France\",\"India\",\"USA\",\"India\",\"USA\",\"Germany\",\"United Kingdom\",\"China\",\"China\",\"France\",\"USA\",\"Brazil\",\"China\",\"United Kingdom\",\"South Korea\",\"Italy\",\"USA\",\"China\",\"China\",\"China\",\"USA\",\"South Korea\",\"South Korea\",\"USA\",\"Japan\",\"United Kingdom\",\"Brazil\",\"Japan\",\"USA\",\"China\",\"South Korea\",\"United Kingdom\",\"USA\",\"China\",\"USA\",\"China\",\"United Kingdom\",\"United Kingdom\",\"USA\",\"Brazil\",\"Japan\",\"USA\",\"France\",\"France\",\"South Korea\",\"China\",\"United Kingdom\",\"United Kingdom\",\"Japan\",\"China\",\"USA\",\"Brazil\",\"Brazil\",\"Italy\",\"Japan\",\"USA\",\"USA\",\"South Korea\",\"India\",\"USA\",\"USA\",\"USA\",\"Japan\",\"China\",\"France\",\"China\",\"United Kingdom\",\"Italy\",\"USA\",\"China\",\"China\",\"Japan\",\"USA\",\"China\",\"Japan\",\"Brazil\",\"France\",\"Italy\",\"USA\",\"China\",\"China\",\"Japan\",\"USA\",\"Brazil\",\"USA\",\"China\",\"Brazil\",\"China\",\"China\",\"Japan\",\"China\",\"China\",\"South Korea\",\"China\",\"USA\",\"Brazil\",\"China\",\"USA\",\"USA\",\"Japan\",\"Japan\",\"Japan\",\"Germany\",\"France\",\"India\",\"China\",\"South Korea\",\"China\",\"China\",\"Brazil\",\"USA\",\"China\",\"USA\",\"USA\",\"Brazil\",\"USA\",\"Japan\",\"France\",\"Germany\",\"India\",\"USA\",\"China\",\"France\",\"China\",\"China\",\"China\",\"USA\",\"Germany\",\"Japan\",\"Japan\",\"Italy\",\"France\",\"Germany\",\"USA\",\"USA\",\"USA\",\"Brazil\",\"USA\",\"Japan\",\"USA\",\"USA\",\"South Korea\",\"Japan\",\"China\",\"USA\",\"China\",\"China\",\"Japan\",\"India\",\"Japan\",\"USA\",\"India\",\"United Kingdom\",\"United Kingdom\",\"USA\",\"India\",\"Japan\",\"Germany\",\"France\",\"United Kingdom\",\"USA\",\"USA\",\"Germany\",\"South Korea\",\"China\",\"USA\",\"India\",\"Japan\",\"China\",\"India\",\"China\",\"China\",\"USA\",\"Brazil\",\"USA\",\"USA\",\"USA\",\"India\",\"Japan\",\"Japan\",\"France\",\"China\",\"USA\",\"USA\",\"USA\",\"South Korea\",\"USA\",\"USA\",\"Germany\",\"Italy\",\"China\",\"Germany\",\"Japan\",\"India\",\"USA\",\"USA\",\"China\",\"France\",\"Italy\",\"Japan\",\"USA\",\"USA\",\"Japan\",\"China\",\"United Kingdom\",\"China\",\"China\",\"USA\",\"USA\",\"USA\",\"India\",\"Japan\",\"USA\",\"Brazil\",\"USA\",\"China\",\"USA\",\"China\",\"Japan\",\"Japan\",\"Japan\",\"Brazil\",\"France\",\"United Kingdom\",\"France\",\"USA\",\"China\",\"China\",\"South Korea\",\"China\",\"United Kingdom\",\"USA\",\"France\",\"China\",\"Japan\",\"Brazil\",\"China\",\"China\",\"China\",\"South Korea\",\"India\",\"Italy\",\"USA\",\"Japan\",\"Brazil\",\"Japan\",\"Japan\",\"USA\",\"China\",\"United Kingdom\",\"Japan\",\"Italy\",\"China\",\"France\",\"Japan\",\"China\",\"India\",\"Japan\",\"Italy\",\"China\",\"Brazil\",\"USA\",\"USA\",\"Japan\",\"Italy\",\"Brazil\",\"China\",\"India\",\"United Kingdom\",\"Italy\",\"France\",\"Japan\",\"Brazil\",\"China\",\"USA\",\"South Korea\",\"USA\",\"China\",\"France\",\"USA\",\"France\",\"Japan\",\"Japan\",\"China\",\"Japan\",\"China\",\"China\",\"Italy\",\"Japan\",\"South Korea\",\"China\",\"Japan\",\"Brazil\",\"China\",\"China\",\"South Korea\",\"China\",\"France\",\"United Kingdom\",\"United Kingdom\",\"Japan\",\"United Kingdom\",\"Japan\",\"China\",\"France\",\"China\",\"USA\",\"USA\",\"United Kingdom\",\"China\",\"USA\",\"USA\",\"Japan\",\"France\",\"India\",\"Japan\",\"France\",\"China\",\"China\",\"India\",\"China\",\"Japan\",\"China\",\"India\",\"France\",\"Brazil\",\"USA\",\"USA\",\"South Korea\",\"United Kingdom\",\"India\",\"USA\",\"China\",\"Japan\",\"South Korea\",\"China\",\"China\",\"USA\",\"Germany\",\"USA\",\"China\",\"China\",\"Japan\",\"Brazil\",\"USA\",\"USA\",\"Brazil\",\"USA\",\"China\",\"USA\",\"Japan\",\"China\",\"China\",\"Japan\",\"Japan\",\"China\",\"Germany\",\"Germany\",\"Japan\",\"China\",\"USA\",\"USA\",\"France\",\"USA\",\"Germany\",\"China\",\"United Kingdom\",\"Italy\",\"Germany\",\"Germany\",\"Japan\",\"USA\",\"China\",\"Japan\",\"France\",\"China\",\"USA\",\"United Kingdom\",\"United Kingdom\",\"Brazil\",\"South Korea\",\"USA\",\"South Korea\",\"Japan\",\"France\",\"China\",\"Brazil\",\"USA\",\"France\",\"USA\",\"USA\",\"South Korea\",\"Japan\",\"Japan\",\"China\",\"China\",\"USA\",\"Italy\",\"China\",\"South Korea\",\"USA\",\"China\",\"USA\",\"USA\",\"United Kingdom\",\"India\",\"India\",\"China\",\"Brazil\",\"India\",\"Japan\",\"Brazil\",\"Japan\",\"India\",\"China\",\"United Kingdom\",\"China\",\"USA\",\"USA\",\"China\",\"Brazil\",\"India\",\"China\",\"China\",\"United Kingdom\",\"China\",\"USA\",\"India\",\"USA\",\"USA\",\"China\",\"China\",\"India\",\"China\",\"United Kingdom\",\"China\",\"China\",\"China\",\"Germany\",\"Japan\",\"United Kingdom\",\"India\",\"USA\",\"France\",\"China\",\"Japan\",\"South Korea\",\"South Korea\",\"Brazil\",\"USA\",\"Japan\",\"China\",\"USA\",\"China\",\"Japan\",\"India\",\"China\",\"China\",\"USA\",\"South Korea\",\"China\",\"India\",\"USA\",\"South Korea\",\"Japan\",\"France\",\"India\",\"China\",\"USA\",\"USA\",\"China\",\"USA\",\"China\",\"United Kingdom\",\"United Kingdom\",\"France\",\"USA\",\"Italy\",\"USA\",\"USA\",\"Japan\",\"China\",\"China\",\"China\",\"India\",\"China\",\"USA\",\"USA\",\"United Kingdom\",\"Japan\",\"India\",\"China\",\"India\",\"USA\",\"China\",\"France\",\"United Kingdom\",\"USA\",\"Brazil\",\"Brazil\",\"China\",\"Japan\",\"USA\",\"USA\",\"India\",\"India\",\"USA\",\"China\",\"South Korea\",\"China\",\"India\",\"Italy\",\"USA\",\"China\",\"USA\",\"USA\",\"China\",\"Japan\",\"USA\",\"South Korea\",\"USA\",\"United Kingdom\",\"Japan\",\"Germany\",\"USA\",\"France\",\"South Korea\",\"Italy\",\"France\",\"Japan\",\"Brazil\",\"Japan\",\"USA\",\"China\",\"Japan\",\"France\",\"South Korea\",\"Japan\",\"China\",\"France\",\"Germany\",\"Italy\",\"Japan\",\"USA\",\"China\",\"China\",\"China\",\"India\",\"France\",\"China\",\"Brazil\",\"Italy\",\"South Korea\",\"China\",\"Japan\",\"India\",\"USA\",\"USA\",\"China\",\"Brazil\",\"United Kingdom\",\"Japan\",\"China\",\"USA\",\"Japan\",\"China\",\"USA\",\"China\",\"Brazil\",\"Japan\",\"Japan\",\"Brazil\",\"China\",\"USA\",\"China\",\"China\",\"Japan\",\"France\",\"India\",\"USA\",\"Japan\",\"USA\",\"United Kingdom\",\"India\",\"India\",\"France\",\"USA\",\"China\",\"India\",\"Italy\",\"Japan\",\"Brazil\",\"France\",\"India\",\"USA\",\"China\",\"France\",\"USA\",\"Brazil\",\"India\",\"South Korea\",\"USA\",\"China\",\"USA\",\"China\",\"USA\",\"United Kingdom\",\"India\",\"China\",\"Japan\",\"India\",\"China\",\"China\",\"China\",\"United Kingdom\",\"USA\",\"Brazil\",\"Japan\",\"China\",\"Japan\",\"Japan\",\"India\",\"China\",\"China\",\"South Korea\",\"Germany\",\"USA\",\"China\",\"China\",\"South Korea\",\"China\",\"USA\",\"Japan\",\"Brazil\",\"India\",\"China\",\"India\",\"China\",\"USA\",\"United Kingdom\",\"Japan\",\"China\",\"USA\",\"India\",\"China\",\"Italy\",\"United Kingdom\",\"China\",\"China\",\"China\",\"India\",\"India\",\"USA\",\"Japan\",\"China\",\"India\",\"China\",\"USA\",\"USA\",\"USA\",\"USA\",\"India\",\"Brazil\",\"China\",\"China\",\"China\"],\"xaxis\":\"x\",\"yaxis\":\"y\"}],                        {\"barmode\":\"relative\",\"legend\":{\"tracegroupgap\":0},\"template\":{\"data\":{\"bar\":[{\"error_x\":{\"color\":\"#2a3f5f\"},\"error_y\":{\"color\":\"#2a3f5f\"},\"marker\":{\"line\":{\"color\":\"#E5ECF6\",\"width\":0.5},\"pattern\":{\"fillmode\":\"overlay\",\"size\":10,\"solidity\":0.2}},\"type\":\"bar\"}],\"barpolar\":[{\"marker\":{\"line\":{\"color\":\"#E5ECF6\",\"width\":0.5},\"pattern\":{\"fillmode\":\"overlay\",\"size\":10,\"solidity\":0.2}},\"type\":\"barpolar\"}],\"carpet\":[{\"aaxis\":{\"endlinecolor\":\"#2a3f5f\",\"gridcolor\":\"white\",\"linecolor\":\"white\",\"minorgridcolor\":\"white\",\"startlinecolor\":\"#2a3f5f\"},\"baxis\":{\"endlinecolor\":\"#2a3f5f\",\"gridcolor\":\"white\",\"linecolor\":\"white\",\"minorgridcolor\":\"white\",\"startlinecolor\":\"#2a3f5f\"},\"type\":\"carpet\"}],\"choropleth\":[{\"colorbar\":{\"outlinewidth\":0,\"ticks\":\"\"},\"type\":\"choropleth\"}],\"contour\":[{\"colorbar\":{\"outlinewidth\":0,\"ticks\":\"\"},\"colorscale\":[[0.0,\"#0d0887\"],[0.1111111111111111,\"#46039f\"],[0.2222222222222222,\"#7201a8\"],[0.3333333333333333,\"#9c179e\"],[0.4444444444444444,\"#bd3786\"],[0.5555555555555556,\"#d8576b\"],[0.6666666666666666,\"#ed7953\"],[0.7777777777777778,\"#fb9f3a\"],[0.8888888888888888,\"#fdca26\"],[1.0,\"#f0f921\"]],\"type\":\"contour\"}],\"contourcarpet\":[{\"colorbar\":{\"outlinewidth\":0,\"ticks\":\"\"},\"type\":\"contourcarpet\"}],\"heatmap\":[{\"colorbar\":{\"outlinewidth\":0,\"ticks\":\"\"},\"colorscale\":[[0.0,\"#0d0887\"],[0.1111111111111111,\"#46039f\"],[0.2222222222222222,\"#7201a8\"],[0.3333333333333333,\"#9c179e\"],[0.4444444444444444,\"#bd3786\"],[0.5555555555555556,\"#d8576b\"],[0.6666666666666666,\"#ed7953\"],[0.7777777777777778,\"#fb9f3a\"],[0.8888888888888888,\"#fdca26\"],[1.0,\"#f0f921\"]],\"type\":\"heatmap\"}],\"heatmapgl\":[{\"colorbar\":{\"outlinewidth\":0,\"ticks\":\"\"},\"colorscale\":[[0.0,\"#0d0887\"],[0.1111111111111111,\"#46039f\"],[0.2222222222222222,\"#7201a8\"],[0.3333333333333333,\"#9c179e\"],[0.4444444444444444,\"#bd3786\"],[0.5555555555555556,\"#d8576b\"],[0.6666666666666666,\"#ed7953\"],[0.7777777777777778,\"#fb9f3a\"],[0.8888888888888888,\"#fdca26\"],[1.0,\"#f0f921\"]],\"type\":\"heatmapgl\"}],\"histogram\":[{\"marker\":{\"pattern\":{\"fillmode\":\"overlay\",\"size\":10,\"solidity\":0.2}},\"type\":\"histogram\"}],\"histogram2d\":[{\"colorbar\":{\"outlinewidth\":0,\"ticks\":\"\"},\"colorscale\":[[0.0,\"#0d0887\"],[0.1111111111111111,\"#46039f\"],[0.2222222222222222,\"#7201a8\"],[0.3333333333333333,\"#9c179e\"],[0.4444444444444444,\"#bd3786\"],[0.5555555555555556,\"#d8576b\"],[0.6666666666666666,\"#ed7953\"],[0.7777777777777778,\"#fb9f3a\"],[0.8888888888888888,\"#fdca26\"],[1.0,\"#f0f921\"]],\"type\":\"histogram2d\"}],\"histogram2dcontour\":[{\"colorbar\":{\"outlinewidth\":0,\"ticks\":\"\"},\"colorscale\":[[0.0,\"#0d0887\"],[0.1111111111111111,\"#46039f\"],[0.2222222222222222,\"#7201a8\"],[0.3333333333333333,\"#9c179e\"],[0.4444444444444444,\"#bd3786\"],[0.5555555555555556,\"#d8576b\"],[0.6666666666666666,\"#ed7953\"],[0.7777777777777778,\"#fb9f3a\"],[0.8888888888888888,\"#fdca26\"],[1.0,\"#f0f921\"]],\"type\":\"histogram2dcontour\"}],\"mesh3d\":[{\"colorbar\":{\"outlinewidth\":0,\"ticks\":\"\"},\"type\":\"mesh3d\"}],\"parcoords\":[{\"line\":{\"colorbar\":{\"outlinewidth\":0,\"ticks\":\"\"}},\"type\":\"parcoords\"}],\"pie\":[{\"automargin\":true,\"type\":\"pie\"}],\"scatter\":[{\"marker\":{\"colorbar\":{\"outlinewidth\":0,\"ticks\":\"\"}},\"type\":\"scatter\"}],\"scatter3d\":[{\"line\":{\"colorbar\":{\"outlinewidth\":0,\"ticks\":\"\"}},\"marker\":{\"colorbar\":{\"outlinewidth\":0,\"ticks\":\"\"}},\"type\":\"scatter3d\"}],\"scattercarpet\":[{\"marker\":{\"colorbar\":{\"outlinewidth\":0,\"ticks\":\"\"}},\"type\":\"scattercarpet\"}],\"scattergeo\":[{\"marker\":{\"colorbar\":{\"outlinewidth\":0,\"ticks\":\"\"}},\"type\":\"scattergeo\"}],\"scattergl\":[{\"marker\":{\"colorbar\":{\"outlinewidth\":0,\"ticks\":\"\"}},\"type\":\"scattergl\"}],\"scattermapbox\":[{\"marker\":{\"colorbar\":{\"outlinewidth\":0,\"ticks\":\"\"}},\"type\":\"scattermapbox\"}],\"scatterpolar\":[{\"marker\":{\"colorbar\":{\"outlinewidth\":0,\"ticks\":\"\"}},\"type\":\"scatterpolar\"}],\"scatterpolargl\":[{\"marker\":{\"colorbar\":{\"outlinewidth\":0,\"ticks\":\"\"}},\"type\":\"scatterpolargl\"}],\"scatterternary\":[{\"marker\":{\"colorbar\":{\"outlinewidth\":0,\"ticks\":\"\"}},\"type\":\"scatterternary\"}],\"surface\":[{\"colorbar\":{\"outlinewidth\":0,\"ticks\":\"\"},\"colorscale\":[[0.0,\"#0d0887\"],[0.1111111111111111,\"#46039f\"],[0.2222222222222222,\"#7201a8\"],[0.3333333333333333,\"#9c179e\"],[0.4444444444444444,\"#bd3786\"],[0.5555555555555556,\"#d8576b\"],[0.6666666666666666,\"#ed7953\"],[0.7777777777777778,\"#fb9f3a\"],[0.8888888888888888,\"#fdca26\"],[1.0,\"#f0f921\"]],\"type\":\"surface\"}],\"table\":[{\"cells\":{\"fill\":{\"color\":\"#EBF0F8\"},\"line\":{\"color\":\"white\"}},\"header\":{\"fill\":{\"color\":\"#C8D4E3\"},\"line\":{\"color\":\"white\"}},\"type\":\"table\"}]},\"layout\":{\"annotationdefaults\":{\"arrowcolor\":\"#2a3f5f\",\"arrowhead\":0,\"arrowwidth\":1},\"autotypenumbers\":\"strict\",\"coloraxis\":{\"colorbar\":{\"outlinewidth\":0,\"ticks\":\"\"}},\"colorscale\":{\"diverging\":[[0,\"#8e0152\"],[0.1,\"#c51b7d\"],[0.2,\"#de77ae\"],[0.3,\"#f1b6da\"],[0.4,\"#fde0ef\"],[0.5,\"#f7f7f7\"],[0.6,\"#e6f5d0\"],[0.7,\"#b8e186\"],[0.8,\"#7fbc41\"],[0.9,\"#4d9221\"],[1,\"#276419\"]],\"sequential\":[[0.0,\"#0d0887\"],[0.1111111111111111,\"#46039f\"],[0.2222222222222222,\"#7201a8\"],[0.3333333333333333,\"#9c179e\"],[0.4444444444444444,\"#bd3786\"],[0.5555555555555556,\"#d8576b\"],[0.6666666666666666,\"#ed7953\"],[0.7777777777777778,\"#fb9f3a\"],[0.8888888888888888,\"#fdca26\"],[1.0,\"#f0f921\"]],\"sequentialminus\":[[0.0,\"#0d0887\"],[0.1111111111111111,\"#46039f\"],[0.2222222222222222,\"#7201a8\"],[0.3333333333333333,\"#9c179e\"],[0.4444444444444444,\"#bd3786\"],[0.5555555555555556,\"#d8576b\"],[0.6666666666666666,\"#ed7953\"],[0.7777777777777778,\"#fb9f3a\"],[0.8888888888888888,\"#fdca26\"],[1.0,\"#f0f921\"]]},\"colorway\":[\"#636efa\",\"#EF553B\",\"#00cc96\",\"#ab63fa\",\"#FFA15A\",\"#19d3f3\",\"#FF6692\",\"#B6E880\",\"#FF97FF\",\"#FECB52\"],\"font\":{\"color\":\"#2a3f5f\"},\"geo\":{\"bgcolor\":\"white\",\"lakecolor\":\"white\",\"landcolor\":\"#E5ECF6\",\"showlakes\":true,\"showland\":true,\"subunitcolor\":\"white\"},\"hoverlabel\":{\"align\":\"left\"},\"hovermode\":\"closest\",\"mapbox\":{\"style\":\"light\"},\"paper_bgcolor\":\"white\",\"plot_bgcolor\":\"#E5ECF6\",\"polar\":{\"angularaxis\":{\"gridcolor\":\"white\",\"linecolor\":\"white\",\"ticks\":\"\"},\"bgcolor\":\"#E5ECF6\",\"radialaxis\":{\"gridcolor\":\"white\",\"linecolor\":\"white\",\"ticks\":\"\"}},\"scene\":{\"xaxis\":{\"backgroundcolor\":\"#E5ECF6\",\"gridcolor\":\"white\",\"gridwidth\":2,\"linecolor\":\"white\",\"showbackground\":true,\"ticks\":\"\",\"zerolinecolor\":\"white\"},\"yaxis\":{\"backgroundcolor\":\"#E5ECF6\",\"gridcolor\":\"white\",\"gridwidth\":2,\"linecolor\":\"white\",\"showbackground\":true,\"ticks\":\"\",\"zerolinecolor\":\"white\"},\"zaxis\":{\"backgroundcolor\":\"#E5ECF6\",\"gridcolor\":\"white\",\"gridwidth\":2,\"linecolor\":\"white\",\"showbackground\":true,\"ticks\":\"\",\"zerolinecolor\":\"white\"}},\"shapedefaults\":{\"line\":{\"color\":\"#2a3f5f\"}},\"ternary\":{\"aaxis\":{\"gridcolor\":\"white\",\"linecolor\":\"white\",\"ticks\":\"\"},\"baxis\":{\"gridcolor\":\"white\",\"linecolor\":\"white\",\"ticks\":\"\"},\"bgcolor\":\"#E5ECF6\",\"caxis\":{\"gridcolor\":\"white\",\"linecolor\":\"white\",\"ticks\":\"\"}},\"title\":{\"x\":0.05},\"xaxis\":{\"automargin\":true,\"gridcolor\":\"white\",\"linecolor\":\"white\",\"ticks\":\"\",\"title\":{\"standoff\":15},\"zerolinecolor\":\"white\",\"zerolinewidth\":2},\"yaxis\":{\"automargin\":true,\"gridcolor\":\"white\",\"linecolor\":\"white\",\"ticks\":\"\",\"title\":{\"standoff\":15},\"zerolinecolor\":\"white\",\"zerolinewidth\":2}}},\"title\":{\"text\":\"AMOUNT OF UNIVERSITIES PER COUNTRY\"},\"xaxis\":{\"anchor\":\"y\",\"domain\":[0.0,1.0],\"title\":{\"text\":\"Country\"}},\"yaxis\":{\"anchor\":\"x\",\"domain\":[0.0,1.0],\"title\":{\"text\":\"count\"}}},                        {\"responsive\": true}                    ).then(function(){\n",
       "                            \n",
       "var gd = document.getElementById('bfa6d6fc-7240-48b9-8c49-cbf7c7ad5c86');\n",
       "var x = new MutationObserver(function (mutations, observer) {{\n",
       "        var display = window.getComputedStyle(gd).display;\n",
       "        if (!display || display === 'none') {{\n",
       "            console.log([gd, 'removed!']);\n",
       "            Plotly.purge(gd);\n",
       "            observer.disconnect();\n",
       "        }}\n",
       "}});\n",
       "\n",
       "// Listen for the removal of the full notebook cells\n",
       "var notebookContainer = gd.closest('#notebook-container');\n",
       "if (notebookContainer) {{\n",
       "    x.observe(notebookContainer, {childList: true});\n",
       "}}\n",
       "\n",
       "// Listen for the clearing of the current output cell\n",
       "var outputEl = gd.closest('.output');\n",
       "if (outputEl) {{\n",
       "    x.observe(outputEl, {childList: true});\n",
       "}}\n",
       "\n",
       "                        })                };                });            </script>        </div>"
      ]
     },
     "metadata": {},
     "output_type": "display_data"
    }
   ],
   "source": [
    "uni.show()"
   ]
  },
  {
   "cell_type": "code",
   "execution_count": 95,
   "id": "66232120",
   "metadata": {},
   "outputs": [
    {
     "data": {
      "application/vnd.plotly.v1+json": {
       "config": {
        "plotlyServerURL": "https://plot.ly"
       },
       "data": [
        {
         "alignmentgroup": "True",
         "bingroup": "x",
         "hovertemplate": "Country of origin=%{x}<br>count=%{y}<extra></extra>",
         "legendgroup": "",
         "marker": {
          "color": "#636efa",
          "pattern": {
           "shape": ""
          }
         },
         "name": "",
         "offsetgroup": "",
         "orientation": "v",
         "showlegend": false,
         "type": "histogram",
         "x": [
          "China",
          "United States",
          "United States",
          "China",
          "United States",
          "Brazil",
          "United States",
          "United States",
          "United States",
          "India",
          "India",
          "China",
          "China",
          "China",
          "United Kingdom",
          "United States",
          "United States",
          "United States",
          "China",
          "United States",
          "China",
          "China",
          "United States",
          "United States",
          "United Kingdom",
          "Germany",
          "United States",
          "United States",
          "United States",
          "United States",
          "United States",
          "United States",
          "China",
          "India",
          "United States",
          "United States",
          "United States",
          "China",
          "United States",
          "United States",
          "United States",
          "United States",
          "China",
          "United States",
          "United States",
          "United States",
          "United States",
          "China",
          "India",
          "United States",
          "India",
          "United States",
          "China",
          "United States",
          "United States",
          "China",
          "United States",
          "United States",
          "China",
          "China",
          "United States",
          "United States",
          "United Kingdom",
          "United Kingdom",
          "India",
          "United States",
          "Germany",
          "United Kingdom",
          "United States",
          "United States",
          "United Kingdom",
          "China",
          "China",
          "India",
          "South Korea",
          "United States",
          "United States",
          "China",
          "India",
          "United States",
          "United Kingdom",
          "United States",
          "United States",
          "United States",
          "United States",
          "China",
          "United States",
          "China",
          "United States",
          "China",
          "United States",
          "United States",
          "United States",
          "United States",
          "Canada",
          "United States",
          "United States",
          "South Korea",
          "China",
          "United States",
          "United Kingdom",
          "United States",
          "United States",
          "United States",
          "United States",
          "Canada",
          "United States",
          "United States",
          "United States",
          "Brazil",
          "United States",
          "United States",
          "United States",
          "United States",
          "United States",
          "United States",
          "United States",
          "United States",
          "United States",
          "Germany",
          "United States",
          "United States",
          "Germany",
          "United Kingdom",
          "China",
          "China",
          "United States",
          "United States",
          "United States",
          "United States",
          "United States",
          "China",
          "China",
          "United States",
          "United States",
          "United States",
          "United States",
          "France",
          "China",
          "India",
          "United States",
          "United States",
          "China",
          "United States",
          "China",
          "China",
          "China",
          "United Kingdom",
          "United States",
          "China",
          "United States",
          "United States",
          "China",
          "Brazil",
          "India",
          "United States",
          "United States",
          "United States",
          "United States",
          "India",
          "United States",
          "India",
          "Germany",
          "United States",
          "United States",
          "Brazil",
          "United States",
          "United States",
          "China",
          "United Kingdom",
          "United States",
          "United States",
          "France",
          "United States",
          "United Kingdom",
          "United States",
          "United States",
          "United States",
          "United States",
          "South Korea",
          "Canada",
          "China",
          "United States",
          "China",
          "China",
          "United Kingdom",
          "United Kingdom",
          "United States",
          "China",
          "China",
          "United States",
          "India",
          "United States",
          "United States",
          "United States",
          "United Kingdom",
          "South Korea",
          "United States",
          "United States",
          "United States",
          "United States",
          "United States",
          "United States",
          "India",
          "China",
          "United States",
          "United States",
          "United States",
          "Germany",
          "United States",
          "United States",
          "South Korea",
          "United States",
          "India",
          "United States",
          "China",
          "China",
          "United States",
          "United States",
          "India",
          "Brazil",
          "United States",
          "United States",
          "India",
          "India",
          "United States",
          "Germany",
          "United States",
          "China",
          "France",
          "United States",
          "China",
          "United States",
          "United Kingdom",
          "China",
          "United States",
          "China",
          "United States",
          "United States",
          "China",
          "United States",
          "United Kingdom",
          "China",
          "United States",
          "United States",
          "United States",
          "China",
          "China",
          "United States",
          "United States",
          "India",
          "China",
          "United States",
          "United States",
          "United States",
          "United States",
          "United States",
          "China",
          "Israel",
          "Germany",
          "Canada",
          "United States",
          "India",
          "United States",
          "United States",
          "United States",
          "United States",
          "United States",
          "United Kingdom",
          "United States",
          "India",
          "China",
          "Israel",
          "United States",
          "United States",
          "India",
          "United States",
          "United States",
          "China",
          "United States",
          "United States",
          "United States",
          "China",
          "United States",
          "United States",
          "Brazil",
          "Canada",
          "China",
          "United States",
          "United States",
          "United States",
          "United States",
          "United States",
          "United States",
          "United States",
          "Brazil",
          "United States",
          "United States",
          "Germany",
          "United States",
          "United States",
          "Israel",
          "United States",
          "United States",
          "France",
          "United States",
          "Germany",
          "United States",
          "China",
          "China",
          "United Kingdom",
          "United States",
          "China",
          "United States",
          "United States",
          "United States",
          "China",
          "United States",
          "United States",
          "United States",
          "United States",
          "Canada",
          "United States",
          "United States",
          "United States",
          "China",
          "United States",
          "China",
          "United States",
          "Israel",
          "China",
          "China",
          "Israel",
          "China",
          "United States",
          "China",
          "China",
          "China",
          "China",
          "United States",
          "United States",
          "United States",
          "India",
          "United States",
          "Canada",
          "France",
          "United States",
          "United States",
          "United States",
          "United States",
          "United States",
          "United States",
          "United States",
          "United States",
          "United States",
          "United States",
          "United States",
          "France",
          "China",
          "China",
          "China",
          "China",
          "China",
          "China",
          "United Kingdom",
          "United States",
          "United States",
          "United States",
          "China",
          "United States",
          "China",
          "China",
          "France",
          "United States",
          "France",
          "United States",
          "United States",
          "United States",
          "India",
          "United States",
          "United States",
          "United States",
          "United States",
          "United States",
          "Germany",
          "France",
          "China",
          "United States",
          "United States",
          "Israel",
          "United States",
          "United States",
          "United States",
          "South Korea",
          "China",
          "United States",
          "United States",
          "United States",
          "United States",
          "United States",
          "United States",
          "Israel",
          "United States",
          "United States",
          "China",
          "United States",
          "United States",
          "United States",
          "United States",
          "United States",
          "United States",
          "United States",
          "United Kingdom",
          "China",
          "United States",
          "United States",
          "United States",
          "United States",
          "United States",
          "United States",
          "United Kingdom",
          "United States",
          "China",
          "China",
          "United States",
          "United States",
          "United States",
          "United States",
          "United States",
          "United States",
          "United States",
          "United States",
          "United States",
          "United States",
          "United States",
          "United States",
          "Israel",
          "United States",
          "United States",
          "United States",
          "Canada",
          "United States",
          "United States",
          "United States",
          "South Korea",
          "China",
          "China",
          "United States",
          "China",
          "United States",
          "China",
          "United States",
          "China",
          "United States",
          "France",
          "Germany",
          "China",
          "United States",
          "United States",
          "China",
          "France",
          "United States",
          "Germany",
          "United States",
          "Canada",
          "United States",
          "United States",
          "United States",
          "United States",
          "United States",
          "United Kingdom",
          "United States",
          "United States",
          "United States",
          "United States",
          "China",
          "China",
          "United States",
          "United Kingdom",
          "India",
          "United States",
          "China",
          "United States",
          "China",
          "United States",
          "United States",
          "South Korea",
          "Israel",
          "China",
          "United States",
          "India",
          "United States",
          "India",
          "China",
          "United States",
          "China",
          "China",
          "China",
          "United Kingdom",
          "China",
          "United States",
          "China",
          "China",
          "China",
          "China",
          "China",
          "China",
          "United States",
          "United States",
          "United States",
          "China",
          "China",
          "United States",
          "China",
          "China",
          "China",
          "China",
          "United States",
          "United States",
          "United States",
          "China",
          "United States",
          "China",
          "China",
          "China",
          "China",
          "United States",
          "Brazil",
          "China",
          "United States",
          "China",
          "Germany",
          "China",
          "China",
          "United States",
          "China",
          "United States",
          "China",
          "China",
          "Germany",
          "China",
          "United States",
          "Brazil",
          "China",
          "United States",
          "United States",
          "France",
          "China",
          "China",
          "United States",
          "China",
          "China",
          "Brazil",
          "South Korea",
          "United States",
          "France",
          "China",
          "India",
          "Israel",
          "United States",
          "United States",
          "United Kingdom",
          "United States",
          "Brazil",
          "United States",
          "China",
          "United States",
          "United States",
          "United States",
          "United States",
          "United States",
          "United States",
          "United States",
          "United States",
          "Germany",
          "United States",
          "United States",
          "United States",
          "United States",
          "United States",
          "United States",
          "South Korea",
          "United States",
          "United States",
          "United Kingdom",
          "Israel",
          "India",
          "United States",
          "United States",
          "United States",
          "United States",
          "United States",
          "China",
          "United States",
          "India",
          "United States",
          "United States",
          "United States",
          "Brazil",
          "Germany",
          "United Kingdom",
          "United States",
          "United States",
          "Israel",
          "United States",
          "United States",
          "United States",
          "United States",
          "China",
          "United States",
          "India",
          "United States",
          "France",
          "United States",
          "United States",
          "Israel",
          "United States",
          "United States",
          "United States",
          "United States",
          "Canada",
          "United States",
          "Germany",
          "China",
          "United States",
          "United States",
          "India",
          "United States",
          "United States",
          "United States",
          "United States",
          "United States",
          "United Kingdom",
          "United States",
          "United States",
          "United States",
          "United States",
          "United States",
          "Canada",
          "France",
          "United States",
          "United States",
          "United States",
          "United States",
          "United States",
          "United States",
          "United States",
          "Israel",
          "United States"
         ],
         "xaxis": "x",
         "yaxis": "y"
        }
       ],
       "layout": {
        "barmode": "relative",
        "legend": {
         "tracegroupgap": 0
        },
        "template": {
         "data": {
          "bar": [
           {
            "error_x": {
             "color": "#2a3f5f"
            },
            "error_y": {
             "color": "#2a3f5f"
            },
            "marker": {
             "line": {
              "color": "#E5ECF6",
              "width": 0.5
             },
             "pattern": {
              "fillmode": "overlay",
              "size": 10,
              "solidity": 0.2
             }
            },
            "type": "bar"
           }
          ],
          "barpolar": [
           {
            "marker": {
             "line": {
              "color": "#E5ECF6",
              "width": 0.5
             },
             "pattern": {
              "fillmode": "overlay",
              "size": 10,
              "solidity": 0.2
             }
            },
            "type": "barpolar"
           }
          ],
          "carpet": [
           {
            "aaxis": {
             "endlinecolor": "#2a3f5f",
             "gridcolor": "white",
             "linecolor": "white",
             "minorgridcolor": "white",
             "startlinecolor": "#2a3f5f"
            },
            "baxis": {
             "endlinecolor": "#2a3f5f",
             "gridcolor": "white",
             "linecolor": "white",
             "minorgridcolor": "white",
             "startlinecolor": "#2a3f5f"
            },
            "type": "carpet"
           }
          ],
          "choropleth": [
           {
            "colorbar": {
             "outlinewidth": 0,
             "ticks": ""
            },
            "type": "choropleth"
           }
          ],
          "contour": [
           {
            "colorbar": {
             "outlinewidth": 0,
             "ticks": ""
            },
            "colorscale": [
             [
              0,
              "#0d0887"
             ],
             [
              0.1111111111111111,
              "#46039f"
             ],
             [
              0.2222222222222222,
              "#7201a8"
             ],
             [
              0.3333333333333333,
              "#9c179e"
             ],
             [
              0.4444444444444444,
              "#bd3786"
             ],
             [
              0.5555555555555556,
              "#d8576b"
             ],
             [
              0.6666666666666666,
              "#ed7953"
             ],
             [
              0.7777777777777778,
              "#fb9f3a"
             ],
             [
              0.8888888888888888,
              "#fdca26"
             ],
             [
              1,
              "#f0f921"
             ]
            ],
            "type": "contour"
           }
          ],
          "contourcarpet": [
           {
            "colorbar": {
             "outlinewidth": 0,
             "ticks": ""
            },
            "type": "contourcarpet"
           }
          ],
          "heatmap": [
           {
            "colorbar": {
             "outlinewidth": 0,
             "ticks": ""
            },
            "colorscale": [
             [
              0,
              "#0d0887"
             ],
             [
              0.1111111111111111,
              "#46039f"
             ],
             [
              0.2222222222222222,
              "#7201a8"
             ],
             [
              0.3333333333333333,
              "#9c179e"
             ],
             [
              0.4444444444444444,
              "#bd3786"
             ],
             [
              0.5555555555555556,
              "#d8576b"
             ],
             [
              0.6666666666666666,
              "#ed7953"
             ],
             [
              0.7777777777777778,
              "#fb9f3a"
             ],
             [
              0.8888888888888888,
              "#fdca26"
             ],
             [
              1,
              "#f0f921"
             ]
            ],
            "type": "heatmap"
           }
          ],
          "heatmapgl": [
           {
            "colorbar": {
             "outlinewidth": 0,
             "ticks": ""
            },
            "colorscale": [
             [
              0,
              "#0d0887"
             ],
             [
              0.1111111111111111,
              "#46039f"
             ],
             [
              0.2222222222222222,
              "#7201a8"
             ],
             [
              0.3333333333333333,
              "#9c179e"
             ],
             [
              0.4444444444444444,
              "#bd3786"
             ],
             [
              0.5555555555555556,
              "#d8576b"
             ],
             [
              0.6666666666666666,
              "#ed7953"
             ],
             [
              0.7777777777777778,
              "#fb9f3a"
             ],
             [
              0.8888888888888888,
              "#fdca26"
             ],
             [
              1,
              "#f0f921"
             ]
            ],
            "type": "heatmapgl"
           }
          ],
          "histogram": [
           {
            "marker": {
             "pattern": {
              "fillmode": "overlay",
              "size": 10,
              "solidity": 0.2
             }
            },
            "type": "histogram"
           }
          ],
          "histogram2d": [
           {
            "colorbar": {
             "outlinewidth": 0,
             "ticks": ""
            },
            "colorscale": [
             [
              0,
              "#0d0887"
             ],
             [
              0.1111111111111111,
              "#46039f"
             ],
             [
              0.2222222222222222,
              "#7201a8"
             ],
             [
              0.3333333333333333,
              "#9c179e"
             ],
             [
              0.4444444444444444,
              "#bd3786"
             ],
             [
              0.5555555555555556,
              "#d8576b"
             ],
             [
              0.6666666666666666,
              "#ed7953"
             ],
             [
              0.7777777777777778,
              "#fb9f3a"
             ],
             [
              0.8888888888888888,
              "#fdca26"
             ],
             [
              1,
              "#f0f921"
             ]
            ],
            "type": "histogram2d"
           }
          ],
          "histogram2dcontour": [
           {
            "colorbar": {
             "outlinewidth": 0,
             "ticks": ""
            },
            "colorscale": [
             [
              0,
              "#0d0887"
             ],
             [
              0.1111111111111111,
              "#46039f"
             ],
             [
              0.2222222222222222,
              "#7201a8"
             ],
             [
              0.3333333333333333,
              "#9c179e"
             ],
             [
              0.4444444444444444,
              "#bd3786"
             ],
             [
              0.5555555555555556,
              "#d8576b"
             ],
             [
              0.6666666666666666,
              "#ed7953"
             ],
             [
              0.7777777777777778,
              "#fb9f3a"
             ],
             [
              0.8888888888888888,
              "#fdca26"
             ],
             [
              1,
              "#f0f921"
             ]
            ],
            "type": "histogram2dcontour"
           }
          ],
          "mesh3d": [
           {
            "colorbar": {
             "outlinewidth": 0,
             "ticks": ""
            },
            "type": "mesh3d"
           }
          ],
          "parcoords": [
           {
            "line": {
             "colorbar": {
              "outlinewidth": 0,
              "ticks": ""
             }
            },
            "type": "parcoords"
           }
          ],
          "pie": [
           {
            "automargin": true,
            "type": "pie"
           }
          ],
          "scatter": [
           {
            "marker": {
             "colorbar": {
              "outlinewidth": 0,
              "ticks": ""
             }
            },
            "type": "scatter"
           }
          ],
          "scatter3d": [
           {
            "line": {
             "colorbar": {
              "outlinewidth": 0,
              "ticks": ""
             }
            },
            "marker": {
             "colorbar": {
              "outlinewidth": 0,
              "ticks": ""
             }
            },
            "type": "scatter3d"
           }
          ],
          "scattercarpet": [
           {
            "marker": {
             "colorbar": {
              "outlinewidth": 0,
              "ticks": ""
             }
            },
            "type": "scattercarpet"
           }
          ],
          "scattergeo": [
           {
            "marker": {
             "colorbar": {
              "outlinewidth": 0,
              "ticks": ""
             }
            },
            "type": "scattergeo"
           }
          ],
          "scattergl": [
           {
            "marker": {
             "colorbar": {
              "outlinewidth": 0,
              "ticks": ""
             }
            },
            "type": "scattergl"
           }
          ],
          "scattermapbox": [
           {
            "marker": {
             "colorbar": {
              "outlinewidth": 0,
              "ticks": ""
             }
            },
            "type": "scattermapbox"
           }
          ],
          "scatterpolar": [
           {
            "marker": {
             "colorbar": {
              "outlinewidth": 0,
              "ticks": ""
             }
            },
            "type": "scatterpolar"
           }
          ],
          "scatterpolargl": [
           {
            "marker": {
             "colorbar": {
              "outlinewidth": 0,
              "ticks": ""
             }
            },
            "type": "scatterpolargl"
           }
          ],
          "scatterternary": [
           {
            "marker": {
             "colorbar": {
              "outlinewidth": 0,
              "ticks": ""
             }
            },
            "type": "scatterternary"
           }
          ],
          "surface": [
           {
            "colorbar": {
             "outlinewidth": 0,
             "ticks": ""
            },
            "colorscale": [
             [
              0,
              "#0d0887"
             ],
             [
              0.1111111111111111,
              "#46039f"
             ],
             [
              0.2222222222222222,
              "#7201a8"
             ],
             [
              0.3333333333333333,
              "#9c179e"
             ],
             [
              0.4444444444444444,
              "#bd3786"
             ],
             [
              0.5555555555555556,
              "#d8576b"
             ],
             [
              0.6666666666666666,
              "#ed7953"
             ],
             [
              0.7777777777777778,
              "#fb9f3a"
             ],
             [
              0.8888888888888888,
              "#fdca26"
             ],
             [
              1,
              "#f0f921"
             ]
            ],
            "type": "surface"
           }
          ],
          "table": [
           {
            "cells": {
             "fill": {
              "color": "#EBF0F8"
             },
             "line": {
              "color": "white"
             }
            },
            "header": {
             "fill": {
              "color": "#C8D4E3"
             },
             "line": {
              "color": "white"
             }
            },
            "type": "table"
           }
          ]
         },
         "layout": {
          "annotationdefaults": {
           "arrowcolor": "#2a3f5f",
           "arrowhead": 0,
           "arrowwidth": 1
          },
          "autotypenumbers": "strict",
          "coloraxis": {
           "colorbar": {
            "outlinewidth": 0,
            "ticks": ""
           }
          },
          "colorscale": {
           "diverging": [
            [
             0,
             "#8e0152"
            ],
            [
             0.1,
             "#c51b7d"
            ],
            [
             0.2,
             "#de77ae"
            ],
            [
             0.3,
             "#f1b6da"
            ],
            [
             0.4,
             "#fde0ef"
            ],
            [
             0.5,
             "#f7f7f7"
            ],
            [
             0.6,
             "#e6f5d0"
            ],
            [
             0.7,
             "#b8e186"
            ],
            [
             0.8,
             "#7fbc41"
            ],
            [
             0.9,
             "#4d9221"
            ],
            [
             1,
             "#276419"
            ]
           ],
           "sequential": [
            [
             0,
             "#0d0887"
            ],
            [
             0.1111111111111111,
             "#46039f"
            ],
            [
             0.2222222222222222,
             "#7201a8"
            ],
            [
             0.3333333333333333,
             "#9c179e"
            ],
            [
             0.4444444444444444,
             "#bd3786"
            ],
            [
             0.5555555555555556,
             "#d8576b"
            ],
            [
             0.6666666666666666,
             "#ed7953"
            ],
            [
             0.7777777777777778,
             "#fb9f3a"
            ],
            [
             0.8888888888888888,
             "#fdca26"
            ],
            [
             1,
             "#f0f921"
            ]
           ],
           "sequentialminus": [
            [
             0,
             "#0d0887"
            ],
            [
             0.1111111111111111,
             "#46039f"
            ],
            [
             0.2222222222222222,
             "#7201a8"
            ],
            [
             0.3333333333333333,
             "#9c179e"
            ],
            [
             0.4444444444444444,
             "#bd3786"
            ],
            [
             0.5555555555555556,
             "#d8576b"
            ],
            [
             0.6666666666666666,
             "#ed7953"
            ],
            [
             0.7777777777777778,
             "#fb9f3a"
            ],
            [
             0.8888888888888888,
             "#fdca26"
            ],
            [
             1,
             "#f0f921"
            ]
           ]
          },
          "colorway": [
           "#636efa",
           "#EF553B",
           "#00cc96",
           "#ab63fa",
           "#FFA15A",
           "#19d3f3",
           "#FF6692",
           "#B6E880",
           "#FF97FF",
           "#FECB52"
          ],
          "font": {
           "color": "#2a3f5f"
          },
          "geo": {
           "bgcolor": "white",
           "lakecolor": "white",
           "landcolor": "#E5ECF6",
           "showlakes": true,
           "showland": true,
           "subunitcolor": "white"
          },
          "hoverlabel": {
           "align": "left"
          },
          "hovermode": "closest",
          "mapbox": {
           "style": "light"
          },
          "paper_bgcolor": "white",
          "plot_bgcolor": "#E5ECF6",
          "polar": {
           "angularaxis": {
            "gridcolor": "white",
            "linecolor": "white",
            "ticks": ""
           },
           "bgcolor": "#E5ECF6",
           "radialaxis": {
            "gridcolor": "white",
            "linecolor": "white",
            "ticks": ""
           }
          },
          "scene": {
           "xaxis": {
            "backgroundcolor": "#E5ECF6",
            "gridcolor": "white",
            "gridwidth": 2,
            "linecolor": "white",
            "showbackground": true,
            "ticks": "",
            "zerolinecolor": "white"
           },
           "yaxis": {
            "backgroundcolor": "#E5ECF6",
            "gridcolor": "white",
            "gridwidth": 2,
            "linecolor": "white",
            "showbackground": true,
            "ticks": "",
            "zerolinecolor": "white"
           },
           "zaxis": {
            "backgroundcolor": "#E5ECF6",
            "gridcolor": "white",
            "gridwidth": 2,
            "linecolor": "white",
            "showbackground": true,
            "ticks": "",
            "zerolinecolor": "white"
           }
          },
          "shapedefaults": {
           "line": {
            "color": "#2a3f5f"
           }
          },
          "ternary": {
           "aaxis": {
            "gridcolor": "white",
            "linecolor": "white",
            "ticks": ""
           },
           "baxis": {
            "gridcolor": "white",
            "linecolor": "white",
            "ticks": ""
           },
           "bgcolor": "#E5ECF6",
           "caxis": {
            "gridcolor": "white",
            "linecolor": "white",
            "ticks": ""
           }
          },
          "title": {
           "x": 0.05
          },
          "xaxis": {
           "automargin": true,
           "gridcolor": "white",
           "linecolor": "white",
           "ticks": "",
           "title": {
            "standoff": 15
           },
           "zerolinecolor": "white",
           "zerolinewidth": 2
          },
          "yaxis": {
           "automargin": true,
           "gridcolor": "white",
           "linecolor": "white",
           "ticks": "",
           "title": {
            "standoff": 15
           },
           "zerolinecolor": "white",
           "zerolinewidth": 2
          }
         }
        },
        "title": {
         "text": "TOP 10 CITIES IN THE WORLD WITH MORE UNICORNS"
        },
        "xaxis": {
         "anchor": "y",
         "domain": [
          0,
          1
         ],
         "title": {
          "text": "Country of origin"
         }
        },
        "yaxis": {
         "anchor": "x",
         "domain": [
          0,
          1
         ],
         "title": {
          "text": "count"
         }
        }
       }
      },
      "text/html": [
       "<div>                            <div id=\"9055d633-f0f8-4c80-96da-234eeea7998a\" class=\"plotly-graph-div\" style=\"height:525px; width:100%;\"></div>            <script type=\"text/javascript\">                require([\"plotly\"], function(Plotly) {                    window.PLOTLYENV=window.PLOTLYENV || {};                                    if (document.getElementById(\"9055d633-f0f8-4c80-96da-234eeea7998a\")) {                    Plotly.newPlot(                        \"9055d633-f0f8-4c80-96da-234eeea7998a\",                        [{\"alignmentgroup\":\"True\",\"bingroup\":\"x\",\"hovertemplate\":\"Country of origin=%{x}<br>count=%{y}<extra></extra>\",\"legendgroup\":\"\",\"marker\":{\"color\":\"#636efa\",\"pattern\":{\"shape\":\"\"}},\"name\":\"\",\"offsetgroup\":\"\",\"orientation\":\"v\",\"showlegend\":false,\"type\":\"histogram\",\"x\":[\"China\",\"United States\",\"United States\",\"China\",\"United States\",\"Brazil\",\"United States\",\"United States\",\"United States\",\"India\",\"India\",\"China\",\"China\",\"China\",\"United Kingdom\",\"United States\",\"United States\",\"United States\",\"China\",\"United States\",\"China\",\"China\",\"United States\",\"United States\",\"United Kingdom\",\"Germany\",\"United States\",\"United States\",\"United States\",\"United States\",\"United States\",\"United States\",\"China\",\"India\",\"United States\",\"United States\",\"United States\",\"China\",\"United States\",\"United States\",\"United States\",\"United States\",\"China\",\"United States\",\"United States\",\"United States\",\"United States\",\"China\",\"India\",\"United States\",\"India\",\"United States\",\"China\",\"United States\",\"United States\",\"China\",\"United States\",\"United States\",\"China\",\"China\",\"United States\",\"United States\",\"United Kingdom\",\"United Kingdom\",\"India\",\"United States\",\"Germany\",\"United Kingdom\",\"United States\",\"United States\",\"United Kingdom\",\"China\",\"China\",\"India\",\"South Korea\",\"United States\",\"United States\",\"China\",\"India\",\"United States\",\"United Kingdom\",\"United States\",\"United States\",\"United States\",\"United States\",\"China\",\"United States\",\"China\",\"United States\",\"China\",\"United States\",\"United States\",\"United States\",\"United States\",\"Canada\",\"United States\",\"United States\",\"South Korea\",\"China\",\"United States\",\"United Kingdom\",\"United States\",\"United States\",\"United States\",\"United States\",\"Canada\",\"United States\",\"United States\",\"United States\",\"Brazil\",\"United States\",\"United States\",\"United States\",\"United States\",\"United States\",\"United States\",\"United States\",\"United States\",\"United States\",\"Germany\",\"United States\",\"United States\",\"Germany\",\"United Kingdom\",\"China\",\"China\",\"United States\",\"United States\",\"United States\",\"United States\",\"United States\",\"China\",\"China\",\"United States\",\"United States\",\"United States\",\"United States\",\"France\",\"China\",\"India\",\"United States\",\"United States\",\"China\",\"United States\",\"China\",\"China\",\"China\",\"United Kingdom\",\"United States\",\"China\",\"United States\",\"United States\",\"China\",\"Brazil\",\"India\",\"United States\",\"United States\",\"United States\",\"United States\",\"India\",\"United States\",\"India\",\"Germany\",\"United States\",\"United States\",\"Brazil\",\"United States\",\"United States\",\"China\",\"United Kingdom\",\"United States\",\"United States\",\"France\",\"United States\",\"United Kingdom\",\"United States\",\"United States\",\"United States\",\"United States\",\"South Korea\",\"Canada\",\"China\",\"United States\",\"China\",\"China\",\"United Kingdom\",\"United Kingdom\",\"United States\",\"China\",\"China\",\"United States\",\"India\",\"United States\",\"United States\",\"United States\",\"United Kingdom\",\"South Korea\",\"United States\",\"United States\",\"United States\",\"United States\",\"United States\",\"United States\",\"India\",\"China\",\"United States\",\"United States\",\"United States\",\"Germany\",\"United States\",\"United States\",\"South Korea\",\"United States\",\"India\",\"United States\",\"China\",\"China\",\"United States\",\"United States\",\"India\",\"Brazil\",\"United States\",\"United States\",\"India\",\"India\",\"United States\",\"Germany\",\"United States\",\"China\",\"France\",\"United States\",\"China\",\"United States\",\"United Kingdom\",\"China\",\"United States\",\"China\",\"United States\",\"United States\",\"China\",\"United States\",\"United Kingdom\",\"China\",\"United States\",\"United States\",\"United States\",\"China\",\"China\",\"United States\",\"United States\",\"India\",\"China\",\"United States\",\"United States\",\"United States\",\"United States\",\"United States\",\"China\",\"Israel\",\"Germany\",\"Canada\",\"United States\",\"India\",\"United States\",\"United States\",\"United States\",\"United States\",\"United States\",\"United Kingdom\",\"United States\",\"India\",\"China\",\"Israel\",\"United States\",\"United States\",\"India\",\"United States\",\"United States\",\"China\",\"United States\",\"United States\",\"United States\",\"China\",\"United States\",\"United States\",\"Brazil\",\"Canada\",\"China\",\"United States\",\"United States\",\"United States\",\"United States\",\"United States\",\"United States\",\"United States\",\"Brazil\",\"United States\",\"United States\",\"Germany\",\"United States\",\"United States\",\"Israel\",\"United States\",\"United States\",\"France\",\"United States\",\"Germany\",\"United States\",\"China\",\"China\",\"United Kingdom\",\"United States\",\"China\",\"United States\",\"United States\",\"United States\",\"China\",\"United States\",\"United States\",\"United States\",\"United States\",\"Canada\",\"United States\",\"United States\",\"United States\",\"China\",\"United States\",\"China\",\"United States\",\"Israel\",\"China\",\"China\",\"Israel\",\"China\",\"United States\",\"China\",\"China\",\"China\",\"China\",\"United States\",\"United States\",\"United States\",\"India\",\"United States\",\"Canada\",\"France\",\"United States\",\"United States\",\"United States\",\"United States\",\"United States\",\"United States\",\"United States\",\"United States\",\"United States\",\"United States\",\"United States\",\"France\",\"China\",\"China\",\"China\",\"China\",\"China\",\"China\",\"United Kingdom\",\"United States\",\"United States\",\"United States\",\"China\",\"United States\",\"China\",\"China\",\"France\",\"United States\",\"France\",\"United States\",\"United States\",\"United States\",\"India\",\"United States\",\"United States\",\"United States\",\"United States\",\"United States\",\"Germany\",\"France\",\"China\",\"United States\",\"United States\",\"Israel\",\"United States\",\"United States\",\"United States\",\"South Korea\",\"China\",\"United States\",\"United States\",\"United States\",\"United States\",\"United States\",\"United States\",\"Israel\",\"United States\",\"United States\",\"China\",\"United States\",\"United States\",\"United States\",\"United States\",\"United States\",\"United States\",\"United States\",\"United Kingdom\",\"China\",\"United States\",\"United States\",\"United States\",\"United States\",\"United States\",\"United States\",\"United Kingdom\",\"United States\",\"China\",\"China\",\"United States\",\"United States\",\"United States\",\"United States\",\"United States\",\"United States\",\"United States\",\"United States\",\"United States\",\"United States\",\"United States\",\"United States\",\"Israel\",\"United States\",\"United States\",\"United States\",\"Canada\",\"United States\",\"United States\",\"United States\",\"South Korea\",\"China\",\"China\",\"United States\",\"China\",\"United States\",\"China\",\"United States\",\"China\",\"United States\",\"France\",\"Germany\",\"China\",\"United States\",\"United States\",\"China\",\"France\",\"United States\",\"Germany\",\"United States\",\"Canada\",\"United States\",\"United States\",\"United States\",\"United States\",\"United States\",\"United Kingdom\",\"United States\",\"United States\",\"United States\",\"United States\",\"China\",\"China\",\"United States\",\"United Kingdom\",\"India\",\"United States\",\"China\",\"United States\",\"China\",\"United States\",\"United States\",\"South Korea\",\"Israel\",\"China\",\"United States\",\"India\",\"United States\",\"India\",\"China\",\"United States\",\"China\",\"China\",\"China\",\"United Kingdom\",\"China\",\"United States\",\"China\",\"China\",\"China\",\"China\",\"China\",\"China\",\"United States\",\"United States\",\"United States\",\"China\",\"China\",\"United States\",\"China\",\"China\",\"China\",\"China\",\"United States\",\"United States\",\"United States\",\"China\",\"United States\",\"China\",\"China\",\"China\",\"China\",\"United States\",\"Brazil\",\"China\",\"United States\",\"China\",\"Germany\",\"China\",\"China\",\"United States\",\"China\",\"United States\",\"China\",\"China\",\"Germany\",\"China\",\"United States\",\"Brazil\",\"China\",\"United States\",\"United States\",\"France\",\"China\",\"China\",\"United States\",\"China\",\"China\",\"Brazil\",\"South Korea\",\"United States\",\"France\",\"China\",\"India\",\"Israel\",\"United States\",\"United States\",\"United Kingdom\",\"United States\",\"Brazil\",\"United States\",\"China\",\"United States\",\"United States\",\"United States\",\"United States\",\"United States\",\"United States\",\"United States\",\"United States\",\"Germany\",\"United States\",\"United States\",\"United States\",\"United States\",\"United States\",\"United States\",\"South Korea\",\"United States\",\"United States\",\"United Kingdom\",\"Israel\",\"India\",\"United States\",\"United States\",\"United States\",\"United States\",\"United States\",\"China\",\"United States\",\"India\",\"United States\",\"United States\",\"United States\",\"Brazil\",\"Germany\",\"United Kingdom\",\"United States\",\"United States\",\"Israel\",\"United States\",\"United States\",\"United States\",\"United States\",\"China\",\"United States\",\"India\",\"United States\",\"France\",\"United States\",\"United States\",\"Israel\",\"United States\",\"United States\",\"United States\",\"United States\",\"Canada\",\"United States\",\"Germany\",\"China\",\"United States\",\"United States\",\"India\",\"United States\",\"United States\",\"United States\",\"United States\",\"United States\",\"United Kingdom\",\"United States\",\"United States\",\"United States\",\"United States\",\"United States\",\"Canada\",\"France\",\"United States\",\"United States\",\"United States\",\"United States\",\"United States\",\"United States\",\"United States\",\"Israel\",\"United States\"],\"xaxis\":\"x\",\"yaxis\":\"y\"}],                        {\"barmode\":\"relative\",\"legend\":{\"tracegroupgap\":0},\"template\":{\"data\":{\"bar\":[{\"error_x\":{\"color\":\"#2a3f5f\"},\"error_y\":{\"color\":\"#2a3f5f\"},\"marker\":{\"line\":{\"color\":\"#E5ECF6\",\"width\":0.5},\"pattern\":{\"fillmode\":\"overlay\",\"size\":10,\"solidity\":0.2}},\"type\":\"bar\"}],\"barpolar\":[{\"marker\":{\"line\":{\"color\":\"#E5ECF6\",\"width\":0.5},\"pattern\":{\"fillmode\":\"overlay\",\"size\":10,\"solidity\":0.2}},\"type\":\"barpolar\"}],\"carpet\":[{\"aaxis\":{\"endlinecolor\":\"#2a3f5f\",\"gridcolor\":\"white\",\"linecolor\":\"white\",\"minorgridcolor\":\"white\",\"startlinecolor\":\"#2a3f5f\"},\"baxis\":{\"endlinecolor\":\"#2a3f5f\",\"gridcolor\":\"white\",\"linecolor\":\"white\",\"minorgridcolor\":\"white\",\"startlinecolor\":\"#2a3f5f\"},\"type\":\"carpet\"}],\"choropleth\":[{\"colorbar\":{\"outlinewidth\":0,\"ticks\":\"\"},\"type\":\"choropleth\"}],\"contour\":[{\"colorbar\":{\"outlinewidth\":0,\"ticks\":\"\"},\"colorscale\":[[0.0,\"#0d0887\"],[0.1111111111111111,\"#46039f\"],[0.2222222222222222,\"#7201a8\"],[0.3333333333333333,\"#9c179e\"],[0.4444444444444444,\"#bd3786\"],[0.5555555555555556,\"#d8576b\"],[0.6666666666666666,\"#ed7953\"],[0.7777777777777778,\"#fb9f3a\"],[0.8888888888888888,\"#fdca26\"],[1.0,\"#f0f921\"]],\"type\":\"contour\"}],\"contourcarpet\":[{\"colorbar\":{\"outlinewidth\":0,\"ticks\":\"\"},\"type\":\"contourcarpet\"}],\"heatmap\":[{\"colorbar\":{\"outlinewidth\":0,\"ticks\":\"\"},\"colorscale\":[[0.0,\"#0d0887\"],[0.1111111111111111,\"#46039f\"],[0.2222222222222222,\"#7201a8\"],[0.3333333333333333,\"#9c179e\"],[0.4444444444444444,\"#bd3786\"],[0.5555555555555556,\"#d8576b\"],[0.6666666666666666,\"#ed7953\"],[0.7777777777777778,\"#fb9f3a\"],[0.8888888888888888,\"#fdca26\"],[1.0,\"#f0f921\"]],\"type\":\"heatmap\"}],\"heatmapgl\":[{\"colorbar\":{\"outlinewidth\":0,\"ticks\":\"\"},\"colorscale\":[[0.0,\"#0d0887\"],[0.1111111111111111,\"#46039f\"],[0.2222222222222222,\"#7201a8\"],[0.3333333333333333,\"#9c179e\"],[0.4444444444444444,\"#bd3786\"],[0.5555555555555556,\"#d8576b\"],[0.6666666666666666,\"#ed7953\"],[0.7777777777777778,\"#fb9f3a\"],[0.8888888888888888,\"#fdca26\"],[1.0,\"#f0f921\"]],\"type\":\"heatmapgl\"}],\"histogram\":[{\"marker\":{\"pattern\":{\"fillmode\":\"overlay\",\"size\":10,\"solidity\":0.2}},\"type\":\"histogram\"}],\"histogram2d\":[{\"colorbar\":{\"outlinewidth\":0,\"ticks\":\"\"},\"colorscale\":[[0.0,\"#0d0887\"],[0.1111111111111111,\"#46039f\"],[0.2222222222222222,\"#7201a8\"],[0.3333333333333333,\"#9c179e\"],[0.4444444444444444,\"#bd3786\"],[0.5555555555555556,\"#d8576b\"],[0.6666666666666666,\"#ed7953\"],[0.7777777777777778,\"#fb9f3a\"],[0.8888888888888888,\"#fdca26\"],[1.0,\"#f0f921\"]],\"type\":\"histogram2d\"}],\"histogram2dcontour\":[{\"colorbar\":{\"outlinewidth\":0,\"ticks\":\"\"},\"colorscale\":[[0.0,\"#0d0887\"],[0.1111111111111111,\"#46039f\"],[0.2222222222222222,\"#7201a8\"],[0.3333333333333333,\"#9c179e\"],[0.4444444444444444,\"#bd3786\"],[0.5555555555555556,\"#d8576b\"],[0.6666666666666666,\"#ed7953\"],[0.7777777777777778,\"#fb9f3a\"],[0.8888888888888888,\"#fdca26\"],[1.0,\"#f0f921\"]],\"type\":\"histogram2dcontour\"}],\"mesh3d\":[{\"colorbar\":{\"outlinewidth\":0,\"ticks\":\"\"},\"type\":\"mesh3d\"}],\"parcoords\":[{\"line\":{\"colorbar\":{\"outlinewidth\":0,\"ticks\":\"\"}},\"type\":\"parcoords\"}],\"pie\":[{\"automargin\":true,\"type\":\"pie\"}],\"scatter\":[{\"marker\":{\"colorbar\":{\"outlinewidth\":0,\"ticks\":\"\"}},\"type\":\"scatter\"}],\"scatter3d\":[{\"line\":{\"colorbar\":{\"outlinewidth\":0,\"ticks\":\"\"}},\"marker\":{\"colorbar\":{\"outlinewidth\":0,\"ticks\":\"\"}},\"type\":\"scatter3d\"}],\"scattercarpet\":[{\"marker\":{\"colorbar\":{\"outlinewidth\":0,\"ticks\":\"\"}},\"type\":\"scattercarpet\"}],\"scattergeo\":[{\"marker\":{\"colorbar\":{\"outlinewidth\":0,\"ticks\":\"\"}},\"type\":\"scattergeo\"}],\"scattergl\":[{\"marker\":{\"colorbar\":{\"outlinewidth\":0,\"ticks\":\"\"}},\"type\":\"scattergl\"}],\"scattermapbox\":[{\"marker\":{\"colorbar\":{\"outlinewidth\":0,\"ticks\":\"\"}},\"type\":\"scattermapbox\"}],\"scatterpolar\":[{\"marker\":{\"colorbar\":{\"outlinewidth\":0,\"ticks\":\"\"}},\"type\":\"scatterpolar\"}],\"scatterpolargl\":[{\"marker\":{\"colorbar\":{\"outlinewidth\":0,\"ticks\":\"\"}},\"type\":\"scatterpolargl\"}],\"scatterternary\":[{\"marker\":{\"colorbar\":{\"outlinewidth\":0,\"ticks\":\"\"}},\"type\":\"scatterternary\"}],\"surface\":[{\"colorbar\":{\"outlinewidth\":0,\"ticks\":\"\"},\"colorscale\":[[0.0,\"#0d0887\"],[0.1111111111111111,\"#46039f\"],[0.2222222222222222,\"#7201a8\"],[0.3333333333333333,\"#9c179e\"],[0.4444444444444444,\"#bd3786\"],[0.5555555555555556,\"#d8576b\"],[0.6666666666666666,\"#ed7953\"],[0.7777777777777778,\"#fb9f3a\"],[0.8888888888888888,\"#fdca26\"],[1.0,\"#f0f921\"]],\"type\":\"surface\"}],\"table\":[{\"cells\":{\"fill\":{\"color\":\"#EBF0F8\"},\"line\":{\"color\":\"white\"}},\"header\":{\"fill\":{\"color\":\"#C8D4E3\"},\"line\":{\"color\":\"white\"}},\"type\":\"table\"}]},\"layout\":{\"annotationdefaults\":{\"arrowcolor\":\"#2a3f5f\",\"arrowhead\":0,\"arrowwidth\":1},\"autotypenumbers\":\"strict\",\"coloraxis\":{\"colorbar\":{\"outlinewidth\":0,\"ticks\":\"\"}},\"colorscale\":{\"diverging\":[[0,\"#8e0152\"],[0.1,\"#c51b7d\"],[0.2,\"#de77ae\"],[0.3,\"#f1b6da\"],[0.4,\"#fde0ef\"],[0.5,\"#f7f7f7\"],[0.6,\"#e6f5d0\"],[0.7,\"#b8e186\"],[0.8,\"#7fbc41\"],[0.9,\"#4d9221\"],[1,\"#276419\"]],\"sequential\":[[0.0,\"#0d0887\"],[0.1111111111111111,\"#46039f\"],[0.2222222222222222,\"#7201a8\"],[0.3333333333333333,\"#9c179e\"],[0.4444444444444444,\"#bd3786\"],[0.5555555555555556,\"#d8576b\"],[0.6666666666666666,\"#ed7953\"],[0.7777777777777778,\"#fb9f3a\"],[0.8888888888888888,\"#fdca26\"],[1.0,\"#f0f921\"]],\"sequentialminus\":[[0.0,\"#0d0887\"],[0.1111111111111111,\"#46039f\"],[0.2222222222222222,\"#7201a8\"],[0.3333333333333333,\"#9c179e\"],[0.4444444444444444,\"#bd3786\"],[0.5555555555555556,\"#d8576b\"],[0.6666666666666666,\"#ed7953\"],[0.7777777777777778,\"#fb9f3a\"],[0.8888888888888888,\"#fdca26\"],[1.0,\"#f0f921\"]]},\"colorway\":[\"#636efa\",\"#EF553B\",\"#00cc96\",\"#ab63fa\",\"#FFA15A\",\"#19d3f3\",\"#FF6692\",\"#B6E880\",\"#FF97FF\",\"#FECB52\"],\"font\":{\"color\":\"#2a3f5f\"},\"geo\":{\"bgcolor\":\"white\",\"lakecolor\":\"white\",\"landcolor\":\"#E5ECF6\",\"showlakes\":true,\"showland\":true,\"subunitcolor\":\"white\"},\"hoverlabel\":{\"align\":\"left\"},\"hovermode\":\"closest\",\"mapbox\":{\"style\":\"light\"},\"paper_bgcolor\":\"white\",\"plot_bgcolor\":\"#E5ECF6\",\"polar\":{\"angularaxis\":{\"gridcolor\":\"white\",\"linecolor\":\"white\",\"ticks\":\"\"},\"bgcolor\":\"#E5ECF6\",\"radialaxis\":{\"gridcolor\":\"white\",\"linecolor\":\"white\",\"ticks\":\"\"}},\"scene\":{\"xaxis\":{\"backgroundcolor\":\"#E5ECF6\",\"gridcolor\":\"white\",\"gridwidth\":2,\"linecolor\":\"white\",\"showbackground\":true,\"ticks\":\"\",\"zerolinecolor\":\"white\"},\"yaxis\":{\"backgroundcolor\":\"#E5ECF6\",\"gridcolor\":\"white\",\"gridwidth\":2,\"linecolor\":\"white\",\"showbackground\":true,\"ticks\":\"\",\"zerolinecolor\":\"white\"},\"zaxis\":{\"backgroundcolor\":\"#E5ECF6\",\"gridcolor\":\"white\",\"gridwidth\":2,\"linecolor\":\"white\",\"showbackground\":true,\"ticks\":\"\",\"zerolinecolor\":\"white\"}},\"shapedefaults\":{\"line\":{\"color\":\"#2a3f5f\"}},\"ternary\":{\"aaxis\":{\"gridcolor\":\"white\",\"linecolor\":\"white\",\"ticks\":\"\"},\"baxis\":{\"gridcolor\":\"white\",\"linecolor\":\"white\",\"ticks\":\"\"},\"bgcolor\":\"#E5ECF6\",\"caxis\":{\"gridcolor\":\"white\",\"linecolor\":\"white\",\"ticks\":\"\"}},\"title\":{\"x\":0.05},\"xaxis\":{\"automargin\":true,\"gridcolor\":\"white\",\"linecolor\":\"white\",\"ticks\":\"\",\"title\":{\"standoff\":15},\"zerolinecolor\":\"white\",\"zerolinewidth\":2},\"yaxis\":{\"automargin\":true,\"gridcolor\":\"white\",\"linecolor\":\"white\",\"ticks\":\"\",\"title\":{\"standoff\":15},\"zerolinecolor\":\"white\",\"zerolinewidth\":2}}},\"title\":{\"text\":\"TOP 10 CITIES IN THE WORLD WITH MORE UNICORNS\"},\"xaxis\":{\"anchor\":\"y\",\"domain\":[0.0,1.0],\"title\":{\"text\":\"Country of origin\"}},\"yaxis\":{\"anchor\":\"x\",\"domain\":[0.0,1.0],\"title\":{\"text\":\"count\"}}},                        {\"responsive\": true}                    ).then(function(){\n",
       "                            \n",
       "var gd = document.getElementById('9055d633-f0f8-4c80-96da-234eeea7998a');\n",
       "var x = new MutationObserver(function (mutations, observer) {{\n",
       "        var display = window.getComputedStyle(gd).display;\n",
       "        if (!display || display === 'none') {{\n",
       "            console.log([gd, 'removed!']);\n",
       "            Plotly.purge(gd);\n",
       "            observer.disconnect();\n",
       "        }}\n",
       "}});\n",
       "\n",
       "// Listen for the removal of the full notebook cells\n",
       "var notebookContainer = gd.closest('#notebook-container');\n",
       "if (notebookContainer) {{\n",
       "    x.observe(notebookContainer, {childList: true});\n",
       "}}\n",
       "\n",
       "// Listen for the clearing of the current output cell\n",
       "var outputEl = gd.closest('.output');\n",
       "if (outputEl) {{\n",
       "    x.observe(outputEl, {childList: true});\n",
       "}}\n",
       "\n",
       "                        })                };                });            </script>        </div>"
      ]
     },
     "metadata": {},
     "output_type": "display_data"
    }
   ],
   "source": [
    "best_country.show()"
   ]
  },
  {
   "cell_type": "markdown",
   "id": "59ab572c",
   "metadata": {},
   "source": [
    "#### THE COUNTRIES WITH THE HIGHEST NUMBER OF UNICORNS MATCH WITH THE HIGHEST NUMBER OF UNIVERSITIES\n",
    "+ ###### CORRECT, FOR THE FIRST TWO CASES.\n",
    "+ ###### TOP 5 UNICORN COUNTRIES (USA | CHINA | INDIA | UK | GERMANY)\n",
    "+ ###### TOP 5 UNIVERSITIES COUNTRIES (USA | CHINA | JAPON | UK | FRANCE)\n",
    "+ ###### JAPON & FRANCE DOESN´T MATCH WITH THE TOP UNIVERSITIES \n",
    "***"
   ]
  }
 ],
 "metadata": {
  "kernelspec": {
   "display_name": "ironhack",
   "language": "python",
   "name": "ironhack"
  },
  "language_info": {
   "codemirror_mode": {
    "name": "ipython",
    "version": 3
   },
   "file_extension": ".py",
   "mimetype": "text/x-python",
   "name": "python",
   "nbconvert_exporter": "python",
   "pygments_lexer": "ipython3",
   "version": "3.8.12"
  }
 },
 "nbformat": 4,
 "nbformat_minor": 5
}
