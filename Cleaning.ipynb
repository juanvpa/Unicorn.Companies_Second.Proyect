{
 "cells": [
  {
   "cell_type": "markdown",
   "id": "dce4c407",
   "metadata": {},
   "source": [
    "### UNICORN COMPANIES DATA CLEANNING"
   ]
  },
  {
   "cell_type": "markdown",
   "id": "9cc35c10",
   "metadata": {},
   "source": [
    "#### IMPORT LIBRARY"
   ]
  },
  {
   "cell_type": "code",
   "execution_count": 1,
   "id": "0b0a5965",
   "metadata": {},
   "outputs": [],
   "source": [
    "import numpy as np\n",
    "import pandas as pd\n",
    "import SRC.Cleaning as fc"
   ]
  },
  {
   "cell_type": "code",
   "execution_count": 77,
   "id": "727a5d2e",
   "metadata": {},
   "outputs": [
    {
     "name": "stdout",
     "output_type": "stream",
     "text": [
      "Requirement already satisfied: numpy in /usr/local/Caskroom/miniconda/base/envs/ironhack/lib/python3.8/site-packages (1.21.3)\n",
      "Requirement already satisfied: pandas in /usr/local/Caskroom/miniconda/base/envs/ironhack/lib/python3.8/site-packages (1.3.4)\n",
      "Requirement already satisfied: numpy>=1.17.3 in /usr/local/Caskroom/miniconda/base/envs/ironhack/lib/python3.8/site-packages (from pandas) (1.21.3)\n",
      "Requirement already satisfied: pytz>=2017.3 in /usr/local/Caskroom/miniconda/base/envs/ironhack/lib/python3.8/site-packages (from pandas) (2021.3)\n",
      "Requirement already satisfied: python-dateutil>=2.7.3 in /usr/local/Caskroom/miniconda/base/envs/ironhack/lib/python3.8/site-packages (from pandas) (2.8.2)\n",
      "Requirement already satisfied: six>=1.5 in /usr/local/Caskroom/miniconda/base/envs/ironhack/lib/python3.8/site-packages (from python-dateutil>=2.7.3->pandas) (1.16.0)\n"
     ]
    }
   ],
   "source": [
    "!pip install numpy\n",
    "!pip install pandas"
   ]
  },
  {
   "cell_type": "markdown",
   "id": "3aa8fd0a",
   "metadata": {},
   "source": [
    "#### IMPORT THE DATAFRAME TO CLEAN IT"
   ]
  },
  {
   "cell_type": "code",
   "execution_count": 18,
   "id": "fe6f9280",
   "metadata": {},
   "outputs": [],
   "source": [
    "unicorn = pd.read_csv(\"Data/Unicorns.csv\",encoding = \"ISO-8859-1\")"
   ]
  },
  {
   "cell_type": "markdown",
   "id": "0debd398",
   "metadata": {},
   "source": [
    "#### CHECKING HEAD"
   ]
  },
  {
   "cell_type": "code",
   "execution_count": 19,
   "id": "a93914a0",
   "metadata": {},
   "outputs": [
    {
     "data": {
      "text/html": [
       "<div>\n",
       "<style scoped>\n",
       "    .dataframe tbody tr th:only-of-type {\n",
       "        vertical-align: middle;\n",
       "    }\n",
       "\n",
       "    .dataframe tbody tr th {\n",
       "        vertical-align: top;\n",
       "    }\n",
       "\n",
       "    .dataframe thead th {\n",
       "        text-align: right;\n",
       "    }\n",
       "</style>\n",
       "<table border=\"1\" class=\"dataframe\">\n",
       "  <thead>\n",
       "    <tr style=\"text-align: right;\">\n",
       "      <th></th>\n",
       "      <th>Company name</th>\n",
       "      <th>Valuation (in $B)</th>\n",
       "      <th>Date Joined</th>\n",
       "      <th>Country of origin</th>\n",
       "      <th>City</th>\n",
       "      <th>Industry</th>\n",
       "      <th>Investors</th>\n",
       "    </tr>\n",
       "  </thead>\n",
       "  <tbody>\n",
       "    <tr>\n",
       "      <th>0</th>\n",
       "      <td>Bytedance</td>\n",
       "      <td>$140</td>\n",
       "      <td>04-07-2017</td>\n",
       "      <td>China</td>\n",
       "      <td>Beijing</td>\n",
       "      <td>Artificial intelligence</td>\n",
       "      <td>Sequoia Capital China, SIG Asia Investments, S...</td>\n",
       "    </tr>\n",
       "    <tr>\n",
       "      <th>1</th>\n",
       "      <td>Stripe</td>\n",
       "      <td>$95</td>\n",
       "      <td>1/23/2014</td>\n",
       "      <td>United States</td>\n",
       "      <td>San Francisco</td>\n",
       "      <td>Fintech</td>\n",
       "      <td>Khosla Ventures, LowercaseCapital, capitalG</td>\n",
       "    </tr>\n",
       "    <tr>\n",
       "      <th>2</th>\n",
       "      <td>SpaceX</td>\n",
       "      <td>$74</td>\n",
       "      <td>12-01-2012</td>\n",
       "      <td>United States</td>\n",
       "      <td>Hawthorne</td>\n",
       "      <td>Other</td>\n",
       "      <td>Founders Fund, Draper Fisher Jurvetson, Rothen...</td>\n",
       "    </tr>\n",
       "  </tbody>\n",
       "</table>\n",
       "</div>"
      ],
      "text/plain": [
       "  Company name Valuation (in $B) Date Joined Country of origin           City  \\\n",
       "0    Bytedance              $140  04-07-2017             China        Beijing   \n",
       "1       Stripe               $95   1/23/2014     United States  San Francisco   \n",
       "2       SpaceX               $74  12-01-2012     United States      Hawthorne   \n",
       "\n",
       "                  Industry                                          Investors  \n",
       "0  Artificial intelligence  Sequoia Capital China, SIG Asia Investments, S...  \n",
       "1                  Fintech        Khosla Ventures, LowercaseCapital, capitalG  \n",
       "2                    Other  Founders Fund, Draper Fisher Jurvetson, Rothen...  "
      ]
     },
     "metadata": {},
     "output_type": "display_data"
    }
   ],
   "source": [
    "display(unicorn.head(3))"
   ]
  },
  {
   "cell_type": "markdown",
   "id": "a1aea13b",
   "metadata": {},
   "source": [
    "#### CHECKING SHAPE"
   ]
  },
  {
   "cell_type": "code",
   "execution_count": 20,
   "id": "78db4d25",
   "metadata": {},
   "outputs": [
    {
     "data": {
      "text/plain": [
       "(708, 7)"
      ]
     },
     "metadata": {},
     "output_type": "display_data"
    }
   ],
   "source": [
    "display(unicorn.shape)"
   ]
  },
  {
   "cell_type": "markdown",
   "id": "b1ae9296",
   "metadata": {},
   "source": [
    "#### CHECKING NULL"
   ]
  },
  {
   "cell_type": "code",
   "execution_count": 21,
   "id": "a4b7d1e8",
   "metadata": {},
   "outputs": [
    {
     "data": {
      "text/plain": [
       "Company name         0\n",
       "Valuation (in $B)    0\n",
       "Date Joined          0\n",
       "Country of origin    0\n",
       "City                 9\n",
       "Industry             0\n",
       "Investors            1\n",
       "dtype: int64"
      ]
     },
     "metadata": {},
     "output_type": "display_data"
    }
   ],
   "source": [
    "display(unicorn.isnull().sum())"
   ]
  },
  {
   "cell_type": "markdown",
   "id": "8cb9c733",
   "metadata": {},
   "source": [
    "#### CHECKING 'Company Name' DUPLICATES, SINCE IS THE ONLY ONE THAT CAN NOT HAVE DUPLICATES.\n",
    "\n"
   ]
  },
  {
   "cell_type": "code",
   "execution_count": 22,
   "id": "c9b82889",
   "metadata": {},
   "outputs": [
    {
     "data": {
      "text/plain": [
       "0"
      ]
     },
     "metadata": {},
     "output_type": "display_data"
    }
   ],
   "source": [
    "display(unicorn['Company name'].duplicated().sum())"
   ]
  },
  {
   "cell_type": "markdown",
   "id": "3d607b33",
   "metadata": {},
   "source": [
    "#### NEED TO ADD A NEW COLUMN FORMATING DATE TO YEAR"
   ]
  },
  {
   "cell_type": "code",
   "execution_count": 23,
   "id": "1d215d1e",
   "metadata": {},
   "outputs": [],
   "source": [
    "# print(dates)"
   ]
  },
  {
   "cell_type": "code",
   "execution_count": 24,
   "id": "b7b1847d",
   "metadata": {},
   "outputs": [],
   "source": [
    "unicorn[\"Date\"] = unicorn[\"Date Joined\"].str[-4:]"
   ]
  },
  {
   "cell_type": "code",
   "execution_count": 29,
   "id": "8a2416e9",
   "metadata": {},
   "outputs": [
    {
     "data": {
      "text/html": [
       "<div>\n",
       "<style scoped>\n",
       "    .dataframe tbody tr th:only-of-type {\n",
       "        vertical-align: middle;\n",
       "    }\n",
       "\n",
       "    .dataframe tbody tr th {\n",
       "        vertical-align: top;\n",
       "    }\n",
       "\n",
       "    .dataframe thead th {\n",
       "        text-align: right;\n",
       "    }\n",
       "</style>\n",
       "<table border=\"1\" class=\"dataframe\">\n",
       "  <thead>\n",
       "    <tr style=\"text-align: right;\">\n",
       "      <th></th>\n",
       "      <th>Company name</th>\n",
       "      <th>Valuation (in $B)</th>\n",
       "      <th>Date Joined</th>\n",
       "      <th>Country of origin</th>\n",
       "      <th>City</th>\n",
       "      <th>Industry</th>\n",
       "      <th>Investors</th>\n",
       "      <th>Date</th>\n",
       "    </tr>\n",
       "  </thead>\n",
       "  <tbody>\n",
       "    <tr>\n",
       "      <th>652</th>\n",
       "      <td>Quantum Metric</td>\n",
       "      <td>$1</td>\n",
       "      <td>01-07-2021</td>\n",
       "      <td>United States</td>\n",
       "      <td>Colorado Springs</td>\n",
       "      <td>Data management &amp; analytics</td>\n",
       "      <td>Insight Partners, Bain Capital Ventures</td>\n",
       "      <td>2021</td>\n",
       "    </tr>\n",
       "    <tr>\n",
       "      <th>589</th>\n",
       "      <td>iFood</td>\n",
       "      <td>$1</td>\n",
       "      <td>11/13/2018</td>\n",
       "      <td>Brazil</td>\n",
       "      <td>Osasco</td>\n",
       "      <td>Supply chain, logistics, &amp; delivery</td>\n",
       "      <td>Movile, Just Eat, Naspers</td>\n",
       "      <td>2018</td>\n",
       "    </tr>\n",
       "    <tr>\n",
       "      <th>593</th>\n",
       "      <td>Ynsect</td>\n",
       "      <td>$1</td>\n",
       "      <td>2/21/2019</td>\n",
       "      <td>France</td>\n",
       "      <td>Evry</td>\n",
       "      <td>Other</td>\n",
       "      <td>Astanor Ventures, Upfront Ventures, IDInvest P...</td>\n",
       "      <td>2019</td>\n",
       "    </tr>\n",
       "    <tr>\n",
       "      <th>674</th>\n",
       "      <td>Lattice</td>\n",
       "      <td>$1</td>\n",
       "      <td>3/23/2021</td>\n",
       "      <td>United States</td>\n",
       "      <td>San Francisco</td>\n",
       "      <td>Internet software &amp; services</td>\n",
       "      <td>Khosla Ventures, Thrive Capital, Y Combinator</td>\n",
       "      <td>2021</td>\n",
       "    </tr>\n",
       "    <tr>\n",
       "      <th>143</th>\n",
       "      <td>Scopely</td>\n",
       "      <td>$3.3</td>\n",
       "      <td>10/29/2019</td>\n",
       "      <td>United States</td>\n",
       "      <td>Culver City</td>\n",
       "      <td>Mobile &amp; telecommunications</td>\n",
       "      <td>Greycroft, Sands Capital, Revolution Growth</td>\n",
       "      <td>2019</td>\n",
       "    </tr>\n",
       "  </tbody>\n",
       "</table>\n",
       "</div>"
      ],
      "text/plain": [
       "       Company name Valuation (in $B) Date Joined Country of origin  \\\n",
       "652  Quantum Metric                $1  01-07-2021     United States   \n",
       "589           iFood                $1  11/13/2018            Brazil   \n",
       "593          Ynsect                $1   2/21/2019            France   \n",
       "674         Lattice                $1   3/23/2021     United States   \n",
       "143         Scopely              $3.3  10/29/2019     United States   \n",
       "\n",
       "                 City                             Industry  \\\n",
       "652  Colorado Springs          Data management & analytics   \n",
       "589            Osasco  Supply chain, logistics, & delivery   \n",
       "593              Evry                                Other   \n",
       "674     San Francisco         Internet software & services   \n",
       "143       Culver City          Mobile & telecommunications   \n",
       "\n",
       "                                             Investors  Date  \n",
       "652            Insight Partners, Bain Capital Ventures  2021  \n",
       "589                          Movile, Just Eat, Naspers  2018  \n",
       "593  Astanor Ventures, Upfront Ventures, IDInvest P...  2019  \n",
       "674      Khosla Ventures, Thrive Capital, Y Combinator  2021  \n",
       "143        Greycroft, Sands Capital, Revolution Growth  2019  "
      ]
     },
     "metadata": {},
     "output_type": "display_data"
    }
   ],
   "source": [
    "display(unicorn.sample(5))"
   ]
  },
  {
   "cell_type": "markdown",
   "id": "909c6020",
   "metadata": {},
   "source": [
    "#### CLEANNING DATAFRAME POST DEFINITION OF HYPOTHESIS\n"
   ]
  },
  {
   "cell_type": "markdown",
   "id": "5f2963a8",
   "metadata": {},
   "source": [
    "#### LIST OF COLUMNS TO DROP"
   ]
  },
  {
   "cell_type": "code",
   "execution_count": 26,
   "id": "04b57031",
   "metadata": {},
   "outputs": [],
   "source": [
    "column = [\"Date Joined\", \n",
    "          \"Investors\"]\n",
    "\n",
    "# DROP \n",
    "\n",
    "unicorn2 = unicorn.drop(column,axis=1)"
   ]
  },
  {
   "cell_type": "code",
   "execution_count": 27,
   "id": "807184d5",
   "metadata": {},
   "outputs": [
    {
     "data": {
      "text/html": [
       "<div>\n",
       "<style scoped>\n",
       "    .dataframe tbody tr th:only-of-type {\n",
       "        vertical-align: middle;\n",
       "    }\n",
       "\n",
       "    .dataframe tbody tr th {\n",
       "        vertical-align: top;\n",
       "    }\n",
       "\n",
       "    .dataframe thead th {\n",
       "        text-align: right;\n",
       "    }\n",
       "</style>\n",
       "<table border=\"1\" class=\"dataframe\">\n",
       "  <thead>\n",
       "    <tr style=\"text-align: right;\">\n",
       "      <th></th>\n",
       "      <th>Company name</th>\n",
       "      <th>Valuation (in $B)</th>\n",
       "      <th>Country of origin</th>\n",
       "      <th>City</th>\n",
       "      <th>Industry</th>\n",
       "      <th>Date</th>\n",
       "    </tr>\n",
       "  </thead>\n",
       "  <tbody>\n",
       "    <tr>\n",
       "      <th>183</th>\n",
       "      <td>Bird Rides</td>\n",
       "      <td>$2.85</td>\n",
       "      <td>United States</td>\n",
       "      <td>Santa Monica</td>\n",
       "      <td>Auto &amp; transportation</td>\n",
       "      <td>2018</td>\n",
       "    </tr>\n",
       "    <tr>\n",
       "      <th>279</th>\n",
       "      <td>Virta Health</td>\n",
       "      <td>$2</td>\n",
       "      <td>United States</td>\n",
       "      <td>San Francisco</td>\n",
       "      <td>Health</td>\n",
       "      <td>2020</td>\n",
       "    </tr>\n",
       "    <tr>\n",
       "      <th>47</th>\n",
       "      <td>Argo AI</td>\n",
       "      <td>$7.25</td>\n",
       "      <td>United States</td>\n",
       "      <td>Pittsburgh</td>\n",
       "      <td>Artificial intelligence</td>\n",
       "      <td>2019</td>\n",
       "    </tr>\n",
       "    <tr>\n",
       "      <th>2</th>\n",
       "      <td>SpaceX</td>\n",
       "      <td>$74</td>\n",
       "      <td>United States</td>\n",
       "      <td>Hawthorne</td>\n",
       "      <td>Other</td>\n",
       "      <td>2012</td>\n",
       "    </tr>\n",
       "    <tr>\n",
       "      <th>129</th>\n",
       "      <td>Relativity</td>\n",
       "      <td>$3.6</td>\n",
       "      <td>United States</td>\n",
       "      <td>Chicago</td>\n",
       "      <td>Internet software &amp; services</td>\n",
       "      <td>2021</td>\n",
       "    </tr>\n",
       "  </tbody>\n",
       "</table>\n",
       "</div>"
      ],
      "text/plain": [
       "     Company name Valuation (in $B) Country of origin           City  \\\n",
       "183    Bird Rides             $2.85     United States   Santa Monica   \n",
       "279  Virta Health                $2     United States  San Francisco   \n",
       "47        Argo AI             $7.25     United States     Pittsburgh   \n",
       "2          SpaceX               $74     United States      Hawthorne   \n",
       "129    Relativity              $3.6     United States        Chicago   \n",
       "\n",
       "                         Industry  Date  \n",
       "183         Auto & transportation  2018  \n",
       "279                        Health  2020  \n",
       "47        Artificial intelligence  2019  \n",
       "2                           Other  2012  \n",
       "129  Internet software & services  2021  "
      ]
     },
     "metadata": {},
     "output_type": "display_data"
    }
   ],
   "source": [
    "display(unicorn2.sample(5))"
   ]
  },
  {
   "cell_type": "markdown",
   "id": "57b53d68",
   "metadata": {},
   "source": [
    "#### EXPORT THE FINAL DATAFRAME AS CSV"
   ]
  },
  {
   "cell_type": "code",
   "execution_count": 28,
   "id": "9f099e72",
   "metadata": {},
   "outputs": [],
   "source": [
    "unicorn2.to_csv('data/Unicorn2.csv')"
   ]
  }
 ],
 "metadata": {
  "kernelspec": {
   "display_name": "ironhack",
   "language": "python",
   "name": "ironhack"
  },
  "language_info": {
   "codemirror_mode": {
    "name": "ipython",
    "version": 3
   },
   "file_extension": ".py",
   "mimetype": "text/x-python",
   "name": "python",
   "nbconvert_exporter": "python",
   "pygments_lexer": "ipython3",
   "version": "3.8.12"
  }
 },
 "nbformat": 4,
 "nbformat_minor": 5
}
